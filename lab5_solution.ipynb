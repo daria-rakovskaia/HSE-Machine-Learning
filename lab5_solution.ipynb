{
  "nbformat": 4,
  "nbformat_minor": 0,
  "metadata": {
    "colab": {
      "provenance": []
    },
    "kernelspec": {
      "name": "python3",
      "display_name": "Python 3"
    },
    "language_info": {
      "name": "python"
    }
  },
  "cells": [
    {
      "cell_type": "code",
      "execution_count": 426,
      "metadata": {
        "id": "_hfU8i8TFxRl"
      },
      "outputs": [],
      "source": [
        "import pandas as pd\n",
        "import numpy as np\n",
        "import plotly.graph_objects as go\n",
        "from sklearn.metrics import mean_squared_error\n",
        "from math import sqrt"
      ]
    },
    {
      "cell_type": "code",
      "source": [
        "data = pd.read_csv(\"stock.csv\")\n",
        "data.drop_duplicates()\n",
        "data[\"Date\"] = data[\"Date\"].apply(pd.to_datetime)\n",
        "data[\"Date\"] = (data[\"Date\"]).astype(np.int64) / 1000000000\n",
        "data.head()"
      ],
      "metadata": {
        "colab": {
          "base_uri": "https://localhost:8080/",
          "height": 204
        },
        "id": "AkQsqkijGHah",
        "outputId": "4715197c-622b-4757-e5bf-0f0cde128d1b"
      },
      "execution_count": 427,
      "outputs": [
        {
          "output_type": "execute_result",
          "data": {
            "text/plain": [
              "           Date   Open   High    Low  Close    Volume  Name\n",
              "0  1.136246e+09  39.69  41.22  38.79  40.91  24232729  AABA\n",
              "1  1.136333e+09  41.22  41.90  40.77  40.97  20553479  AABA\n",
              "2  1.136419e+09  40.93  41.73  40.85  41.53  12829610  AABA\n",
              "3  1.136506e+09  42.88  43.57  42.80  43.21  29422828  AABA\n",
              "4  1.136765e+09  43.10  43.66  42.82  43.42  16268338  AABA"
            ],
            "text/html": [
              "\n",
              "  <div id=\"df-da4ea394-7e58-423a-8765-8492b7d4a4e4\" class=\"colab-df-container\">\n",
              "    <div>\n",
              "<style scoped>\n",
              "    .dataframe tbody tr th:only-of-type {\n",
              "        vertical-align: middle;\n",
              "    }\n",
              "\n",
              "    .dataframe tbody tr th {\n",
              "        vertical-align: top;\n",
              "    }\n",
              "\n",
              "    .dataframe thead th {\n",
              "        text-align: right;\n",
              "    }\n",
              "</style>\n",
              "<table border=\"1\" class=\"dataframe\">\n",
              "  <thead>\n",
              "    <tr style=\"text-align: right;\">\n",
              "      <th></th>\n",
              "      <th>Date</th>\n",
              "      <th>Open</th>\n",
              "      <th>High</th>\n",
              "      <th>Low</th>\n",
              "      <th>Close</th>\n",
              "      <th>Volume</th>\n",
              "      <th>Name</th>\n",
              "    </tr>\n",
              "  </thead>\n",
              "  <tbody>\n",
              "    <tr>\n",
              "      <th>0</th>\n",
              "      <td>1.136246e+09</td>\n",
              "      <td>39.69</td>\n",
              "      <td>41.22</td>\n",
              "      <td>38.79</td>\n",
              "      <td>40.91</td>\n",
              "      <td>24232729</td>\n",
              "      <td>AABA</td>\n",
              "    </tr>\n",
              "    <tr>\n",
              "      <th>1</th>\n",
              "      <td>1.136333e+09</td>\n",
              "      <td>41.22</td>\n",
              "      <td>41.90</td>\n",
              "      <td>40.77</td>\n",
              "      <td>40.97</td>\n",
              "      <td>20553479</td>\n",
              "      <td>AABA</td>\n",
              "    </tr>\n",
              "    <tr>\n",
              "      <th>2</th>\n",
              "      <td>1.136419e+09</td>\n",
              "      <td>40.93</td>\n",
              "      <td>41.73</td>\n",
              "      <td>40.85</td>\n",
              "      <td>41.53</td>\n",
              "      <td>12829610</td>\n",
              "      <td>AABA</td>\n",
              "    </tr>\n",
              "    <tr>\n",
              "      <th>3</th>\n",
              "      <td>1.136506e+09</td>\n",
              "      <td>42.88</td>\n",
              "      <td>43.57</td>\n",
              "      <td>42.80</td>\n",
              "      <td>43.21</td>\n",
              "      <td>29422828</td>\n",
              "      <td>AABA</td>\n",
              "    </tr>\n",
              "    <tr>\n",
              "      <th>4</th>\n",
              "      <td>1.136765e+09</td>\n",
              "      <td>43.10</td>\n",
              "      <td>43.66</td>\n",
              "      <td>42.82</td>\n",
              "      <td>43.42</td>\n",
              "      <td>16268338</td>\n",
              "      <td>AABA</td>\n",
              "    </tr>\n",
              "  </tbody>\n",
              "</table>\n",
              "</div>\n",
              "    <div class=\"colab-df-buttons\">\n",
              "\n",
              "  <div class=\"colab-df-container\">\n",
              "    <button class=\"colab-df-convert\" onclick=\"convertToInteractive('df-da4ea394-7e58-423a-8765-8492b7d4a4e4')\"\n",
              "            title=\"Convert this dataframe to an interactive table.\"\n",
              "            style=\"display:none;\">\n",
              "\n",
              "  <svg xmlns=\"http://www.w3.org/2000/svg\" height=\"24px\" viewBox=\"0 -960 960 960\">\n",
              "    <path d=\"M120-120v-720h720v720H120Zm60-500h600v-160H180v160Zm220 220h160v-160H400v160Zm0 220h160v-160H400v160ZM180-400h160v-160H180v160Zm440 0h160v-160H620v160ZM180-180h160v-160H180v160Zm440 0h160v-160H620v160Z\"/>\n",
              "  </svg>\n",
              "    </button>\n",
              "\n",
              "  <style>\n",
              "    .colab-df-container {\n",
              "      display:flex;\n",
              "      gap: 12px;\n",
              "    }\n",
              "\n",
              "    .colab-df-convert {\n",
              "      background-color: #E8F0FE;\n",
              "      border: none;\n",
              "      border-radius: 50%;\n",
              "      cursor: pointer;\n",
              "      display: none;\n",
              "      fill: #1967D2;\n",
              "      height: 32px;\n",
              "      padding: 0 0 0 0;\n",
              "      width: 32px;\n",
              "    }\n",
              "\n",
              "    .colab-df-convert:hover {\n",
              "      background-color: #E2EBFA;\n",
              "      box-shadow: 0px 1px 2px rgba(60, 64, 67, 0.3), 0px 1px 3px 1px rgba(60, 64, 67, 0.15);\n",
              "      fill: #174EA6;\n",
              "    }\n",
              "\n",
              "    .colab-df-buttons div {\n",
              "      margin-bottom: 4px;\n",
              "    }\n",
              "\n",
              "    [theme=dark] .colab-df-convert {\n",
              "      background-color: #3B4455;\n",
              "      fill: #D2E3FC;\n",
              "    }\n",
              "\n",
              "    [theme=dark] .colab-df-convert:hover {\n",
              "      background-color: #434B5C;\n",
              "      box-shadow: 0px 1px 3px 1px rgba(0, 0, 0, 0.15);\n",
              "      filter: drop-shadow(0px 1px 2px rgba(0, 0, 0, 0.3));\n",
              "      fill: #FFFFFF;\n",
              "    }\n",
              "  </style>\n",
              "\n",
              "    <script>\n",
              "      const buttonEl =\n",
              "        document.querySelector('#df-da4ea394-7e58-423a-8765-8492b7d4a4e4 button.colab-df-convert');\n",
              "      buttonEl.style.display =\n",
              "        google.colab.kernel.accessAllowed ? 'block' : 'none';\n",
              "\n",
              "      async function convertToInteractive(key) {\n",
              "        const element = document.querySelector('#df-da4ea394-7e58-423a-8765-8492b7d4a4e4');\n",
              "        const dataTable =\n",
              "          await google.colab.kernel.invokeFunction('convertToInteractive',\n",
              "                                                    [key], {});\n",
              "        if (!dataTable) return;\n",
              "\n",
              "        const docLinkHtml = 'Like what you see? Visit the ' +\n",
              "          '<a target=\"_blank\" href=https://colab.research.google.com/notebooks/data_table.ipynb>data table notebook</a>'\n",
              "          + ' to learn more about interactive tables.';\n",
              "        element.innerHTML = '';\n",
              "        dataTable['output_type'] = 'display_data';\n",
              "        await google.colab.output.renderOutput(dataTable, element);\n",
              "        const docLink = document.createElement('div');\n",
              "        docLink.innerHTML = docLinkHtml;\n",
              "        element.appendChild(docLink);\n",
              "      }\n",
              "    </script>\n",
              "  </div>\n",
              "\n",
              "\n",
              "<div id=\"df-d93977b2-06bb-47d6-8835-29fb8c13d592\">\n",
              "  <button class=\"colab-df-quickchart\" onclick=\"quickchart('df-d93977b2-06bb-47d6-8835-29fb8c13d592')\"\n",
              "            title=\"Suggest charts.\"\n",
              "            style=\"display:none;\">\n",
              "\n",
              "<svg xmlns=\"http://www.w3.org/2000/svg\" height=\"24px\"viewBox=\"0 0 24 24\"\n",
              "     width=\"24px\">\n",
              "    <g>\n",
              "        <path d=\"M19 3H5c-1.1 0-2 .9-2 2v14c0 1.1.9 2 2 2h14c1.1 0 2-.9 2-2V5c0-1.1-.9-2-2-2zM9 17H7v-7h2v7zm4 0h-2V7h2v10zm4 0h-2v-4h2v4z\"/>\n",
              "    </g>\n",
              "</svg>\n",
              "  </button>\n",
              "\n",
              "<style>\n",
              "  .colab-df-quickchart {\n",
              "      --bg-color: #E8F0FE;\n",
              "      --fill-color: #1967D2;\n",
              "      --hover-bg-color: #E2EBFA;\n",
              "      --hover-fill-color: #174EA6;\n",
              "      --disabled-fill-color: #AAA;\n",
              "      --disabled-bg-color: #DDD;\n",
              "  }\n",
              "\n",
              "  [theme=dark] .colab-df-quickchart {\n",
              "      --bg-color: #3B4455;\n",
              "      --fill-color: #D2E3FC;\n",
              "      --hover-bg-color: #434B5C;\n",
              "      --hover-fill-color: #FFFFFF;\n",
              "      --disabled-bg-color: #3B4455;\n",
              "      --disabled-fill-color: #666;\n",
              "  }\n",
              "\n",
              "  .colab-df-quickchart {\n",
              "    background-color: var(--bg-color);\n",
              "    border: none;\n",
              "    border-radius: 50%;\n",
              "    cursor: pointer;\n",
              "    display: none;\n",
              "    fill: var(--fill-color);\n",
              "    height: 32px;\n",
              "    padding: 0;\n",
              "    width: 32px;\n",
              "  }\n",
              "\n",
              "  .colab-df-quickchart:hover {\n",
              "    background-color: var(--hover-bg-color);\n",
              "    box-shadow: 0 1px 2px rgba(60, 64, 67, 0.3), 0 1px 3px 1px rgba(60, 64, 67, 0.15);\n",
              "    fill: var(--button-hover-fill-color);\n",
              "  }\n",
              "\n",
              "  .colab-df-quickchart-complete:disabled,\n",
              "  .colab-df-quickchart-complete:disabled:hover {\n",
              "    background-color: var(--disabled-bg-color);\n",
              "    fill: var(--disabled-fill-color);\n",
              "    box-shadow: none;\n",
              "  }\n",
              "\n",
              "  .colab-df-spinner {\n",
              "    border: 2px solid var(--fill-color);\n",
              "    border-color: transparent;\n",
              "    border-bottom-color: var(--fill-color);\n",
              "    animation:\n",
              "      spin 1s steps(1) infinite;\n",
              "  }\n",
              "\n",
              "  @keyframes spin {\n",
              "    0% {\n",
              "      border-color: transparent;\n",
              "      border-bottom-color: var(--fill-color);\n",
              "      border-left-color: var(--fill-color);\n",
              "    }\n",
              "    20% {\n",
              "      border-color: transparent;\n",
              "      border-left-color: var(--fill-color);\n",
              "      border-top-color: var(--fill-color);\n",
              "    }\n",
              "    30% {\n",
              "      border-color: transparent;\n",
              "      border-left-color: var(--fill-color);\n",
              "      border-top-color: var(--fill-color);\n",
              "      border-right-color: var(--fill-color);\n",
              "    }\n",
              "    40% {\n",
              "      border-color: transparent;\n",
              "      border-right-color: var(--fill-color);\n",
              "      border-top-color: var(--fill-color);\n",
              "    }\n",
              "    60% {\n",
              "      border-color: transparent;\n",
              "      border-right-color: var(--fill-color);\n",
              "    }\n",
              "    80% {\n",
              "      border-color: transparent;\n",
              "      border-right-color: var(--fill-color);\n",
              "      border-bottom-color: var(--fill-color);\n",
              "    }\n",
              "    90% {\n",
              "      border-color: transparent;\n",
              "      border-bottom-color: var(--fill-color);\n",
              "    }\n",
              "  }\n",
              "</style>\n",
              "\n",
              "  <script>\n",
              "    async function quickchart(key) {\n",
              "      const quickchartButtonEl =\n",
              "        document.querySelector('#' + key + ' button');\n",
              "      quickchartButtonEl.disabled = true;  // To prevent multiple clicks.\n",
              "      quickchartButtonEl.classList.add('colab-df-spinner');\n",
              "      try {\n",
              "        const charts = await google.colab.kernel.invokeFunction(\n",
              "            'suggestCharts', [key], {});\n",
              "      } catch (error) {\n",
              "        console.error('Error during call to suggestCharts:', error);\n",
              "      }\n",
              "      quickchartButtonEl.classList.remove('colab-df-spinner');\n",
              "      quickchartButtonEl.classList.add('colab-df-quickchart-complete');\n",
              "    }\n",
              "    (() => {\n",
              "      let quickchartButtonEl =\n",
              "        document.querySelector('#df-d93977b2-06bb-47d6-8835-29fb8c13d592 button');\n",
              "      quickchartButtonEl.style.display =\n",
              "        google.colab.kernel.accessAllowed ? 'block' : 'none';\n",
              "    })();\n",
              "  </script>\n",
              "</div>\n",
              "    </div>\n",
              "  </div>\n"
            ]
          },
          "metadata": {},
          "execution_count": 427
        }
      ]
    },
    {
      "cell_type": "code",
      "source": [
        "start_ind = 300\n",
        "end_ind = 600\n",
        "n = round(0.8 * (end_ind - start_ind))"
      ],
      "metadata": {
        "id": "bYwDnkAzKA9K"
      },
      "execution_count": 428,
      "outputs": []
    },
    {
      "cell_type": "code",
      "source": [
        "df = pd.DataFrame()\n",
        "df['x'] = data[\"Date\"][start_ind:end_ind].to_numpy() - data[\"Date\"][start_ind]\n",
        "df['y'] = data[\"Open\"][start_ind:end_ind].to_numpy()\n",
        "df[\"High\"] = data[\"High\"][start_ind:end_ind].to_numpy()\n",
        "df[\"Open\"] = data[\"Open\"][start_ind - 1:end_ind - 1].to_numpy()\n",
        "df.head()"
      ],
      "metadata": {
        "colab": {
          "base_uri": "https://localhost:8080/",
          "height": 204
        },
        "id": "LVp1RKHSdvKA",
        "outputId": "74717626-d8ca-473e-f352-573b13631ec0"
      },
      "execution_count": 429,
      "outputs": [
        {
          "output_type": "execute_result",
          "data": {
            "text/plain": [
              "          x      y   High   Open\n",
              "0       0.0  29.81  30.07  29.63\n",
              "1   86400.0  30.02  30.11  29.81\n",
              "2  345600.0  30.00  30.19  30.02\n",
              "3  432000.0  30.00  30.35  30.00\n",
              "4  518400.0  30.33  31.39  30.00"
            ],
            "text/html": [
              "\n",
              "  <div id=\"df-0a728ca4-b036-4d2f-b525-7cdae7e4e437\" class=\"colab-df-container\">\n",
              "    <div>\n",
              "<style scoped>\n",
              "    .dataframe tbody tr th:only-of-type {\n",
              "        vertical-align: middle;\n",
              "    }\n",
              "\n",
              "    .dataframe tbody tr th {\n",
              "        vertical-align: top;\n",
              "    }\n",
              "\n",
              "    .dataframe thead th {\n",
              "        text-align: right;\n",
              "    }\n",
              "</style>\n",
              "<table border=\"1\" class=\"dataframe\">\n",
              "  <thead>\n",
              "    <tr style=\"text-align: right;\">\n",
              "      <th></th>\n",
              "      <th>x</th>\n",
              "      <th>y</th>\n",
              "      <th>High</th>\n",
              "      <th>Open</th>\n",
              "    </tr>\n",
              "  </thead>\n",
              "  <tbody>\n",
              "    <tr>\n",
              "      <th>0</th>\n",
              "      <td>0.0</td>\n",
              "      <td>29.81</td>\n",
              "      <td>30.07</td>\n",
              "      <td>29.63</td>\n",
              "    </tr>\n",
              "    <tr>\n",
              "      <th>1</th>\n",
              "      <td>86400.0</td>\n",
              "      <td>30.02</td>\n",
              "      <td>30.11</td>\n",
              "      <td>29.81</td>\n",
              "    </tr>\n",
              "    <tr>\n",
              "      <th>2</th>\n",
              "      <td>345600.0</td>\n",
              "      <td>30.00</td>\n",
              "      <td>30.19</td>\n",
              "      <td>30.02</td>\n",
              "    </tr>\n",
              "    <tr>\n",
              "      <th>3</th>\n",
              "      <td>432000.0</td>\n",
              "      <td>30.00</td>\n",
              "      <td>30.35</td>\n",
              "      <td>30.00</td>\n",
              "    </tr>\n",
              "    <tr>\n",
              "      <th>4</th>\n",
              "      <td>518400.0</td>\n",
              "      <td>30.33</td>\n",
              "      <td>31.39</td>\n",
              "      <td>30.00</td>\n",
              "    </tr>\n",
              "  </tbody>\n",
              "</table>\n",
              "</div>\n",
              "    <div class=\"colab-df-buttons\">\n",
              "\n",
              "  <div class=\"colab-df-container\">\n",
              "    <button class=\"colab-df-convert\" onclick=\"convertToInteractive('df-0a728ca4-b036-4d2f-b525-7cdae7e4e437')\"\n",
              "            title=\"Convert this dataframe to an interactive table.\"\n",
              "            style=\"display:none;\">\n",
              "\n",
              "  <svg xmlns=\"http://www.w3.org/2000/svg\" height=\"24px\" viewBox=\"0 -960 960 960\">\n",
              "    <path d=\"M120-120v-720h720v720H120Zm60-500h600v-160H180v160Zm220 220h160v-160H400v160Zm0 220h160v-160H400v160ZM180-400h160v-160H180v160Zm440 0h160v-160H620v160ZM180-180h160v-160H180v160Zm440 0h160v-160H620v160Z\"/>\n",
              "  </svg>\n",
              "    </button>\n",
              "\n",
              "  <style>\n",
              "    .colab-df-container {\n",
              "      display:flex;\n",
              "      gap: 12px;\n",
              "    }\n",
              "\n",
              "    .colab-df-convert {\n",
              "      background-color: #E8F0FE;\n",
              "      border: none;\n",
              "      border-radius: 50%;\n",
              "      cursor: pointer;\n",
              "      display: none;\n",
              "      fill: #1967D2;\n",
              "      height: 32px;\n",
              "      padding: 0 0 0 0;\n",
              "      width: 32px;\n",
              "    }\n",
              "\n",
              "    .colab-df-convert:hover {\n",
              "      background-color: #E2EBFA;\n",
              "      box-shadow: 0px 1px 2px rgba(60, 64, 67, 0.3), 0px 1px 3px 1px rgba(60, 64, 67, 0.15);\n",
              "      fill: #174EA6;\n",
              "    }\n",
              "\n",
              "    .colab-df-buttons div {\n",
              "      margin-bottom: 4px;\n",
              "    }\n",
              "\n",
              "    [theme=dark] .colab-df-convert {\n",
              "      background-color: #3B4455;\n",
              "      fill: #D2E3FC;\n",
              "    }\n",
              "\n",
              "    [theme=dark] .colab-df-convert:hover {\n",
              "      background-color: #434B5C;\n",
              "      box-shadow: 0px 1px 3px 1px rgba(0, 0, 0, 0.15);\n",
              "      filter: drop-shadow(0px 1px 2px rgba(0, 0, 0, 0.3));\n",
              "      fill: #FFFFFF;\n",
              "    }\n",
              "  </style>\n",
              "\n",
              "    <script>\n",
              "      const buttonEl =\n",
              "        document.querySelector('#df-0a728ca4-b036-4d2f-b525-7cdae7e4e437 button.colab-df-convert');\n",
              "      buttonEl.style.display =\n",
              "        google.colab.kernel.accessAllowed ? 'block' : 'none';\n",
              "\n",
              "      async function convertToInteractive(key) {\n",
              "        const element = document.querySelector('#df-0a728ca4-b036-4d2f-b525-7cdae7e4e437');\n",
              "        const dataTable =\n",
              "          await google.colab.kernel.invokeFunction('convertToInteractive',\n",
              "                                                    [key], {});\n",
              "        if (!dataTable) return;\n",
              "\n",
              "        const docLinkHtml = 'Like what you see? Visit the ' +\n",
              "          '<a target=\"_blank\" href=https://colab.research.google.com/notebooks/data_table.ipynb>data table notebook</a>'\n",
              "          + ' to learn more about interactive tables.';\n",
              "        element.innerHTML = '';\n",
              "        dataTable['output_type'] = 'display_data';\n",
              "        await google.colab.output.renderOutput(dataTable, element);\n",
              "        const docLink = document.createElement('div');\n",
              "        docLink.innerHTML = docLinkHtml;\n",
              "        element.appendChild(docLink);\n",
              "      }\n",
              "    </script>\n",
              "  </div>\n",
              "\n",
              "\n",
              "<div id=\"df-52bccd07-2fa0-4597-86e5-ded90bee16e0\">\n",
              "  <button class=\"colab-df-quickchart\" onclick=\"quickchart('df-52bccd07-2fa0-4597-86e5-ded90bee16e0')\"\n",
              "            title=\"Suggest charts.\"\n",
              "            style=\"display:none;\">\n",
              "\n",
              "<svg xmlns=\"http://www.w3.org/2000/svg\" height=\"24px\"viewBox=\"0 0 24 24\"\n",
              "     width=\"24px\">\n",
              "    <g>\n",
              "        <path d=\"M19 3H5c-1.1 0-2 .9-2 2v14c0 1.1.9 2 2 2h14c1.1 0 2-.9 2-2V5c0-1.1-.9-2-2-2zM9 17H7v-7h2v7zm4 0h-2V7h2v10zm4 0h-2v-4h2v4z\"/>\n",
              "    </g>\n",
              "</svg>\n",
              "  </button>\n",
              "\n",
              "<style>\n",
              "  .colab-df-quickchart {\n",
              "      --bg-color: #E8F0FE;\n",
              "      --fill-color: #1967D2;\n",
              "      --hover-bg-color: #E2EBFA;\n",
              "      --hover-fill-color: #174EA6;\n",
              "      --disabled-fill-color: #AAA;\n",
              "      --disabled-bg-color: #DDD;\n",
              "  }\n",
              "\n",
              "  [theme=dark] .colab-df-quickchart {\n",
              "      --bg-color: #3B4455;\n",
              "      --fill-color: #D2E3FC;\n",
              "      --hover-bg-color: #434B5C;\n",
              "      --hover-fill-color: #FFFFFF;\n",
              "      --disabled-bg-color: #3B4455;\n",
              "      --disabled-fill-color: #666;\n",
              "  }\n",
              "\n",
              "  .colab-df-quickchart {\n",
              "    background-color: var(--bg-color);\n",
              "    border: none;\n",
              "    border-radius: 50%;\n",
              "    cursor: pointer;\n",
              "    display: none;\n",
              "    fill: var(--fill-color);\n",
              "    height: 32px;\n",
              "    padding: 0;\n",
              "    width: 32px;\n",
              "  }\n",
              "\n",
              "  .colab-df-quickchart:hover {\n",
              "    background-color: var(--hover-bg-color);\n",
              "    box-shadow: 0 1px 2px rgba(60, 64, 67, 0.3), 0 1px 3px 1px rgba(60, 64, 67, 0.15);\n",
              "    fill: var(--button-hover-fill-color);\n",
              "  }\n",
              "\n",
              "  .colab-df-quickchart-complete:disabled,\n",
              "  .colab-df-quickchart-complete:disabled:hover {\n",
              "    background-color: var(--disabled-bg-color);\n",
              "    fill: var(--disabled-fill-color);\n",
              "    box-shadow: none;\n",
              "  }\n",
              "\n",
              "  .colab-df-spinner {\n",
              "    border: 2px solid var(--fill-color);\n",
              "    border-color: transparent;\n",
              "    border-bottom-color: var(--fill-color);\n",
              "    animation:\n",
              "      spin 1s steps(1) infinite;\n",
              "  }\n",
              "\n",
              "  @keyframes spin {\n",
              "    0% {\n",
              "      border-color: transparent;\n",
              "      border-bottom-color: var(--fill-color);\n",
              "      border-left-color: var(--fill-color);\n",
              "    }\n",
              "    20% {\n",
              "      border-color: transparent;\n",
              "      border-left-color: var(--fill-color);\n",
              "      border-top-color: var(--fill-color);\n",
              "    }\n",
              "    30% {\n",
              "      border-color: transparent;\n",
              "      border-left-color: var(--fill-color);\n",
              "      border-top-color: var(--fill-color);\n",
              "      border-right-color: var(--fill-color);\n",
              "    }\n",
              "    40% {\n",
              "      border-color: transparent;\n",
              "      border-right-color: var(--fill-color);\n",
              "      border-top-color: var(--fill-color);\n",
              "    }\n",
              "    60% {\n",
              "      border-color: transparent;\n",
              "      border-right-color: var(--fill-color);\n",
              "    }\n",
              "    80% {\n",
              "      border-color: transparent;\n",
              "      border-right-color: var(--fill-color);\n",
              "      border-bottom-color: var(--fill-color);\n",
              "    }\n",
              "    90% {\n",
              "      border-color: transparent;\n",
              "      border-bottom-color: var(--fill-color);\n",
              "    }\n",
              "  }\n",
              "</style>\n",
              "\n",
              "  <script>\n",
              "    async function quickchart(key) {\n",
              "      const quickchartButtonEl =\n",
              "        document.querySelector('#' + key + ' button');\n",
              "      quickchartButtonEl.disabled = true;  // To prevent multiple clicks.\n",
              "      quickchartButtonEl.classList.add('colab-df-spinner');\n",
              "      try {\n",
              "        const charts = await google.colab.kernel.invokeFunction(\n",
              "            'suggestCharts', [key], {});\n",
              "      } catch (error) {\n",
              "        console.error('Error during call to suggestCharts:', error);\n",
              "      }\n",
              "      quickchartButtonEl.classList.remove('colab-df-spinner');\n",
              "      quickchartButtonEl.classList.add('colab-df-quickchart-complete');\n",
              "    }\n",
              "    (() => {\n",
              "      let quickchartButtonEl =\n",
              "        document.querySelector('#df-52bccd07-2fa0-4597-86e5-ded90bee16e0 button');\n",
              "      quickchartButtonEl.style.display =\n",
              "        google.colab.kernel.accessAllowed ? 'block' : 'none';\n",
              "    })();\n",
              "  </script>\n",
              "</div>\n",
              "    </div>\n",
              "  </div>\n"
            ]
          },
          "metadata": {},
          "execution_count": 429
        }
      ]
    },
    {
      "cell_type": "code",
      "source": [
        "train = df[0:n]\n",
        "test = df[n:]"
      ],
      "metadata": {
        "id": "gFRKA3ftdgP3"
      },
      "execution_count": 430,
      "outputs": []
    },
    {
      "cell_type": "code",
      "source": [
        "fig = go.Figure()\n",
        "\n",
        "fig.add_trace(go.Scatter(x=train['x'], y=train['y'], name=\"train_y\"))\n",
        "fig.add_trace(go.Scatter(x=train['x'], y=train[\"High\"], name=\"train_High\"))\n",
        "fig.add_trace(go.Scatter(x=train['x'], y=train[\"Open\"], name=\"train_Open\", line = dict(color='limegreen')))\n",
        "\n",
        "fig.add_trace(go.Scatter(x=test['x'], y=test['y'], name=\"test_y\", line = dict(color='royalblue', dash='dash')))\n",
        "fig.add_trace(go.Scatter(x=test['x'], y=test[\"High\"], name=\"test_High\", line = dict(color='red', dash='dash')))\n",
        "fig.add_trace(go.Scatter(x=test['x'], y=test[\"Open\"], name=\"test_Open\", line = dict(color='limegreen', dash='dash')))\n",
        "\n",
        "fig.update_layout(title=\"Выборки\",\n",
        "                  xaxis_title=\"Дата\",\n",
        "                  yaxis_title=\"Стоимость\")"
      ],
      "metadata": {
        "colab": {
          "base_uri": "https://localhost:8080/",
          "height": 542
        },
        "id": "NeUM4g3ReONb",
        "outputId": "025bad5a-72fd-4b82-d79d-226a7a1888f6"
      },
      "execution_count": 431,
      "outputs": [
        {
          "output_type": "display_data",
          "data": {
            "text/html": [
              "<html>\n",
              "<head><meta charset=\"utf-8\" /></head>\n",
              "<body>\n",
              "    <div>            <script src=\"https://cdnjs.cloudflare.com/ajax/libs/mathjax/2.7.5/MathJax.js?config=TeX-AMS-MML_SVG\"></script><script type=\"text/javascript\">if (window.MathJax && window.MathJax.Hub && window.MathJax.Hub.Config) {window.MathJax.Hub.Config({SVG: {font: \"STIX-Web\"}});}</script>                <script type=\"text/javascript\">window.PlotlyConfig = {MathJaxConfig: 'local'};</script>\n",
              "        <script charset=\"utf-8\" src=\"https://cdn.plot.ly/plotly-2.24.1.min.js\"></script>                <div id=\"e79426f0-8017-4edd-bb16-3720f392c0b4\" class=\"plotly-graph-div\" style=\"height:525px; width:100%;\"></div>            <script type=\"text/javascript\">                                    window.PLOTLYENV=window.PLOTLYENV || {};                                    if (document.getElementById(\"e79426f0-8017-4edd-bb16-3720f392c0b4\")) {                    Plotly.newPlot(                        \"e79426f0-8017-4edd-bb16-3720f392c0b4\",                        [{\"name\":\"train_y\",\"x\":[0.0,86400.0,345600.0,432000.0,518400.0,604800.0,691200.0,950400.0,1036800.0,1123200.0,1209600.0,1296000.0,1555200.0,1641600.0,1728000.0,1814400.0,2160000.0,2246400.0,2332800.0,2419200.0,2505600.0,2764800.0,2851200.0,2937600.0,3024000.0,3110400.0,3369600.0,3456000.0,3542400.0,3628800.0,3715200.0,3974400.0,4060800.0,4147200.0,4233600.0,4320000.0,4579200.0,4665600.0,4752000.0,4838400.0,4924800.0,5184000.0,5270400.0,5356800.0,5443200.0,5529600.0,5788800.0,5875200.0,5961600.0,6048000.0,6134400.0,6480000.0,6566400.0,6652800.0,6739200.0,6998400.0,7084800.0,7171200.0,7257600.0,7344000.0,7603200.0,7689600.0,7776000.0,7862400.0,7948800.0,8208000.0,8294400.0,8380800.0,8467200.0,8553600.0,8812800.0,8899200.0,8985600.0,9072000.0,9158400.0,9417600.0,9504000.0,9676800.0,9763200.0,10022400.0,10108800.0,10195200.0,10281600.0,10368000.0,10627200.0,10713600.0,10800000.0,10886400.0,10972800.0,11232000.0,11318400.0,11404800.0,11491200.0,11577600.0,11836800.0,11923200.0,12009600.0,12096000.0,12182400.0,12441600.0,12528000.0,12614400.0,12700800.0,12787200.0,13046400.0,13132800.0,13219200.0,13305600.0,13392000.0,13651200.0,13737600.0,13824000.0,13910400.0,13996800.0,14256000.0,14342400.0,14428800.0,14515200.0,14601600.0,14947200.0,15033600.0,15120000.0,15206400.0,15465600.0,15552000.0,15638400.0,15724800.0,15811200.0,16070400.0,16156800.0,16243200.0,16329600.0,16416000.0,16675200.0,16761600.0,16848000.0,16934400.0,17020800.0,17280000.0,17366400.0,17452800.0,17539200.0,17625600.0,17884800.0,17971200.0,18057600.0,18144000.0,18230400.0,18489600.0,18576000.0,18662400.0,18748800.0,18835200.0,19094400.0,19180800.0,19267200.0,19353600.0,19440000.0,19699200.0,19785600.0,19872000.0,19958400.0,20044800.0,20304000.0,20390400.0,20476800.0,20563200.0,20649600.0,20908800.0,20995200.0,21081600.0,21168000.0,21254400.0,21513600.0,21600000.0,21686400.0,21859200.0,22118400.0,22204800.0,22291200.0,22377600.0,22464000.0,22723200.0,22809600.0,22896000.0,22982400.0,23068800.0,23328000.0,23414400.0,23500800.0,23587200.0,23673600.0,23932800.0,24019200.0,24105600.0,24192000.0,24278400.0,24537600.0,24710400.0,24796800.0,24883200.0,25142400.0,25315200.0,25401600.0,25488000.0,25747200.0,25833600.0,25920000.0,26006400.0,26092800.0,26352000.0,26438400.0,26524800.0,26611200.0,26697600.0,27043200.0,27129600.0,27216000.0,27302400.0,27561600.0,27648000.0,27734400.0,27820800.0,27907200.0,28166400.0,28252800.0,28339200.0,28425600.0,28512000.0,28771200.0,28857600.0,28944000.0,29030400.0,29116800.0,29462400.0,29548800.0,29635200.0,29721600.0,29980800.0,30067200.0],\"y\":[29.81,30.02,30.0,30.0,30.33,31.36,31.33,31.25,31.56,31.45,31.71,31.21,31.22,31.41,31.61,32.0,32.01,31.64,31.65,31.26,31.15,31.68,31.98,28.42,28.1,27.86,27.53,28.03,28.22,27.98,28.35,28.32,28.25,27.72,28.25,33.27,30.13,30.24,30.16,30.52,29.62,29.79,29.16,28.89,28.99,28.9,29.62,29.33,29.1,28.65,28.44,28.36,28.19,28.76,28.9,28.6,28.4,28.05,27.34,27.02,27.27,27.3,27.12,27.38,27.49,27.72,29.4,27.89,27.69,27.68,27.6,27.73,27.51,27.44,27.21,27.19,26.95,26.92,27.01,26.92,27.09,27.03,26.7,26.87,26.48,26.74,26.07,26.32,25.7,25.43,24.8,25.01,24.4,23.98,23.55,23.88,23.17,22.65,23.2,23.03,22.75,23.46,23.67,23.93,24.21,24.69,23.56,23.0,23.26,23.64,23.25,23.22,23.35,23.03,23.59,22.95,22.6,22.49,22.81,23.3,24.1,24.22,23.76,23.85,23.31,23.64,23.6,23.69,24.5,25.06,25.09,25.28,25.54,26.13,25.7,26.7,26.95,26.49,26.76,27.2,27.16,27.19,27.78,28.01,28.35,28.43,28.44,27.76,28.32,27.37,29.1,28.59,29.36,28.93,30.12,30.68,30.75,32.43,34.07,31.55,31.5,30.86,30.54,30.71,31.76,29.27,28.11,26.13,25.8,25.53,26.42,24.94,25.66,27.11,26.93,26.11,25.98,26.08,25.18,26.03,26.01,26.96,26.64,26.14,26.63,25.88,25.86,25.51,25.15,24.82,24.39,24.13,23.8,23.22,22.92,23.5,23.88,24.01,23.85,23.6,23.66,23.22,23.8,23.86,23.81,23.12,23.28,22.47,23.19,23.81,23.51,23.0,22.2,22.0,21.27,19.29,19.25,20.44,22.24,21.56,20.87,18.62,18.87,28.68,28.33,28.78,29.11,28.63,28.98,29.89,29.81,29.78,29.98,29.94,29.34,28.71,28.76,28.36,28.42,27.93],\"type\":\"scatter\"},{\"name\":\"train_High\",\"x\":[0.0,86400.0,345600.0,432000.0,518400.0,604800.0,691200.0,950400.0,1036800.0,1123200.0,1209600.0,1296000.0,1555200.0,1641600.0,1728000.0,1814400.0,2160000.0,2246400.0,2332800.0,2419200.0,2505600.0,2764800.0,2851200.0,2937600.0,3024000.0,3110400.0,3369600.0,3456000.0,3542400.0,3628800.0,3715200.0,3974400.0,4060800.0,4147200.0,4233600.0,4320000.0,4579200.0,4665600.0,4752000.0,4838400.0,4924800.0,5184000.0,5270400.0,5356800.0,5443200.0,5529600.0,5788800.0,5875200.0,5961600.0,6048000.0,6134400.0,6480000.0,6566400.0,6652800.0,6739200.0,6998400.0,7084800.0,7171200.0,7257600.0,7344000.0,7603200.0,7689600.0,7776000.0,7862400.0,7948800.0,8208000.0,8294400.0,8380800.0,8467200.0,8553600.0,8812800.0,8899200.0,8985600.0,9072000.0,9158400.0,9417600.0,9504000.0,9676800.0,9763200.0,10022400.0,10108800.0,10195200.0,10281600.0,10368000.0,10627200.0,10713600.0,10800000.0,10886400.0,10972800.0,11232000.0,11318400.0,11404800.0,11491200.0,11577600.0,11836800.0,11923200.0,12009600.0,12096000.0,12182400.0,12441600.0,12528000.0,12614400.0,12700800.0,12787200.0,13046400.0,13132800.0,13219200.0,13305600.0,13392000.0,13651200.0,13737600.0,13824000.0,13910400.0,13996800.0,14256000.0,14342400.0,14428800.0,14515200.0,14601600.0,14947200.0,15033600.0,15120000.0,15206400.0,15465600.0,15552000.0,15638400.0,15724800.0,15811200.0,16070400.0,16156800.0,16243200.0,16329600.0,16416000.0,16675200.0,16761600.0,16848000.0,16934400.0,17020800.0,17280000.0,17366400.0,17452800.0,17539200.0,17625600.0,17884800.0,17971200.0,18057600.0,18144000.0,18230400.0,18489600.0,18576000.0,18662400.0,18748800.0,18835200.0,19094400.0,19180800.0,19267200.0,19353600.0,19440000.0,19699200.0,19785600.0,19872000.0,19958400.0,20044800.0,20304000.0,20390400.0,20476800.0,20563200.0,20649600.0,20908800.0,20995200.0,21081600.0,21168000.0,21254400.0,21513600.0,21600000.0,21686400.0,21859200.0,22118400.0,22204800.0,22291200.0,22377600.0,22464000.0,22723200.0,22809600.0,22896000.0,22982400.0,23068800.0,23328000.0,23414400.0,23500800.0,23587200.0,23673600.0,23932800.0,24019200.0,24105600.0,24192000.0,24278400.0,24537600.0,24710400.0,24796800.0,24883200.0,25142400.0,25315200.0,25401600.0,25488000.0,25747200.0,25833600.0,25920000.0,26006400.0,26092800.0,26352000.0,26438400.0,26524800.0,26611200.0,26697600.0,27043200.0,27129600.0,27216000.0,27302400.0,27561600.0,27648000.0,27734400.0,27820800.0,27907200.0,28166400.0,28252800.0,28339200.0,28425600.0,28512000.0,28771200.0,28857600.0,28944000.0,29030400.0,29116800.0,29462400.0,29548800.0,29635200.0,29721600.0,29980800.0,30067200.0],\"y\":[30.07,30.11,30.19,30.35,31.39,31.44,31.7,31.74,31.66,31.7,31.73,31.6,31.4,32.0,31.87,32.09,32.24,32.02,31.73,31.42,31.5,31.79,32.14,28.9,28.23,27.86,28.14,28.26,28.27,28.65,28.86,28.5,28.35,28.26,28.5,33.61,30.98,31.1,30.44,30.69,30.08,30.0,29.42,29.37,29.13,29.8,29.86,29.35,29.37,28.88,28.73,28.73,28.38,28.85,29.13,28.78,28.59,28.11,27.73,27.45,27.52,27.66,27.41,27.64,27.52,28.34,29.4,28.17,27.94,27.79,27.77,28.18,27.66,27.49,27.38,27.27,27.25,27.14,27.14,27.33,27.57,27.05,26.97,26.97,26.74,27.8,26.72,26.34,25.89,25.46,25.34,25.32,24.49,24.49,23.88,23.93,23.4,23.7,23.39,23.15,23.7,23.87,24.45,24.22,24.74,24.7,24.0,23.15,23.63,23.74,23.48,23.52,23.36,23.73,23.76,23.1,22.69,22.91,22.83,24.5,24.4,24.32,24.05,23.85,23.84,23.94,23.96,25.0,25.1,25.21,25.37,25.61,26.21,26.4,26.65,27.07,26.95,26.89,27.1,27.24,27.38,27.29,28.16,28.17,28.76,28.7,28.68,28.51,28.4,27.48,29.2,29.6,29.96,30.0,30.88,30.98,31.62,33.99,34.08,31.64,31.75,31.1,31.21,32.37,31.79,29.3,28.24,26.38,26.2,26.24,26.44,25.75,27.13,27.35,27.25,26.58,26.4,26.25,26.0,26.7,26.71,27.33,27.2,26.73,26.73,26.02,26.11,25.57,25.65,25.0,24.75,24.47,24.03,23.35,23.69,23.8,24.1,24.19,24.25,24.15,23.71,23.43,24.15,24.19,23.81,23.56,23.65,22.8,24.57,24.13,23.76,23.48,22.75,22.17,21.61,21.03,20.34,21.75,22.37,21.9,20.9,20.81,19.35,29.83,29.5,29.57,29.33,29.19,29.22,30.05,29.84,30.07,30.25,30.15,29.42,29.04,29.17,28.64,28.57,28.55],\"type\":\"scatter\"},{\"line\":{\"color\":\"limegreen\"},\"name\":\"train_Open\",\"x\":[0.0,86400.0,345600.0,432000.0,518400.0,604800.0,691200.0,950400.0,1036800.0,1123200.0,1209600.0,1296000.0,1555200.0,1641600.0,1728000.0,1814400.0,2160000.0,2246400.0,2332800.0,2419200.0,2505600.0,2764800.0,2851200.0,2937600.0,3024000.0,3110400.0,3369600.0,3456000.0,3542400.0,3628800.0,3715200.0,3974400.0,4060800.0,4147200.0,4233600.0,4320000.0,4579200.0,4665600.0,4752000.0,4838400.0,4924800.0,5184000.0,5270400.0,5356800.0,5443200.0,5529600.0,5788800.0,5875200.0,5961600.0,6048000.0,6134400.0,6480000.0,6566400.0,6652800.0,6739200.0,6998400.0,7084800.0,7171200.0,7257600.0,7344000.0,7603200.0,7689600.0,7776000.0,7862400.0,7948800.0,8208000.0,8294400.0,8380800.0,8467200.0,8553600.0,8812800.0,8899200.0,8985600.0,9072000.0,9158400.0,9417600.0,9504000.0,9676800.0,9763200.0,10022400.0,10108800.0,10195200.0,10281600.0,10368000.0,10627200.0,10713600.0,10800000.0,10886400.0,10972800.0,11232000.0,11318400.0,11404800.0,11491200.0,11577600.0,11836800.0,11923200.0,12009600.0,12096000.0,12182400.0,12441600.0,12528000.0,12614400.0,12700800.0,12787200.0,13046400.0,13132800.0,13219200.0,13305600.0,13392000.0,13651200.0,13737600.0,13824000.0,13910400.0,13996800.0,14256000.0,14342400.0,14428800.0,14515200.0,14601600.0,14947200.0,15033600.0,15120000.0,15206400.0,15465600.0,15552000.0,15638400.0,15724800.0,15811200.0,16070400.0,16156800.0,16243200.0,16329600.0,16416000.0,16675200.0,16761600.0,16848000.0,16934400.0,17020800.0,17280000.0,17366400.0,17452800.0,17539200.0,17625600.0,17884800.0,17971200.0,18057600.0,18144000.0,18230400.0,18489600.0,18576000.0,18662400.0,18748800.0,18835200.0,19094400.0,19180800.0,19267200.0,19353600.0,19440000.0,19699200.0,19785600.0,19872000.0,19958400.0,20044800.0,20304000.0,20390400.0,20476800.0,20563200.0,20649600.0,20908800.0,20995200.0,21081600.0,21168000.0,21254400.0,21513600.0,21600000.0,21686400.0,21859200.0,22118400.0,22204800.0,22291200.0,22377600.0,22464000.0,22723200.0,22809600.0,22896000.0,22982400.0,23068800.0,23328000.0,23414400.0,23500800.0,23587200.0,23673600.0,23932800.0,24019200.0,24105600.0,24192000.0,24278400.0,24537600.0,24710400.0,24796800.0,24883200.0,25142400.0,25315200.0,25401600.0,25488000.0,25747200.0,25833600.0,25920000.0,26006400.0,26092800.0,26352000.0,26438400.0,26524800.0,26611200.0,26697600.0,27043200.0,27129600.0,27216000.0,27302400.0,27561600.0,27648000.0,27734400.0,27820800.0,27907200.0,28166400.0,28252800.0,28339200.0,28425600.0,28512000.0,28771200.0,28857600.0,28944000.0,29030400.0,29116800.0,29462400.0,29548800.0,29635200.0,29721600.0,29980800.0,30067200.0],\"y\":[29.63,29.81,30.02,30.0,30.0,30.33,31.36,31.33,31.25,31.56,31.45,31.71,31.21,31.22,31.41,31.61,32.0,32.01,31.64,31.65,31.26,31.15,31.68,31.98,28.42,28.1,27.86,27.53,28.03,28.22,27.98,28.35,28.32,28.25,27.72,28.25,33.27,30.13,30.24,30.16,30.52,29.62,29.79,29.16,28.89,28.99,28.9,29.62,29.33,29.1,28.65,28.44,28.36,28.19,28.76,28.9,28.6,28.4,28.05,27.34,27.02,27.27,27.3,27.12,27.38,27.49,27.72,29.4,27.89,27.69,27.68,27.6,27.73,27.51,27.44,27.21,27.19,26.95,26.92,27.01,26.92,27.09,27.03,26.7,26.87,26.48,26.74,26.07,26.32,25.7,25.43,24.8,25.01,24.4,23.98,23.55,23.88,23.17,22.65,23.2,23.03,22.75,23.46,23.67,23.93,24.21,24.69,23.56,23.0,23.26,23.64,23.25,23.22,23.35,23.03,23.59,22.95,22.6,22.49,22.81,23.3,24.1,24.22,23.76,23.85,23.31,23.64,23.6,23.69,24.5,25.06,25.09,25.28,25.54,26.13,25.7,26.7,26.95,26.49,26.76,27.2,27.16,27.19,27.78,28.01,28.35,28.43,28.44,27.76,28.32,27.37,29.1,28.59,29.36,28.93,30.12,30.68,30.75,32.43,34.07,31.55,31.5,30.86,30.54,30.71,31.76,29.27,28.11,26.13,25.8,25.53,26.42,24.94,25.66,27.11,26.93,26.11,25.98,26.08,25.18,26.03,26.01,26.96,26.64,26.14,26.63,25.88,25.86,25.51,25.15,24.82,24.39,24.13,23.8,23.22,22.92,23.5,23.88,24.01,23.85,23.6,23.66,23.22,23.8,23.86,23.81,23.12,23.28,22.47,23.19,23.81,23.51,23.0,22.2,22.0,21.27,19.29,19.25,20.44,22.24,21.56,20.87,18.62,18.87,28.68,28.33,28.78,29.11,28.63,28.98,29.89,29.81,29.78,29.98,29.94,29.34,28.71,28.76,28.36,28.42],\"type\":\"scatter\"},{\"line\":{\"color\":\"royalblue\",\"dash\":\"dash\"},\"name\":\"test_y\",\"x\":[30153600.0,30240000.0,30326400.0,30585600.0,30672000.0,30758400.0,30844800.0,30931200.0,31190400.0,31276800.0,31363200.0,31449600.0,31536000.0,31795200.0,31881600.0,31968000.0,32054400.0,32400000.0,32486400.0,32572800.0,32659200.0,32745600.0,33004800.0,33091200.0,33177600.0,33264000.0,33350400.0,33609600.0,33696000.0,33782400.0,33868800.0,33955200.0,34214400.0,34300800.0,34387200.0,34473600.0,34560000.0,34819200.0,34905600.0,34992000.0,35078400.0,35164800.0,35424000.0,35510400.0,35596800.0,35683200.0,35769600.0,36028800.0,36115200.0,36201600.0,36288000.0,36374400.0,36633600.0,36720000.0,36806400.0,36892800.0,36979200.0,37238400.0,37324800.0,37411200.0],\"y\":[28.33,27.98,27.94,27.73,27.8,28.0,28.64,28.58,28.87,28.91,28.89,28.07,27.85,26.5,26.94,27.56,27.36,27.56,28.14,28.63,28.49,28.32,28.56,28.07,28.57,27.65,28.0,27.8,27.72,27.8,28.39,28.41,28.18,28.05,28.11,28.4,28.44,28.52,28.73,28.24,28.01,26.85,27.0,26.35,27.17,27.69,27.65,23.05,25.54,25.57,25.66,26.01,25.8,25.15,26.95,27.54,27.73,27.9,27.68,27.34],\"type\":\"scatter\"},{\"line\":{\"color\":\"red\",\"dash\":\"dash\"},\"name\":\"test_High\",\"x\":[30153600.0,30240000.0,30326400.0,30585600.0,30672000.0,30758400.0,30844800.0,30931200.0,31190400.0,31276800.0,31363200.0,31449600.0,31536000.0,31795200.0,31881600.0,31968000.0,32054400.0,32400000.0,32486400.0,32572800.0,32659200.0,32745600.0,33004800.0,33091200.0,33177600.0,33264000.0,33350400.0,33609600.0,33696000.0,33782400.0,33868800.0,33955200.0,34214400.0,34300800.0,34387200.0,34473600.0,34560000.0,34819200.0,34905600.0,34992000.0,35078400.0,35164800.0,35424000.0,35510400.0,35596800.0,35683200.0,35769600.0,36028800.0,36115200.0,36201600.0,36288000.0,36374400.0,36633600.0,36720000.0,36806400.0,36892800.0,36979200.0,37238400.0,37324800.0,37411200.0],\"y\":[28.49,28.82,28.41,28.08,28.07,28.78,28.98,29.18,28.98,29.16,29.02,28.27,27.96,26.64,27.72,27.79,27.91,28.07,28.75,28.78,28.5,29.09,29.12,28.62,28.6,28.22,28.45,28.15,27.82,27.95,28.69,28.61,28.34,28.25,28.4,28.4,28.67,28.68,28.88,28.35,28.08,26.93,27.09,27.48,27.78,28.34,29.73,24.93,26.25,25.71,26.44,26.19,25.88,26.84,27.36,27.98,27.95,28.33,28.2,27.95],\"type\":\"scatter\"},{\"line\":{\"color\":\"limegreen\",\"dash\":\"dash\"},\"name\":\"test_Open\",\"x\":[30153600.0,30240000.0,30326400.0,30585600.0,30672000.0,30758400.0,30844800.0,30931200.0,31190400.0,31276800.0,31363200.0,31449600.0,31536000.0,31795200.0,31881600.0,31968000.0,32054400.0,32400000.0,32486400.0,32572800.0,32659200.0,32745600.0,33004800.0,33091200.0,33177600.0,33264000.0,33350400.0,33609600.0,33696000.0,33782400.0,33868800.0,33955200.0,34214400.0,34300800.0,34387200.0,34473600.0,34560000.0,34819200.0,34905600.0,34992000.0,35078400.0,35164800.0,35424000.0,35510400.0,35596800.0,35683200.0,35769600.0,36028800.0,36115200.0,36201600.0,36288000.0,36374400.0,36633600.0,36720000.0,36806400.0,36892800.0,36979200.0,37238400.0,37324800.0,37411200.0],\"y\":[27.93,28.33,27.98,27.94,27.73,27.8,28.0,28.64,28.58,28.87,28.91,28.89,28.07,27.85,26.5,26.94,27.56,27.36,27.56,28.14,28.63,28.49,28.32,28.56,28.07,28.57,27.65,28.0,27.8,27.72,27.8,28.39,28.41,28.18,28.05,28.11,28.4,28.44,28.52,28.73,28.24,28.01,26.85,27.0,26.35,27.17,27.69,27.65,23.05,25.54,25.57,25.66,26.01,25.8,25.15,26.95,27.54,27.73,27.9,27.68],\"type\":\"scatter\"}],                        {\"template\":{\"data\":{\"histogram2dcontour\":[{\"type\":\"histogram2dcontour\",\"colorbar\":{\"outlinewidth\":0,\"ticks\":\"\"},\"colorscale\":[[0.0,\"#0d0887\"],[0.1111111111111111,\"#46039f\"],[0.2222222222222222,\"#7201a8\"],[0.3333333333333333,\"#9c179e\"],[0.4444444444444444,\"#bd3786\"],[0.5555555555555556,\"#d8576b\"],[0.6666666666666666,\"#ed7953\"],[0.7777777777777778,\"#fb9f3a\"],[0.8888888888888888,\"#fdca26\"],[1.0,\"#f0f921\"]]}],\"choropleth\":[{\"type\":\"choropleth\",\"colorbar\":{\"outlinewidth\":0,\"ticks\":\"\"}}],\"histogram2d\":[{\"type\":\"histogram2d\",\"colorbar\":{\"outlinewidth\":0,\"ticks\":\"\"},\"colorscale\":[[0.0,\"#0d0887\"],[0.1111111111111111,\"#46039f\"],[0.2222222222222222,\"#7201a8\"],[0.3333333333333333,\"#9c179e\"],[0.4444444444444444,\"#bd3786\"],[0.5555555555555556,\"#d8576b\"],[0.6666666666666666,\"#ed7953\"],[0.7777777777777778,\"#fb9f3a\"],[0.8888888888888888,\"#fdca26\"],[1.0,\"#f0f921\"]]}],\"heatmap\":[{\"type\":\"heatmap\",\"colorbar\":{\"outlinewidth\":0,\"ticks\":\"\"},\"colorscale\":[[0.0,\"#0d0887\"],[0.1111111111111111,\"#46039f\"],[0.2222222222222222,\"#7201a8\"],[0.3333333333333333,\"#9c179e\"],[0.4444444444444444,\"#bd3786\"],[0.5555555555555556,\"#d8576b\"],[0.6666666666666666,\"#ed7953\"],[0.7777777777777778,\"#fb9f3a\"],[0.8888888888888888,\"#fdca26\"],[1.0,\"#f0f921\"]]}],\"heatmapgl\":[{\"type\":\"heatmapgl\",\"colorbar\":{\"outlinewidth\":0,\"ticks\":\"\"},\"colorscale\":[[0.0,\"#0d0887\"],[0.1111111111111111,\"#46039f\"],[0.2222222222222222,\"#7201a8\"],[0.3333333333333333,\"#9c179e\"],[0.4444444444444444,\"#bd3786\"],[0.5555555555555556,\"#d8576b\"],[0.6666666666666666,\"#ed7953\"],[0.7777777777777778,\"#fb9f3a\"],[0.8888888888888888,\"#fdca26\"],[1.0,\"#f0f921\"]]}],\"contourcarpet\":[{\"type\":\"contourcarpet\",\"colorbar\":{\"outlinewidth\":0,\"ticks\":\"\"}}],\"contour\":[{\"type\":\"contour\",\"colorbar\":{\"outlinewidth\":0,\"ticks\":\"\"},\"colorscale\":[[0.0,\"#0d0887\"],[0.1111111111111111,\"#46039f\"],[0.2222222222222222,\"#7201a8\"],[0.3333333333333333,\"#9c179e\"],[0.4444444444444444,\"#bd3786\"],[0.5555555555555556,\"#d8576b\"],[0.6666666666666666,\"#ed7953\"],[0.7777777777777778,\"#fb9f3a\"],[0.8888888888888888,\"#fdca26\"],[1.0,\"#f0f921\"]]}],\"surface\":[{\"type\":\"surface\",\"colorbar\":{\"outlinewidth\":0,\"ticks\":\"\"},\"colorscale\":[[0.0,\"#0d0887\"],[0.1111111111111111,\"#46039f\"],[0.2222222222222222,\"#7201a8\"],[0.3333333333333333,\"#9c179e\"],[0.4444444444444444,\"#bd3786\"],[0.5555555555555556,\"#d8576b\"],[0.6666666666666666,\"#ed7953\"],[0.7777777777777778,\"#fb9f3a\"],[0.8888888888888888,\"#fdca26\"],[1.0,\"#f0f921\"]]}],\"mesh3d\":[{\"type\":\"mesh3d\",\"colorbar\":{\"outlinewidth\":0,\"ticks\":\"\"}}],\"scatter\":[{\"fillpattern\":{\"fillmode\":\"overlay\",\"size\":10,\"solidity\":0.2},\"type\":\"scatter\"}],\"parcoords\":[{\"type\":\"parcoords\",\"line\":{\"colorbar\":{\"outlinewidth\":0,\"ticks\":\"\"}}}],\"scatterpolargl\":[{\"type\":\"scatterpolargl\",\"marker\":{\"colorbar\":{\"outlinewidth\":0,\"ticks\":\"\"}}}],\"bar\":[{\"error_x\":{\"color\":\"#2a3f5f\"},\"error_y\":{\"color\":\"#2a3f5f\"},\"marker\":{\"line\":{\"color\":\"#E5ECF6\",\"width\":0.5},\"pattern\":{\"fillmode\":\"overlay\",\"size\":10,\"solidity\":0.2}},\"type\":\"bar\"}],\"scattergeo\":[{\"type\":\"scattergeo\",\"marker\":{\"colorbar\":{\"outlinewidth\":0,\"ticks\":\"\"}}}],\"scatterpolar\":[{\"type\":\"scatterpolar\",\"marker\":{\"colorbar\":{\"outlinewidth\":0,\"ticks\":\"\"}}}],\"histogram\":[{\"marker\":{\"pattern\":{\"fillmode\":\"overlay\",\"size\":10,\"solidity\":0.2}},\"type\":\"histogram\"}],\"scattergl\":[{\"type\":\"scattergl\",\"marker\":{\"colorbar\":{\"outlinewidth\":0,\"ticks\":\"\"}}}],\"scatter3d\":[{\"type\":\"scatter3d\",\"line\":{\"colorbar\":{\"outlinewidth\":0,\"ticks\":\"\"}},\"marker\":{\"colorbar\":{\"outlinewidth\":0,\"ticks\":\"\"}}}],\"scattermapbox\":[{\"type\":\"scattermapbox\",\"marker\":{\"colorbar\":{\"outlinewidth\":0,\"ticks\":\"\"}}}],\"scatterternary\":[{\"type\":\"scatterternary\",\"marker\":{\"colorbar\":{\"outlinewidth\":0,\"ticks\":\"\"}}}],\"scattercarpet\":[{\"type\":\"scattercarpet\",\"marker\":{\"colorbar\":{\"outlinewidth\":0,\"ticks\":\"\"}}}],\"carpet\":[{\"aaxis\":{\"endlinecolor\":\"#2a3f5f\",\"gridcolor\":\"white\",\"linecolor\":\"white\",\"minorgridcolor\":\"white\",\"startlinecolor\":\"#2a3f5f\"},\"baxis\":{\"endlinecolor\":\"#2a3f5f\",\"gridcolor\":\"white\",\"linecolor\":\"white\",\"minorgridcolor\":\"white\",\"startlinecolor\":\"#2a3f5f\"},\"type\":\"carpet\"}],\"table\":[{\"cells\":{\"fill\":{\"color\":\"#EBF0F8\"},\"line\":{\"color\":\"white\"}},\"header\":{\"fill\":{\"color\":\"#C8D4E3\"},\"line\":{\"color\":\"white\"}},\"type\":\"table\"}],\"barpolar\":[{\"marker\":{\"line\":{\"color\":\"#E5ECF6\",\"width\":0.5},\"pattern\":{\"fillmode\":\"overlay\",\"size\":10,\"solidity\":0.2}},\"type\":\"barpolar\"}],\"pie\":[{\"automargin\":true,\"type\":\"pie\"}]},\"layout\":{\"autotypenumbers\":\"strict\",\"colorway\":[\"#636efa\",\"#EF553B\",\"#00cc96\",\"#ab63fa\",\"#FFA15A\",\"#19d3f3\",\"#FF6692\",\"#B6E880\",\"#FF97FF\",\"#FECB52\"],\"font\":{\"color\":\"#2a3f5f\"},\"hovermode\":\"closest\",\"hoverlabel\":{\"align\":\"left\"},\"paper_bgcolor\":\"white\",\"plot_bgcolor\":\"#E5ECF6\",\"polar\":{\"bgcolor\":\"#E5ECF6\",\"angularaxis\":{\"gridcolor\":\"white\",\"linecolor\":\"white\",\"ticks\":\"\"},\"radialaxis\":{\"gridcolor\":\"white\",\"linecolor\":\"white\",\"ticks\":\"\"}},\"ternary\":{\"bgcolor\":\"#E5ECF6\",\"aaxis\":{\"gridcolor\":\"white\",\"linecolor\":\"white\",\"ticks\":\"\"},\"baxis\":{\"gridcolor\":\"white\",\"linecolor\":\"white\",\"ticks\":\"\"},\"caxis\":{\"gridcolor\":\"white\",\"linecolor\":\"white\",\"ticks\":\"\"}},\"coloraxis\":{\"colorbar\":{\"outlinewidth\":0,\"ticks\":\"\"}},\"colorscale\":{\"sequential\":[[0.0,\"#0d0887\"],[0.1111111111111111,\"#46039f\"],[0.2222222222222222,\"#7201a8\"],[0.3333333333333333,\"#9c179e\"],[0.4444444444444444,\"#bd3786\"],[0.5555555555555556,\"#d8576b\"],[0.6666666666666666,\"#ed7953\"],[0.7777777777777778,\"#fb9f3a\"],[0.8888888888888888,\"#fdca26\"],[1.0,\"#f0f921\"]],\"sequentialminus\":[[0.0,\"#0d0887\"],[0.1111111111111111,\"#46039f\"],[0.2222222222222222,\"#7201a8\"],[0.3333333333333333,\"#9c179e\"],[0.4444444444444444,\"#bd3786\"],[0.5555555555555556,\"#d8576b\"],[0.6666666666666666,\"#ed7953\"],[0.7777777777777778,\"#fb9f3a\"],[0.8888888888888888,\"#fdca26\"],[1.0,\"#f0f921\"]],\"diverging\":[[0,\"#8e0152\"],[0.1,\"#c51b7d\"],[0.2,\"#de77ae\"],[0.3,\"#f1b6da\"],[0.4,\"#fde0ef\"],[0.5,\"#f7f7f7\"],[0.6,\"#e6f5d0\"],[0.7,\"#b8e186\"],[0.8,\"#7fbc41\"],[0.9,\"#4d9221\"],[1,\"#276419\"]]},\"xaxis\":{\"gridcolor\":\"white\",\"linecolor\":\"white\",\"ticks\":\"\",\"title\":{\"standoff\":15},\"zerolinecolor\":\"white\",\"automargin\":true,\"zerolinewidth\":2},\"yaxis\":{\"gridcolor\":\"white\",\"linecolor\":\"white\",\"ticks\":\"\",\"title\":{\"standoff\":15},\"zerolinecolor\":\"white\",\"automargin\":true,\"zerolinewidth\":2},\"scene\":{\"xaxis\":{\"backgroundcolor\":\"#E5ECF6\",\"gridcolor\":\"white\",\"linecolor\":\"white\",\"showbackground\":true,\"ticks\":\"\",\"zerolinecolor\":\"white\",\"gridwidth\":2},\"yaxis\":{\"backgroundcolor\":\"#E5ECF6\",\"gridcolor\":\"white\",\"linecolor\":\"white\",\"showbackground\":true,\"ticks\":\"\",\"zerolinecolor\":\"white\",\"gridwidth\":2},\"zaxis\":{\"backgroundcolor\":\"#E5ECF6\",\"gridcolor\":\"white\",\"linecolor\":\"white\",\"showbackground\":true,\"ticks\":\"\",\"zerolinecolor\":\"white\",\"gridwidth\":2}},\"shapedefaults\":{\"line\":{\"color\":\"#2a3f5f\"}},\"annotationdefaults\":{\"arrowcolor\":\"#2a3f5f\",\"arrowhead\":0,\"arrowwidth\":1},\"geo\":{\"bgcolor\":\"white\",\"landcolor\":\"#E5ECF6\",\"subunitcolor\":\"white\",\"showland\":true,\"showlakes\":true,\"lakecolor\":\"white\"},\"title\":{\"x\":0.05},\"mapbox\":{\"style\":\"light\"}}},\"title\":{\"text\":\"\\u0412\\u044b\\u0431\\u043e\\u0440\\u043a\\u0438\"},\"xaxis\":{\"title\":{\"text\":\"\\u0414\\u0430\\u0442\\u0430\"}},\"yaxis\":{\"title\":{\"text\":\"\\u0421\\u0442\\u043e\\u0438\\u043c\\u043e\\u0441\\u0442\\u044c\"}}},                        {\"responsive\": true}                    ).then(function(){\n",
              "                            \n",
              "var gd = document.getElementById('e79426f0-8017-4edd-bb16-3720f392c0b4');\n",
              "var x = new MutationObserver(function (mutations, observer) {{\n",
              "        var display = window.getComputedStyle(gd).display;\n",
              "        if (!display || display === 'none') {{\n",
              "            console.log([gd, 'removed!']);\n",
              "            Plotly.purge(gd);\n",
              "            observer.disconnect();\n",
              "        }}\n",
              "}});\n",
              "\n",
              "// Listen for the removal of the full notebook cells\n",
              "var notebookContainer = gd.closest('#notebook-container');\n",
              "if (notebookContainer) {{\n",
              "    x.observe(notebookContainer, {childList: true});\n",
              "}}\n",
              "\n",
              "// Listen for the clearing of the current output cell\n",
              "var outputEl = gd.closest('.output');\n",
              "if (outputEl) {{\n",
              "    x.observe(outputEl, {childList: true});\n",
              "}}\n",
              "\n",
              "                        })                };                            </script>        </div>\n",
              "</body>\n",
              "</html>"
            ]
          },
          "metadata": {}
        }
      ]
    },
    {
      "cell_type": "code",
      "source": [
        "train_x = train.drop(['y'], axis=1)\n",
        "train_y = train['y']\n",
        "\n",
        "test_x = test.drop(['y'], axis=1)\n",
        "test_y = test['y']"
      ],
      "metadata": {
        "id": "yZ9Uo3EkpFsH"
      },
      "execution_count": 432,
      "outputs": []
    },
    {
      "cell_type": "markdown",
      "source": [
        "МНК"
      ],
      "metadata": {
        "id": "8mqIq2nwrZTX"
      }
    },
    {
      "cell_type": "code",
      "source": [
        "from scipy.optimize import curve_fit"
      ],
      "metadata": {
        "id": "aUtL8b9erFl1"
      },
      "execution_count": 433,
      "outputs": []
    },
    {
      "cell_type": "code",
      "source": [
        "def func(curr_data, a, b, c, b1, b2):\n",
        "  return a + b * curr_data['x'] + c * curr_data['x'] ** 2 + b1 * curr_data[\"High\"] + b2 * curr_data[\"Open\"]"
      ],
      "metadata": {
        "id": "hwU5ngOmrlMo"
      },
      "execution_count": 434,
      "outputs": []
    },
    {
      "cell_type": "code",
      "source": [
        "popt, pcov = curve_fit(func, train_x, train_y)\n",
        "a, b, c, b1, b2 = popt[0], popt[1], popt[2], popt[3], popt[4]\n",
        "\n",
        "res_y_train = a + b * train['x'] + c * train['x'] ** 2 + b1 * train[\"High\"] + b2 * train[\"Open\"]\n",
        "res_y_test = a + b * test['x'] + c * test['x'] ** 2 + b1 * test[\"High\"] + b2 * test[\"Open\"]"
      ],
      "metadata": {
        "id": "wdCqHW8jsOqK"
      },
      "execution_count": 435,
      "outputs": []
    },
    {
      "cell_type": "code",
      "source": [
        "fig = go.Figure()\n",
        "fig.add_trace(go.Scatter(x=train['x'], y=train['y'], name=\"train_y\"))\n",
        "fig.add_trace(go.Scatter(x=test['x'], y=test['y'], name=\"test_y\", line = dict(dash='dash')))\n",
        "fig.add_trace(go.Scatter(x=train['x'], y=res_y_train, name=\"МНК_train_y\"))\n",
        "fig.add_trace(go.Scatter(x=test['x'], y=res_y_test, name=\"МНК_test_y\", line = dict(dash='dash')))\n",
        "\n",
        "fig.update_layout(title=\"МНК\",\n",
        "                  xaxis_title=\"Дата\",\n",
        "                  yaxis_title=\"Стоимость\")"
      ],
      "metadata": {
        "colab": {
          "base_uri": "https://localhost:8080/",
          "height": 542
        },
        "id": "rPTDPmdtt2PS",
        "outputId": "7a50e881-3c16-4a04-813e-09910c4476dd"
      },
      "execution_count": 436,
      "outputs": [
        {
          "output_type": "display_data",
          "data": {
            "text/html": [
              "<html>\n",
              "<head><meta charset=\"utf-8\" /></head>\n",
              "<body>\n",
              "    <div>            <script src=\"https://cdnjs.cloudflare.com/ajax/libs/mathjax/2.7.5/MathJax.js?config=TeX-AMS-MML_SVG\"></script><script type=\"text/javascript\">if (window.MathJax && window.MathJax.Hub && window.MathJax.Hub.Config) {window.MathJax.Hub.Config({SVG: {font: \"STIX-Web\"}});}</script>                <script type=\"text/javascript\">window.PlotlyConfig = {MathJaxConfig: 'local'};</script>\n",
              "        <script charset=\"utf-8\" src=\"https://cdn.plot.ly/plotly-2.24.1.min.js\"></script>                <div id=\"d0b77ec5-6a14-4d86-8d6c-14578b6ffad1\" class=\"plotly-graph-div\" style=\"height:525px; width:100%;\"></div>            <script type=\"text/javascript\">                                    window.PLOTLYENV=window.PLOTLYENV || {};                                    if (document.getElementById(\"d0b77ec5-6a14-4d86-8d6c-14578b6ffad1\")) {                    Plotly.newPlot(                        \"d0b77ec5-6a14-4d86-8d6c-14578b6ffad1\",                        [{\"name\":\"train_y\",\"x\":[0.0,86400.0,345600.0,432000.0,518400.0,604800.0,691200.0,950400.0,1036800.0,1123200.0,1209600.0,1296000.0,1555200.0,1641600.0,1728000.0,1814400.0,2160000.0,2246400.0,2332800.0,2419200.0,2505600.0,2764800.0,2851200.0,2937600.0,3024000.0,3110400.0,3369600.0,3456000.0,3542400.0,3628800.0,3715200.0,3974400.0,4060800.0,4147200.0,4233600.0,4320000.0,4579200.0,4665600.0,4752000.0,4838400.0,4924800.0,5184000.0,5270400.0,5356800.0,5443200.0,5529600.0,5788800.0,5875200.0,5961600.0,6048000.0,6134400.0,6480000.0,6566400.0,6652800.0,6739200.0,6998400.0,7084800.0,7171200.0,7257600.0,7344000.0,7603200.0,7689600.0,7776000.0,7862400.0,7948800.0,8208000.0,8294400.0,8380800.0,8467200.0,8553600.0,8812800.0,8899200.0,8985600.0,9072000.0,9158400.0,9417600.0,9504000.0,9676800.0,9763200.0,10022400.0,10108800.0,10195200.0,10281600.0,10368000.0,10627200.0,10713600.0,10800000.0,10886400.0,10972800.0,11232000.0,11318400.0,11404800.0,11491200.0,11577600.0,11836800.0,11923200.0,12009600.0,12096000.0,12182400.0,12441600.0,12528000.0,12614400.0,12700800.0,12787200.0,13046400.0,13132800.0,13219200.0,13305600.0,13392000.0,13651200.0,13737600.0,13824000.0,13910400.0,13996800.0,14256000.0,14342400.0,14428800.0,14515200.0,14601600.0,14947200.0,15033600.0,15120000.0,15206400.0,15465600.0,15552000.0,15638400.0,15724800.0,15811200.0,16070400.0,16156800.0,16243200.0,16329600.0,16416000.0,16675200.0,16761600.0,16848000.0,16934400.0,17020800.0,17280000.0,17366400.0,17452800.0,17539200.0,17625600.0,17884800.0,17971200.0,18057600.0,18144000.0,18230400.0,18489600.0,18576000.0,18662400.0,18748800.0,18835200.0,19094400.0,19180800.0,19267200.0,19353600.0,19440000.0,19699200.0,19785600.0,19872000.0,19958400.0,20044800.0,20304000.0,20390400.0,20476800.0,20563200.0,20649600.0,20908800.0,20995200.0,21081600.0,21168000.0,21254400.0,21513600.0,21600000.0,21686400.0,21859200.0,22118400.0,22204800.0,22291200.0,22377600.0,22464000.0,22723200.0,22809600.0,22896000.0,22982400.0,23068800.0,23328000.0,23414400.0,23500800.0,23587200.0,23673600.0,23932800.0,24019200.0,24105600.0,24192000.0,24278400.0,24537600.0,24710400.0,24796800.0,24883200.0,25142400.0,25315200.0,25401600.0,25488000.0,25747200.0,25833600.0,25920000.0,26006400.0,26092800.0,26352000.0,26438400.0,26524800.0,26611200.0,26697600.0,27043200.0,27129600.0,27216000.0,27302400.0,27561600.0,27648000.0,27734400.0,27820800.0,27907200.0,28166400.0,28252800.0,28339200.0,28425600.0,28512000.0,28771200.0,28857600.0,28944000.0,29030400.0,29116800.0,29462400.0,29548800.0,29635200.0,29721600.0,29980800.0,30067200.0],\"y\":[29.81,30.02,30.0,30.0,30.33,31.36,31.33,31.25,31.56,31.45,31.71,31.21,31.22,31.41,31.61,32.0,32.01,31.64,31.65,31.26,31.15,31.68,31.98,28.42,28.1,27.86,27.53,28.03,28.22,27.98,28.35,28.32,28.25,27.72,28.25,33.27,30.13,30.24,30.16,30.52,29.62,29.79,29.16,28.89,28.99,28.9,29.62,29.33,29.1,28.65,28.44,28.36,28.19,28.76,28.9,28.6,28.4,28.05,27.34,27.02,27.27,27.3,27.12,27.38,27.49,27.72,29.4,27.89,27.69,27.68,27.6,27.73,27.51,27.44,27.21,27.19,26.95,26.92,27.01,26.92,27.09,27.03,26.7,26.87,26.48,26.74,26.07,26.32,25.7,25.43,24.8,25.01,24.4,23.98,23.55,23.88,23.17,22.65,23.2,23.03,22.75,23.46,23.67,23.93,24.21,24.69,23.56,23.0,23.26,23.64,23.25,23.22,23.35,23.03,23.59,22.95,22.6,22.49,22.81,23.3,24.1,24.22,23.76,23.85,23.31,23.64,23.6,23.69,24.5,25.06,25.09,25.28,25.54,26.13,25.7,26.7,26.95,26.49,26.76,27.2,27.16,27.19,27.78,28.01,28.35,28.43,28.44,27.76,28.32,27.37,29.1,28.59,29.36,28.93,30.12,30.68,30.75,32.43,34.07,31.55,31.5,30.86,30.54,30.71,31.76,29.27,28.11,26.13,25.8,25.53,26.42,24.94,25.66,27.11,26.93,26.11,25.98,26.08,25.18,26.03,26.01,26.96,26.64,26.14,26.63,25.88,25.86,25.51,25.15,24.82,24.39,24.13,23.8,23.22,22.92,23.5,23.88,24.01,23.85,23.6,23.66,23.22,23.8,23.86,23.81,23.12,23.28,22.47,23.19,23.81,23.51,23.0,22.2,22.0,21.27,19.29,19.25,20.44,22.24,21.56,20.87,18.62,18.87,28.68,28.33,28.78,29.11,28.63,28.98,29.89,29.81,29.78,29.98,29.94,29.34,28.71,28.76,28.36,28.42,27.93],\"type\":\"scatter\"},{\"line\":{\"dash\":\"dash\"},\"name\":\"test_y\",\"x\":[30153600.0,30240000.0,30326400.0,30585600.0,30672000.0,30758400.0,30844800.0,30931200.0,31190400.0,31276800.0,31363200.0,31449600.0,31536000.0,31795200.0,31881600.0,31968000.0,32054400.0,32400000.0,32486400.0,32572800.0,32659200.0,32745600.0,33004800.0,33091200.0,33177600.0,33264000.0,33350400.0,33609600.0,33696000.0,33782400.0,33868800.0,33955200.0,34214400.0,34300800.0,34387200.0,34473600.0,34560000.0,34819200.0,34905600.0,34992000.0,35078400.0,35164800.0,35424000.0,35510400.0,35596800.0,35683200.0,35769600.0,36028800.0,36115200.0,36201600.0,36288000.0,36374400.0,36633600.0,36720000.0,36806400.0,36892800.0,36979200.0,37238400.0,37324800.0,37411200.0],\"y\":[28.33,27.98,27.94,27.73,27.8,28.0,28.64,28.58,28.87,28.91,28.89,28.07,27.85,26.5,26.94,27.56,27.36,27.56,28.14,28.63,28.49,28.32,28.56,28.07,28.57,27.65,28.0,27.8,27.72,27.8,28.39,28.41,28.18,28.05,28.11,28.4,28.44,28.52,28.73,28.24,28.01,26.85,27.0,26.35,27.17,27.69,27.65,23.05,25.54,25.57,25.66,26.01,25.8,25.15,26.95,27.54,27.73,27.9,27.68,27.34],\"type\":\"scatter\"},{\"name\":\"\\u041c\\u041d\\u041a_train_y\",\"x\":[0.0,86400.0,345600.0,432000.0,518400.0,604800.0,691200.0,950400.0,1036800.0,1123200.0,1209600.0,1296000.0,1555200.0,1641600.0,1728000.0,1814400.0,2160000.0,2246400.0,2332800.0,2419200.0,2505600.0,2764800.0,2851200.0,2937600.0,3024000.0,3110400.0,3369600.0,3456000.0,3542400.0,3628800.0,3715200.0,3974400.0,4060800.0,4147200.0,4233600.0,4320000.0,4579200.0,4665600.0,4752000.0,4838400.0,4924800.0,5184000.0,5270400.0,5356800.0,5443200.0,5529600.0,5788800.0,5875200.0,5961600.0,6048000.0,6134400.0,6480000.0,6566400.0,6652800.0,6739200.0,6998400.0,7084800.0,7171200.0,7257600.0,7344000.0,7603200.0,7689600.0,7776000.0,7862400.0,7948800.0,8208000.0,8294400.0,8380800.0,8467200.0,8553600.0,8812800.0,8899200.0,8985600.0,9072000.0,9158400.0,9417600.0,9504000.0,9676800.0,9763200.0,10022400.0,10108800.0,10195200.0,10281600.0,10368000.0,10627200.0,10713600.0,10800000.0,10886400.0,10972800.0,11232000.0,11318400.0,11404800.0,11491200.0,11577600.0,11836800.0,11923200.0,12009600.0,12096000.0,12182400.0,12441600.0,12528000.0,12614400.0,12700800.0,12787200.0,13046400.0,13132800.0,13219200.0,13305600.0,13392000.0,13651200.0,13737600.0,13824000.0,13910400.0,13996800.0,14256000.0,14342400.0,14428800.0,14515200.0,14601600.0,14947200.0,15033600.0,15120000.0,15206400.0,15465600.0,15552000.0,15638400.0,15724800.0,15811200.0,16070400.0,16156800.0,16243200.0,16329600.0,16416000.0,16675200.0,16761600.0,16848000.0,16934400.0,17020800.0,17280000.0,17366400.0,17452800.0,17539200.0,17625600.0,17884800.0,17971200.0,18057600.0,18144000.0,18230400.0,18489600.0,18576000.0,18662400.0,18748800.0,18835200.0,19094400.0,19180800.0,19267200.0,19353600.0,19440000.0,19699200.0,19785600.0,19872000.0,19958400.0,20044800.0,20304000.0,20390400.0,20476800.0,20563200.0,20649600.0,20908800.0,20995200.0,21081600.0,21168000.0,21254400.0,21513600.0,21600000.0,21686400.0,21859200.0,22118400.0,22204800.0,22291200.0,22377600.0,22464000.0,22723200.0,22809600.0,22896000.0,22982400.0,23068800.0,23328000.0,23414400.0,23500800.0,23587200.0,23673600.0,23932800.0,24019200.0,24105600.0,24192000.0,24278400.0,24537600.0,24710400.0,24796800.0,24883200.0,25142400.0,25315200.0,25401600.0,25488000.0,25747200.0,25833600.0,25920000.0,26006400.0,26092800.0,26352000.0,26438400.0,26524800.0,26611200.0,26697600.0,27043200.0,27129600.0,27216000.0,27302400.0,27561600.0,27648000.0,27734400.0,27820800.0,27907200.0,28166400.0,28252800.0,28339200.0,28425600.0,28512000.0,28771200.0,28857600.0,28944000.0,29030400.0,29116800.0,29462400.0,29548800.0,29635200.0,29721600.0,29980800.0,30067200.0],\"y\":[29.77591776514328,29.830722905235863,29.92435294328977,30.06615477597772,31.002545637893274,31.082139784275633,31.42456173012183,31.45685294182133,31.376189698987858,31.44465982610255,31.45989389818574,31.370000911562542,31.136622717540824,31.67779730509198,31.580522580207052,31.79949173758581,31.974769987181165,31.77747820993347,31.477129547182063,31.198784040051553,31.229529039663067,31.478403460146037,31.84917042919553,28.96273649324559,27.984236060815668,27.617090019231227,27.84322579587957,27.916288478755238,27.977692373394493,28.339653283785665,28.503236902631556,28.21721320418541,28.07870440304545,27.99001436735589,28.150063417717945,32.807418561782605,30.966772924858173,30.743897112297123,30.16083355153267,30.37726131381733,29.86554765402103,29.69785303949917,29.193139531480846,29.081471324637178,28.83660646678556,29.450204237205007,29.49384119329835,29.110070053980316,29.09722997637871,28.631425122130622,28.44863828155109,28.42523731907931,28.101293115333213,28.506321225015213,28.81816892651844,28.516713554375094,28.31367783951012,27.860010828137398,27.48060097734804,27.153334047683813,27.18162606099539,27.333676003255142,27.1113416493764,27.2991555234935,27.218109041285256,27.96705255907094,28.945488948713223,28.014354791144076,27.647843849917102,27.491325664272793,27.47112617650615,27.831545060258353,27.376563586774996,27.19991587076978,27.093095041629564,26.96863529008592,26.94812109580685,26.822986754094163,26.819424327914376,26.998784432408698,27.205027658248735,26.754229510547525,26.675451428425518,26.640282776438536,26.44979252173332,27.362881431412447,26.417237738533196,26.004043268130147,25.624689585060064,25.170854080308366,25.033914934093588,24.949118709003944,24.223330978172406,24.15864776326931,23.563730873817857,23.56302201668658,23.120023936783532,23.314963074328872,22.98057209157892,22.820962472236495,23.29789424918234,23.421030890322978,24.017644264425183,23.832156223861535,24.326383370515387,24.319363193789005,23.73903840032291,22.854086372923213,23.22688962014737,23.35184744652037,23.157222160808182,23.151674598191427,23.003924873473473,23.350314116024958,23.34210706492867,22.80620194272679,22.36906545021582,22.52981280319044,22.445666174869526,23.981188204582505,23.942203770275352,23.95387312280934,23.722827686066037,23.492664322604142,23.49259473713262,23.525240990290328,23.57745722457865,24.509270341549033,24.607147191626975,24.790949533692928,24.993450890657805,25.21218214319038,25.771958674407184,25.968743762237583,26.25544150597637,26.587818853052873,26.584483976192566,26.556200674233402,26.695133169221503,26.849057947083743,27.020882663295136,26.935031726292664,27.721079202372874,27.790429307329468,28.34537539314798,28.326544842123653,28.31635473588318,28.163708485069467,27.991210595678165,27.22106099898385,28.669352353590114,29.21113399671385,29.481006309554992,29.596241279268668,30.34281638104605,30.55755511406328,31.192246662719374,33.33328967341624,33.5893372041241,31.564051385307675,31.39709627717016,30.805825839313734,30.836841697234888,31.84582374509838,31.340748858265755,29.20828848152132,27.990831232364968,26.19298788062917,25.820380278917607,25.820979673622713,25.971983534928903,25.44364969044547,26.52987958907095,26.801775001523115,26.863727291654243,26.24071476389173,25.990882085114258,25.840020204803807,25.62471240543788,26.159620192726592,26.257430978378046,26.812959740797393,26.79379589157234,26.336123914085942,26.282753830567597,25.694243237567132,25.695592148298907,25.205012253676404,25.239469754100572,24.61546982067407,24.354847443021125,24.056675876848434,23.630834311177,22.982964631405444,23.227328542577794,23.294049286194642,23.624541869481597,23.743344803691066,23.809548706785943,23.701882088597507,23.27854849702049,23.030406266623835,23.630920627324116,23.7272430769033,23.390572926409625,23.15782021459497,23.165421398760202,22.416012491993136,23.92389870151846,23.602682924752887,23.33237566882353,23.047827789237036,22.33591560597439,21.72854531245586,21.202367517411258,20.59992194164669,19.769217671396845,21.033962115940305,21.716795378779366,21.480607245576927,20.507617414142306,20.353073968149573,18.800496229956156,28.263761427533304,28.99710736065687,29.02244370876721,28.852851869710737,28.76067636830309,28.736294709691393,29.518042729531683,29.42389574862792,29.621736347645,29.77981262128316,29.709952876790467,29.04485442469166,28.638585322733423,28.688436044443538,28.215528982461336,28.1077148463574,28.095133649065446],\"type\":\"scatter\"},{\"line\":{\"dash\":\"dash\"},\"name\":\"\\u041c\\u041d\\u041a_test_y\",\"x\":[30153600.0,30240000.0,30326400.0,30585600.0,30672000.0,30758400.0,30844800.0,30931200.0,31190400.0,31276800.0,31363200.0,31449600.0,31536000.0,31795200.0,31881600.0,31968000.0,32054400.0,32400000.0,32486400.0,32572800.0,32659200.0,32745600.0,33004800.0,33091200.0,33177600.0,33264000.0,33350400.0,33609600.0,33696000.0,33782400.0,33868800.0,33955200.0,34214400.0,34300800.0,34387200.0,34473600.0,34560000.0,34819200.0,34905600.0,34992000.0,35078400.0,35164800.0,35424000.0,35510400.0,35596800.0,35683200.0,35769600.0,36028800.0,36115200.0,36201600.0,36288000.0,36374400.0,36633600.0,36720000.0,36806400.0,36892800.0,36979200.0,37238400.0,37324800.0,37411200.0],\"y\":[27.988610096178572,28.327021663848576,27.920043918959948,27.615953253759407,27.583930518818974,28.22978817018152,28.430052458050323,28.67664927785744,28.487480773367757,28.679201245137477,28.556416821355974,27.87797580173367,27.511530483446798,26.296852426706582,27.126352762137415,27.234791977034348,27.407211744768496,27.526473992655315,28.15896357758586,28.24610911926273,28.044604220830745,28.56023400411479,28.566478509156617,28.140515566018706,28.069941781741964,27.779420376246758,27.88869870131932,27.652477043960946,27.33325873729556,27.440928584159593,28.114781487039053,28.10388642536328,27.85988698810685,27.75362731546137,27.874028434250228,27.87935294303317,28.152044543813865,28.162262169754285,28.349792693336838,27.89360860937421,27.597851617286768,26.536987118539113,26.555876962802067,26.921869155156486,27.12256496090424,27.712201666262246,29.01770195668336,24.68775754368186,25.39104477719094,25.16592372880501,25.825448004871824,25.608748482909533,25.363304487169334,26.204671776748164,26.60345991624221,27.35030056199297,27.38436078002058,27.743404739907593,27.643173107999083,27.393803976098802],\"type\":\"scatter\"}],                        {\"template\":{\"data\":{\"histogram2dcontour\":[{\"type\":\"histogram2dcontour\",\"colorbar\":{\"outlinewidth\":0,\"ticks\":\"\"},\"colorscale\":[[0.0,\"#0d0887\"],[0.1111111111111111,\"#46039f\"],[0.2222222222222222,\"#7201a8\"],[0.3333333333333333,\"#9c179e\"],[0.4444444444444444,\"#bd3786\"],[0.5555555555555556,\"#d8576b\"],[0.6666666666666666,\"#ed7953\"],[0.7777777777777778,\"#fb9f3a\"],[0.8888888888888888,\"#fdca26\"],[1.0,\"#f0f921\"]]}],\"choropleth\":[{\"type\":\"choropleth\",\"colorbar\":{\"outlinewidth\":0,\"ticks\":\"\"}}],\"histogram2d\":[{\"type\":\"histogram2d\",\"colorbar\":{\"outlinewidth\":0,\"ticks\":\"\"},\"colorscale\":[[0.0,\"#0d0887\"],[0.1111111111111111,\"#46039f\"],[0.2222222222222222,\"#7201a8\"],[0.3333333333333333,\"#9c179e\"],[0.4444444444444444,\"#bd3786\"],[0.5555555555555556,\"#d8576b\"],[0.6666666666666666,\"#ed7953\"],[0.7777777777777778,\"#fb9f3a\"],[0.8888888888888888,\"#fdca26\"],[1.0,\"#f0f921\"]]}],\"heatmap\":[{\"type\":\"heatmap\",\"colorbar\":{\"outlinewidth\":0,\"ticks\":\"\"},\"colorscale\":[[0.0,\"#0d0887\"],[0.1111111111111111,\"#46039f\"],[0.2222222222222222,\"#7201a8\"],[0.3333333333333333,\"#9c179e\"],[0.4444444444444444,\"#bd3786\"],[0.5555555555555556,\"#d8576b\"],[0.6666666666666666,\"#ed7953\"],[0.7777777777777778,\"#fb9f3a\"],[0.8888888888888888,\"#fdca26\"],[1.0,\"#f0f921\"]]}],\"heatmapgl\":[{\"type\":\"heatmapgl\",\"colorbar\":{\"outlinewidth\":0,\"ticks\":\"\"},\"colorscale\":[[0.0,\"#0d0887\"],[0.1111111111111111,\"#46039f\"],[0.2222222222222222,\"#7201a8\"],[0.3333333333333333,\"#9c179e\"],[0.4444444444444444,\"#bd3786\"],[0.5555555555555556,\"#d8576b\"],[0.6666666666666666,\"#ed7953\"],[0.7777777777777778,\"#fb9f3a\"],[0.8888888888888888,\"#fdca26\"],[1.0,\"#f0f921\"]]}],\"contourcarpet\":[{\"type\":\"contourcarpet\",\"colorbar\":{\"outlinewidth\":0,\"ticks\":\"\"}}],\"contour\":[{\"type\":\"contour\",\"colorbar\":{\"outlinewidth\":0,\"ticks\":\"\"},\"colorscale\":[[0.0,\"#0d0887\"],[0.1111111111111111,\"#46039f\"],[0.2222222222222222,\"#7201a8\"],[0.3333333333333333,\"#9c179e\"],[0.4444444444444444,\"#bd3786\"],[0.5555555555555556,\"#d8576b\"],[0.6666666666666666,\"#ed7953\"],[0.7777777777777778,\"#fb9f3a\"],[0.8888888888888888,\"#fdca26\"],[1.0,\"#f0f921\"]]}],\"surface\":[{\"type\":\"surface\",\"colorbar\":{\"outlinewidth\":0,\"ticks\":\"\"},\"colorscale\":[[0.0,\"#0d0887\"],[0.1111111111111111,\"#46039f\"],[0.2222222222222222,\"#7201a8\"],[0.3333333333333333,\"#9c179e\"],[0.4444444444444444,\"#bd3786\"],[0.5555555555555556,\"#d8576b\"],[0.6666666666666666,\"#ed7953\"],[0.7777777777777778,\"#fb9f3a\"],[0.8888888888888888,\"#fdca26\"],[1.0,\"#f0f921\"]]}],\"mesh3d\":[{\"type\":\"mesh3d\",\"colorbar\":{\"outlinewidth\":0,\"ticks\":\"\"}}],\"scatter\":[{\"fillpattern\":{\"fillmode\":\"overlay\",\"size\":10,\"solidity\":0.2},\"type\":\"scatter\"}],\"parcoords\":[{\"type\":\"parcoords\",\"line\":{\"colorbar\":{\"outlinewidth\":0,\"ticks\":\"\"}}}],\"scatterpolargl\":[{\"type\":\"scatterpolargl\",\"marker\":{\"colorbar\":{\"outlinewidth\":0,\"ticks\":\"\"}}}],\"bar\":[{\"error_x\":{\"color\":\"#2a3f5f\"},\"error_y\":{\"color\":\"#2a3f5f\"},\"marker\":{\"line\":{\"color\":\"#E5ECF6\",\"width\":0.5},\"pattern\":{\"fillmode\":\"overlay\",\"size\":10,\"solidity\":0.2}},\"type\":\"bar\"}],\"scattergeo\":[{\"type\":\"scattergeo\",\"marker\":{\"colorbar\":{\"outlinewidth\":0,\"ticks\":\"\"}}}],\"scatterpolar\":[{\"type\":\"scatterpolar\",\"marker\":{\"colorbar\":{\"outlinewidth\":0,\"ticks\":\"\"}}}],\"histogram\":[{\"marker\":{\"pattern\":{\"fillmode\":\"overlay\",\"size\":10,\"solidity\":0.2}},\"type\":\"histogram\"}],\"scattergl\":[{\"type\":\"scattergl\",\"marker\":{\"colorbar\":{\"outlinewidth\":0,\"ticks\":\"\"}}}],\"scatter3d\":[{\"type\":\"scatter3d\",\"line\":{\"colorbar\":{\"outlinewidth\":0,\"ticks\":\"\"}},\"marker\":{\"colorbar\":{\"outlinewidth\":0,\"ticks\":\"\"}}}],\"scattermapbox\":[{\"type\":\"scattermapbox\",\"marker\":{\"colorbar\":{\"outlinewidth\":0,\"ticks\":\"\"}}}],\"scatterternary\":[{\"type\":\"scatterternary\",\"marker\":{\"colorbar\":{\"outlinewidth\":0,\"ticks\":\"\"}}}],\"scattercarpet\":[{\"type\":\"scattercarpet\",\"marker\":{\"colorbar\":{\"outlinewidth\":0,\"ticks\":\"\"}}}],\"carpet\":[{\"aaxis\":{\"endlinecolor\":\"#2a3f5f\",\"gridcolor\":\"white\",\"linecolor\":\"white\",\"minorgridcolor\":\"white\",\"startlinecolor\":\"#2a3f5f\"},\"baxis\":{\"endlinecolor\":\"#2a3f5f\",\"gridcolor\":\"white\",\"linecolor\":\"white\",\"minorgridcolor\":\"white\",\"startlinecolor\":\"#2a3f5f\"},\"type\":\"carpet\"}],\"table\":[{\"cells\":{\"fill\":{\"color\":\"#EBF0F8\"},\"line\":{\"color\":\"white\"}},\"header\":{\"fill\":{\"color\":\"#C8D4E3\"},\"line\":{\"color\":\"white\"}},\"type\":\"table\"}],\"barpolar\":[{\"marker\":{\"line\":{\"color\":\"#E5ECF6\",\"width\":0.5},\"pattern\":{\"fillmode\":\"overlay\",\"size\":10,\"solidity\":0.2}},\"type\":\"barpolar\"}],\"pie\":[{\"automargin\":true,\"type\":\"pie\"}]},\"layout\":{\"autotypenumbers\":\"strict\",\"colorway\":[\"#636efa\",\"#EF553B\",\"#00cc96\",\"#ab63fa\",\"#FFA15A\",\"#19d3f3\",\"#FF6692\",\"#B6E880\",\"#FF97FF\",\"#FECB52\"],\"font\":{\"color\":\"#2a3f5f\"},\"hovermode\":\"closest\",\"hoverlabel\":{\"align\":\"left\"},\"paper_bgcolor\":\"white\",\"plot_bgcolor\":\"#E5ECF6\",\"polar\":{\"bgcolor\":\"#E5ECF6\",\"angularaxis\":{\"gridcolor\":\"white\",\"linecolor\":\"white\",\"ticks\":\"\"},\"radialaxis\":{\"gridcolor\":\"white\",\"linecolor\":\"white\",\"ticks\":\"\"}},\"ternary\":{\"bgcolor\":\"#E5ECF6\",\"aaxis\":{\"gridcolor\":\"white\",\"linecolor\":\"white\",\"ticks\":\"\"},\"baxis\":{\"gridcolor\":\"white\",\"linecolor\":\"white\",\"ticks\":\"\"},\"caxis\":{\"gridcolor\":\"white\",\"linecolor\":\"white\",\"ticks\":\"\"}},\"coloraxis\":{\"colorbar\":{\"outlinewidth\":0,\"ticks\":\"\"}},\"colorscale\":{\"sequential\":[[0.0,\"#0d0887\"],[0.1111111111111111,\"#46039f\"],[0.2222222222222222,\"#7201a8\"],[0.3333333333333333,\"#9c179e\"],[0.4444444444444444,\"#bd3786\"],[0.5555555555555556,\"#d8576b\"],[0.6666666666666666,\"#ed7953\"],[0.7777777777777778,\"#fb9f3a\"],[0.8888888888888888,\"#fdca26\"],[1.0,\"#f0f921\"]],\"sequentialminus\":[[0.0,\"#0d0887\"],[0.1111111111111111,\"#46039f\"],[0.2222222222222222,\"#7201a8\"],[0.3333333333333333,\"#9c179e\"],[0.4444444444444444,\"#bd3786\"],[0.5555555555555556,\"#d8576b\"],[0.6666666666666666,\"#ed7953\"],[0.7777777777777778,\"#fb9f3a\"],[0.8888888888888888,\"#fdca26\"],[1.0,\"#f0f921\"]],\"diverging\":[[0,\"#8e0152\"],[0.1,\"#c51b7d\"],[0.2,\"#de77ae\"],[0.3,\"#f1b6da\"],[0.4,\"#fde0ef\"],[0.5,\"#f7f7f7\"],[0.6,\"#e6f5d0\"],[0.7,\"#b8e186\"],[0.8,\"#7fbc41\"],[0.9,\"#4d9221\"],[1,\"#276419\"]]},\"xaxis\":{\"gridcolor\":\"white\",\"linecolor\":\"white\",\"ticks\":\"\",\"title\":{\"standoff\":15},\"zerolinecolor\":\"white\",\"automargin\":true,\"zerolinewidth\":2},\"yaxis\":{\"gridcolor\":\"white\",\"linecolor\":\"white\",\"ticks\":\"\",\"title\":{\"standoff\":15},\"zerolinecolor\":\"white\",\"automargin\":true,\"zerolinewidth\":2},\"scene\":{\"xaxis\":{\"backgroundcolor\":\"#E5ECF6\",\"gridcolor\":\"white\",\"linecolor\":\"white\",\"showbackground\":true,\"ticks\":\"\",\"zerolinecolor\":\"white\",\"gridwidth\":2},\"yaxis\":{\"backgroundcolor\":\"#E5ECF6\",\"gridcolor\":\"white\",\"linecolor\":\"white\",\"showbackground\":true,\"ticks\":\"\",\"zerolinecolor\":\"white\",\"gridwidth\":2},\"zaxis\":{\"backgroundcolor\":\"#E5ECF6\",\"gridcolor\":\"white\",\"linecolor\":\"white\",\"showbackground\":true,\"ticks\":\"\",\"zerolinecolor\":\"white\",\"gridwidth\":2}},\"shapedefaults\":{\"line\":{\"color\":\"#2a3f5f\"}},\"annotationdefaults\":{\"arrowcolor\":\"#2a3f5f\",\"arrowhead\":0,\"arrowwidth\":1},\"geo\":{\"bgcolor\":\"white\",\"landcolor\":\"#E5ECF6\",\"subunitcolor\":\"white\",\"showland\":true,\"showlakes\":true,\"lakecolor\":\"white\"},\"title\":{\"x\":0.05},\"mapbox\":{\"style\":\"light\"}}},\"title\":{\"text\":\"\\u041c\\u041d\\u041a\"},\"xaxis\":{\"title\":{\"text\":\"\\u0414\\u0430\\u0442\\u0430\"}},\"yaxis\":{\"title\":{\"text\":\"\\u0421\\u0442\\u043e\\u0438\\u043c\\u043e\\u0441\\u0442\\u044c\"}}},                        {\"responsive\": true}                    ).then(function(){\n",
              "                            \n",
              "var gd = document.getElementById('d0b77ec5-6a14-4d86-8d6c-14578b6ffad1');\n",
              "var x = new MutationObserver(function (mutations, observer) {{\n",
              "        var display = window.getComputedStyle(gd).display;\n",
              "        if (!display || display === 'none') {{\n",
              "            console.log([gd, 'removed!']);\n",
              "            Plotly.purge(gd);\n",
              "            observer.disconnect();\n",
              "        }}\n",
              "}});\n",
              "\n",
              "// Listen for the removal of the full notebook cells\n",
              "var notebookContainer = gd.closest('#notebook-container');\n",
              "if (notebookContainer) {{\n",
              "    x.observe(notebookContainer, {childList: true});\n",
              "}}\n",
              "\n",
              "// Listen for the clearing of the current output cell\n",
              "var outputEl = gd.closest('.output');\n",
              "if (outputEl) {{\n",
              "    x.observe(outputEl, {childList: true});\n",
              "}}\n",
              "\n",
              "                        })                };                            </script>        </div>\n",
              "</body>\n",
              "</html>"
            ]
          },
          "metadata": {}
        }
      ]
    },
    {
      "cell_type": "code",
      "source": [
        "print(\"МНК train rmse:\", sqrt(mean_squared_error(train['y'], res_y_train)))\n",
        "print(\"МНК test rmse:\", sqrt(mean_squared_error(test['y'], res_y_test)))"
      ],
      "metadata": {
        "colab": {
          "base_uri": "https://localhost:8080/"
        },
        "id": "EedJ7cDswZn0",
        "outputId": "53b319c5-21e1-4381-e448-7f2a58f85ca9"
      },
      "execution_count": 437,
      "outputs": [
        {
          "output_type": "stream",
          "name": "stdout",
          "text": [
            "МНК train rmse: 0.3197508489957505\n",
            "МНК test rmse: 0.41892446492515717\n"
          ]
        }
      ]
    },
    {
      "cell_type": "markdown",
      "source": [
        "KNN"
      ],
      "metadata": {
        "id": "OG-C0-nJxC1i"
      }
    },
    {
      "cell_type": "code",
      "source": [
        "from sklearn.neighbors import KNeighborsRegressor"
      ],
      "metadata": {
        "id": "PY1GM3gYw4T4"
      },
      "execution_count": 438,
      "outputs": []
    },
    {
      "cell_type": "code",
      "source": [
        "model = KNeighborsRegressor()\n",
        "\n",
        "model.fit(train_x, train_y)\n",
        "\n",
        "res_y_train = model.predict(train_x)\n",
        "res_y_test = model.predict(test_x)"
      ],
      "metadata": {
        "id": "xoq6n3Rpx6Nz"
      },
      "execution_count": 439,
      "outputs": []
    },
    {
      "cell_type": "code",
      "source": [
        "fig = go.Figure()\n",
        "fig.add_trace(go.Scatter(x=train['x'], y=train['y'], name=\"train_y\"))\n",
        "fig.add_trace(go.Scatter(x=test['x'], y=test['y'], name=\"test_y\", line = dict(dash='dash')))\n",
        "fig.add_trace(go.Scatter(x=train['x'], y=res_y_train, name=\"KNN_train_y\"))\n",
        "fig.add_trace(go.Scatter(x=test['x'], y=res_y_test, name=\"KNN_test_y\", line = dict(dash='dash')))\n",
        "\n",
        "fig.update_layout(title=\"KNN\",\n",
        "                  xaxis_title=\"Дата\",\n",
        "                  yaxis_title=\"Стоимость\")"
      ],
      "metadata": {
        "colab": {
          "base_uri": "https://localhost:8080/",
          "height": 542
        },
        "id": "O2NaVvPIysNe",
        "outputId": "09c57b4b-cc8c-4748-e49d-1ed94b8cc937"
      },
      "execution_count": 440,
      "outputs": [
        {
          "output_type": "display_data",
          "data": {
            "text/html": [
              "<html>\n",
              "<head><meta charset=\"utf-8\" /></head>\n",
              "<body>\n",
              "    <div>            <script src=\"https://cdnjs.cloudflare.com/ajax/libs/mathjax/2.7.5/MathJax.js?config=TeX-AMS-MML_SVG\"></script><script type=\"text/javascript\">if (window.MathJax && window.MathJax.Hub && window.MathJax.Hub.Config) {window.MathJax.Hub.Config({SVG: {font: \"STIX-Web\"}});}</script>                <script type=\"text/javascript\">window.PlotlyConfig = {MathJaxConfig: 'local'};</script>\n",
              "        <script charset=\"utf-8\" src=\"https://cdn.plot.ly/plotly-2.24.1.min.js\"></script>                <div id=\"fcf7030c-7a66-435e-9ea5-3c52737b4d89\" class=\"plotly-graph-div\" style=\"height:525px; width:100%;\"></div>            <script type=\"text/javascript\">                                    window.PLOTLYENV=window.PLOTLYENV || {};                                    if (document.getElementById(\"fcf7030c-7a66-435e-9ea5-3c52737b4d89\")) {                    Plotly.newPlot(                        \"fcf7030c-7a66-435e-9ea5-3c52737b4d89\",                        [{\"name\":\"train_y\",\"x\":[0.0,86400.0,345600.0,432000.0,518400.0,604800.0,691200.0,950400.0,1036800.0,1123200.0,1209600.0,1296000.0,1555200.0,1641600.0,1728000.0,1814400.0,2160000.0,2246400.0,2332800.0,2419200.0,2505600.0,2764800.0,2851200.0,2937600.0,3024000.0,3110400.0,3369600.0,3456000.0,3542400.0,3628800.0,3715200.0,3974400.0,4060800.0,4147200.0,4233600.0,4320000.0,4579200.0,4665600.0,4752000.0,4838400.0,4924800.0,5184000.0,5270400.0,5356800.0,5443200.0,5529600.0,5788800.0,5875200.0,5961600.0,6048000.0,6134400.0,6480000.0,6566400.0,6652800.0,6739200.0,6998400.0,7084800.0,7171200.0,7257600.0,7344000.0,7603200.0,7689600.0,7776000.0,7862400.0,7948800.0,8208000.0,8294400.0,8380800.0,8467200.0,8553600.0,8812800.0,8899200.0,8985600.0,9072000.0,9158400.0,9417600.0,9504000.0,9676800.0,9763200.0,10022400.0,10108800.0,10195200.0,10281600.0,10368000.0,10627200.0,10713600.0,10800000.0,10886400.0,10972800.0,11232000.0,11318400.0,11404800.0,11491200.0,11577600.0,11836800.0,11923200.0,12009600.0,12096000.0,12182400.0,12441600.0,12528000.0,12614400.0,12700800.0,12787200.0,13046400.0,13132800.0,13219200.0,13305600.0,13392000.0,13651200.0,13737600.0,13824000.0,13910400.0,13996800.0,14256000.0,14342400.0,14428800.0,14515200.0,14601600.0,14947200.0,15033600.0,15120000.0,15206400.0,15465600.0,15552000.0,15638400.0,15724800.0,15811200.0,16070400.0,16156800.0,16243200.0,16329600.0,16416000.0,16675200.0,16761600.0,16848000.0,16934400.0,17020800.0,17280000.0,17366400.0,17452800.0,17539200.0,17625600.0,17884800.0,17971200.0,18057600.0,18144000.0,18230400.0,18489600.0,18576000.0,18662400.0,18748800.0,18835200.0,19094400.0,19180800.0,19267200.0,19353600.0,19440000.0,19699200.0,19785600.0,19872000.0,19958400.0,20044800.0,20304000.0,20390400.0,20476800.0,20563200.0,20649600.0,20908800.0,20995200.0,21081600.0,21168000.0,21254400.0,21513600.0,21600000.0,21686400.0,21859200.0,22118400.0,22204800.0,22291200.0,22377600.0,22464000.0,22723200.0,22809600.0,22896000.0,22982400.0,23068800.0,23328000.0,23414400.0,23500800.0,23587200.0,23673600.0,23932800.0,24019200.0,24105600.0,24192000.0,24278400.0,24537600.0,24710400.0,24796800.0,24883200.0,25142400.0,25315200.0,25401600.0,25488000.0,25747200.0,25833600.0,25920000.0,26006400.0,26092800.0,26352000.0,26438400.0,26524800.0,26611200.0,26697600.0,27043200.0,27129600.0,27216000.0,27302400.0,27561600.0,27648000.0,27734400.0,27820800.0,27907200.0,28166400.0,28252800.0,28339200.0,28425600.0,28512000.0,28771200.0,28857600.0,28944000.0,29030400.0,29116800.0,29462400.0,29548800.0,29635200.0,29721600.0,29980800.0,30067200.0],\"y\":[29.81,30.02,30.0,30.0,30.33,31.36,31.33,31.25,31.56,31.45,31.71,31.21,31.22,31.41,31.61,32.0,32.01,31.64,31.65,31.26,31.15,31.68,31.98,28.42,28.1,27.86,27.53,28.03,28.22,27.98,28.35,28.32,28.25,27.72,28.25,33.27,30.13,30.24,30.16,30.52,29.62,29.79,29.16,28.89,28.99,28.9,29.62,29.33,29.1,28.65,28.44,28.36,28.19,28.76,28.9,28.6,28.4,28.05,27.34,27.02,27.27,27.3,27.12,27.38,27.49,27.72,29.4,27.89,27.69,27.68,27.6,27.73,27.51,27.44,27.21,27.19,26.95,26.92,27.01,26.92,27.09,27.03,26.7,26.87,26.48,26.74,26.07,26.32,25.7,25.43,24.8,25.01,24.4,23.98,23.55,23.88,23.17,22.65,23.2,23.03,22.75,23.46,23.67,23.93,24.21,24.69,23.56,23.0,23.26,23.64,23.25,23.22,23.35,23.03,23.59,22.95,22.6,22.49,22.81,23.3,24.1,24.22,23.76,23.85,23.31,23.64,23.6,23.69,24.5,25.06,25.09,25.28,25.54,26.13,25.7,26.7,26.95,26.49,26.76,27.2,27.16,27.19,27.78,28.01,28.35,28.43,28.44,27.76,28.32,27.37,29.1,28.59,29.36,28.93,30.12,30.68,30.75,32.43,34.07,31.55,31.5,30.86,30.54,30.71,31.76,29.27,28.11,26.13,25.8,25.53,26.42,24.94,25.66,27.11,26.93,26.11,25.98,26.08,25.18,26.03,26.01,26.96,26.64,26.14,26.63,25.88,25.86,25.51,25.15,24.82,24.39,24.13,23.8,23.22,22.92,23.5,23.88,24.01,23.85,23.6,23.66,23.22,23.8,23.86,23.81,23.12,23.28,22.47,23.19,23.81,23.51,23.0,22.2,22.0,21.27,19.29,19.25,20.44,22.24,21.56,20.87,18.62,18.87,28.68,28.33,28.78,29.11,28.63,28.98,29.89,29.81,29.78,29.98,29.94,29.34,28.71,28.76,28.36,28.42,27.93],\"type\":\"scatter\"},{\"line\":{\"dash\":\"dash\"},\"name\":\"test_y\",\"x\":[30153600.0,30240000.0,30326400.0,30585600.0,30672000.0,30758400.0,30844800.0,30931200.0,31190400.0,31276800.0,31363200.0,31449600.0,31536000.0,31795200.0,31881600.0,31968000.0,32054400.0,32400000.0,32486400.0,32572800.0,32659200.0,32745600.0,33004800.0,33091200.0,33177600.0,33264000.0,33350400.0,33609600.0,33696000.0,33782400.0,33868800.0,33955200.0,34214400.0,34300800.0,34387200.0,34473600.0,34560000.0,34819200.0,34905600.0,34992000.0,35078400.0,35164800.0,35424000.0,35510400.0,35596800.0,35683200.0,35769600.0,36028800.0,36115200.0,36201600.0,36288000.0,36374400.0,36633600.0,36720000.0,36806400.0,36892800.0,36979200.0,37238400.0,37324800.0,37411200.0],\"y\":[28.33,27.98,27.94,27.73,27.8,28.0,28.64,28.58,28.87,28.91,28.89,28.07,27.85,26.5,26.94,27.56,27.36,27.56,28.14,28.63,28.49,28.32,28.56,28.07,28.57,27.65,28.0,27.8,27.72,27.8,28.39,28.41,28.18,28.05,28.11,28.4,28.44,28.52,28.73,28.24,28.01,26.85,27.0,26.35,27.17,27.69,27.65,23.05,25.54,25.57,25.66,26.01,25.8,25.15,26.95,27.54,27.73,27.9,27.68,27.34],\"type\":\"scatter\"},{\"name\":\"KNN_train_y\",\"x\":[0.0,86400.0,345600.0,432000.0,518400.0,604800.0,691200.0,950400.0,1036800.0,1123200.0,1209600.0,1296000.0,1555200.0,1641600.0,1728000.0,1814400.0,2160000.0,2246400.0,2332800.0,2419200.0,2505600.0,2764800.0,2851200.0,2937600.0,3024000.0,3110400.0,3369600.0,3456000.0,3542400.0,3628800.0,3715200.0,3974400.0,4060800.0,4147200.0,4233600.0,4320000.0,4579200.0,4665600.0,4752000.0,4838400.0,4924800.0,5184000.0,5270400.0,5356800.0,5443200.0,5529600.0,5788800.0,5875200.0,5961600.0,6048000.0,6134400.0,6480000.0,6566400.0,6652800.0,6739200.0,6998400.0,7084800.0,7171200.0,7257600.0,7344000.0,7603200.0,7689600.0,7776000.0,7862400.0,7948800.0,8208000.0,8294400.0,8380800.0,8467200.0,8553600.0,8812800.0,8899200.0,8985600.0,9072000.0,9158400.0,9417600.0,9504000.0,9676800.0,9763200.0,10022400.0,10108800.0,10195200.0,10281600.0,10368000.0,10627200.0,10713600.0,10800000.0,10886400.0,10972800.0,11232000.0,11318400.0,11404800.0,11491200.0,11577600.0,11836800.0,11923200.0,12009600.0,12096000.0,12182400.0,12441600.0,12528000.0,12614400.0,12700800.0,12787200.0,13046400.0,13132800.0,13219200.0,13305600.0,13392000.0,13651200.0,13737600.0,13824000.0,13910400.0,13996800.0,14256000.0,14342400.0,14428800.0,14515200.0,14601600.0,14947200.0,15033600.0,15120000.0,15206400.0,15465600.0,15552000.0,15638400.0,15724800.0,15811200.0,16070400.0,16156800.0,16243200.0,16329600.0,16416000.0,16675200.0,16761600.0,16848000.0,16934400.0,17020800.0,17280000.0,17366400.0,17452800.0,17539200.0,17625600.0,17884800.0,17971200.0,18057600.0,18144000.0,18230400.0,18489600.0,18576000.0,18662400.0,18748800.0,18835200.0,19094400.0,19180800.0,19267200.0,19353600.0,19440000.0,19699200.0,19785600.0,19872000.0,19958400.0,20044800.0,20304000.0,20390400.0,20476800.0,20563200.0,20649600.0,20908800.0,20995200.0,21081600.0,21168000.0,21254400.0,21513600.0,21600000.0,21686400.0,21859200.0,22118400.0,22204800.0,22291200.0,22377600.0,22464000.0,22723200.0,22809600.0,22896000.0,22982400.0,23068800.0,23328000.0,23414400.0,23500800.0,23587200.0,23673600.0,23932800.0,24019200.0,24105600.0,24192000.0,24278400.0,24537600.0,24710400.0,24796800.0,24883200.0,25142400.0,25315200.0,25401600.0,25488000.0,25747200.0,25833600.0,25920000.0,26006400.0,26092800.0,26352000.0,26438400.0,26524800.0,26611200.0,26697600.0,27043200.0,27129600.0,27216000.0,27302400.0,27561600.0,27648000.0,27734400.0,27820800.0,27907200.0,28166400.0,28252800.0,28339200.0,28425600.0,28512000.0,28771200.0,28857600.0,28944000.0,29030400.0,29116800.0,29462400.0,29548800.0,29635200.0,29721600.0,29980800.0,30067200.0],\"y\":[30.032,30.032,30.341999999999995,30.603999999999996,30.603999999999996,30.603999999999996,30.853999999999996,31.46,31.436,31.436,31.436,31.43,31.49,31.49,31.49,31.65,31.712,31.542,31.541999999999994,31.542,31.476,30.266,29.608000000000004,29.608000000000004,29.607999999999997,28.778,27.924,28.022000000000002,28.022000000000002,28.022000000000002,28.18,28.177999999999997,29.162,29.162,29.162,29.524,30.863999999999997,30.133999999999997,30.134000000000004,30.133999999999997,30.066000000000003,29.290000000000003,29.145999999999997,29.145999999999997,29.145999999999997,29.112000000000002,29.120000000000005,29.028,29.028000000000002,29.028,28.776,28.53,28.53,28.562,28.562,28.258,27.881999999999998,27.881999999999998,27.881999999999998,27.615999999999996,27.218,27.312,27.312,27.312,27.401999999999997,28.038,28.076,28.076,28.076,28.052000000000003,27.592000000000002,27.498,27.498,27.498,27.416000000000004,27.056,27.056,26.998,26.998,26.95,26.922000000000004,26.922000000000004,26.922000000000004,26.833999999999996,26.496,26.262,26.262,26.262,26.052000000000003,25.068,24.724000000000004,24.724000000000004,24.724,24.348,23.445999999999998,23.29,23.29,23.29,23.186,23.222,23.368000000000002,23.368000000000002,23.368000000000002,23.604000000000003,23.878000000000004,23.744000000000003,23.744000000000003,23.744,23.630000000000003,23.344,23.298000000000002,23.298,23.298,23.288,22.932,22.887999999999998,22.888,22.888,22.888,23.638,23.846000000000004,23.846000000000004,23.846,23.632,23.618000000000002,23.618000000000002,23.618000000000002,23.748,24.724,25.094,25.094,25.094,25.419999999999998,26.203999999999997,26.394,26.394,26.394,26.52,26.96,27.218,27.218,27.218,27.468,28.201999999999998,28.198,28.198,28.198,28.259999999999998,28.227999999999998,28.548000000000002,28.548000000000002,28.548000000000002,28.670000000000005,29.967999999999996,30.582,30.582,30.582,31.610000000000003,32.08200000000001,31.704,31.703999999999997,31.704,31.032000000000004,30.077999999999996,29.195999999999998,29.195999999999998,29.195999999999998,28.214,25.764,25.669999999999998,25.669999999999998,25.669999999999998,25.932000000000006,26.357999999999997,26.358000000000004,26.441999999999997,26.056,25.856,26.052,26.052,26.052,26.163999999999998,26.45,26.229999999999997,26.229999999999997,26.229999999999997,26.003999999999998,25.145999999999997,24.799999999999997,24.8,24.800000000000004,24.458,23.514,23.464,23.464,23.464,23.506,23.8,23.8,23.668,23.668000000000003,23.669999999999998,23.669999999999998,23.562,23.562,23.174,23.174,23.174,23.174,23.252000000000002,22.904000000000003,22.396,22.396,22.396,21.552,20.497999999999998,20.497999999999998,20.556,20.556,20.432,21.72,21.72,21.720000000000002,23.074,28.706,28.766,28.766,28.766,29.077999999999996,29.688,29.880000000000003,29.880000000000003,29.880000000000003,29.77,29.022000000000002,28.718,28.718000000000007,28.718,28.436,28.436],\"type\":\"scatter\"},{\"line\":{\"dash\":\"dash\"},\"name\":\"KNN_test_y\",\"x\":[30153600.0,30240000.0,30326400.0,30585600.0,30672000.0,30758400.0,30844800.0,30931200.0,31190400.0,31276800.0,31363200.0,31449600.0,31536000.0,31795200.0,31881600.0,31968000.0,32054400.0,32400000.0,32486400.0,32572800.0,32659200.0,32745600.0,33004800.0,33091200.0,33177600.0,33264000.0,33350400.0,33609600.0,33696000.0,33782400.0,33868800.0,33955200.0,34214400.0,34300800.0,34387200.0,34473600.0,34560000.0,34819200.0,34905600.0,34992000.0,35078400.0,35164800.0,35424000.0,35510400.0,35596800.0,35683200.0,35769600.0,36028800.0,36115200.0,36201600.0,36288000.0,36374400.0,36633600.0,36720000.0,36806400.0,36892800.0,36979200.0,37238400.0,37324800.0,37411200.0],\"y\":[28.436,28.436,28.436,28.436,28.436,28.436,28.436,28.436,28.436,28.436,28.436,28.436,28.436,28.436,28.436,28.436,28.436,28.436,28.436,28.436,28.436,28.436,28.436,28.436,28.436,28.436,28.436,28.436,28.436,28.436,28.436,28.436,28.436,28.436,28.436,28.436,28.436,28.436,28.436,28.436,28.436,28.436,28.436,28.436,28.436,28.436,28.436,28.436,28.436,28.436,28.436,28.436,28.436,28.436,28.436,28.436,28.436,28.436,28.436,28.436],\"type\":\"scatter\"}],                        {\"template\":{\"data\":{\"histogram2dcontour\":[{\"type\":\"histogram2dcontour\",\"colorbar\":{\"outlinewidth\":0,\"ticks\":\"\"},\"colorscale\":[[0.0,\"#0d0887\"],[0.1111111111111111,\"#46039f\"],[0.2222222222222222,\"#7201a8\"],[0.3333333333333333,\"#9c179e\"],[0.4444444444444444,\"#bd3786\"],[0.5555555555555556,\"#d8576b\"],[0.6666666666666666,\"#ed7953\"],[0.7777777777777778,\"#fb9f3a\"],[0.8888888888888888,\"#fdca26\"],[1.0,\"#f0f921\"]]}],\"choropleth\":[{\"type\":\"choropleth\",\"colorbar\":{\"outlinewidth\":0,\"ticks\":\"\"}}],\"histogram2d\":[{\"type\":\"histogram2d\",\"colorbar\":{\"outlinewidth\":0,\"ticks\":\"\"},\"colorscale\":[[0.0,\"#0d0887\"],[0.1111111111111111,\"#46039f\"],[0.2222222222222222,\"#7201a8\"],[0.3333333333333333,\"#9c179e\"],[0.4444444444444444,\"#bd3786\"],[0.5555555555555556,\"#d8576b\"],[0.6666666666666666,\"#ed7953\"],[0.7777777777777778,\"#fb9f3a\"],[0.8888888888888888,\"#fdca26\"],[1.0,\"#f0f921\"]]}],\"heatmap\":[{\"type\":\"heatmap\",\"colorbar\":{\"outlinewidth\":0,\"ticks\":\"\"},\"colorscale\":[[0.0,\"#0d0887\"],[0.1111111111111111,\"#46039f\"],[0.2222222222222222,\"#7201a8\"],[0.3333333333333333,\"#9c179e\"],[0.4444444444444444,\"#bd3786\"],[0.5555555555555556,\"#d8576b\"],[0.6666666666666666,\"#ed7953\"],[0.7777777777777778,\"#fb9f3a\"],[0.8888888888888888,\"#fdca26\"],[1.0,\"#f0f921\"]]}],\"heatmapgl\":[{\"type\":\"heatmapgl\",\"colorbar\":{\"outlinewidth\":0,\"ticks\":\"\"},\"colorscale\":[[0.0,\"#0d0887\"],[0.1111111111111111,\"#46039f\"],[0.2222222222222222,\"#7201a8\"],[0.3333333333333333,\"#9c179e\"],[0.4444444444444444,\"#bd3786\"],[0.5555555555555556,\"#d8576b\"],[0.6666666666666666,\"#ed7953\"],[0.7777777777777778,\"#fb9f3a\"],[0.8888888888888888,\"#fdca26\"],[1.0,\"#f0f921\"]]}],\"contourcarpet\":[{\"type\":\"contourcarpet\",\"colorbar\":{\"outlinewidth\":0,\"ticks\":\"\"}}],\"contour\":[{\"type\":\"contour\",\"colorbar\":{\"outlinewidth\":0,\"ticks\":\"\"},\"colorscale\":[[0.0,\"#0d0887\"],[0.1111111111111111,\"#46039f\"],[0.2222222222222222,\"#7201a8\"],[0.3333333333333333,\"#9c179e\"],[0.4444444444444444,\"#bd3786\"],[0.5555555555555556,\"#d8576b\"],[0.6666666666666666,\"#ed7953\"],[0.7777777777777778,\"#fb9f3a\"],[0.8888888888888888,\"#fdca26\"],[1.0,\"#f0f921\"]]}],\"surface\":[{\"type\":\"surface\",\"colorbar\":{\"outlinewidth\":0,\"ticks\":\"\"},\"colorscale\":[[0.0,\"#0d0887\"],[0.1111111111111111,\"#46039f\"],[0.2222222222222222,\"#7201a8\"],[0.3333333333333333,\"#9c179e\"],[0.4444444444444444,\"#bd3786\"],[0.5555555555555556,\"#d8576b\"],[0.6666666666666666,\"#ed7953\"],[0.7777777777777778,\"#fb9f3a\"],[0.8888888888888888,\"#fdca26\"],[1.0,\"#f0f921\"]]}],\"mesh3d\":[{\"type\":\"mesh3d\",\"colorbar\":{\"outlinewidth\":0,\"ticks\":\"\"}}],\"scatter\":[{\"fillpattern\":{\"fillmode\":\"overlay\",\"size\":10,\"solidity\":0.2},\"type\":\"scatter\"}],\"parcoords\":[{\"type\":\"parcoords\",\"line\":{\"colorbar\":{\"outlinewidth\":0,\"ticks\":\"\"}}}],\"scatterpolargl\":[{\"type\":\"scatterpolargl\",\"marker\":{\"colorbar\":{\"outlinewidth\":0,\"ticks\":\"\"}}}],\"bar\":[{\"error_x\":{\"color\":\"#2a3f5f\"},\"error_y\":{\"color\":\"#2a3f5f\"},\"marker\":{\"line\":{\"color\":\"#E5ECF6\",\"width\":0.5},\"pattern\":{\"fillmode\":\"overlay\",\"size\":10,\"solidity\":0.2}},\"type\":\"bar\"}],\"scattergeo\":[{\"type\":\"scattergeo\",\"marker\":{\"colorbar\":{\"outlinewidth\":0,\"ticks\":\"\"}}}],\"scatterpolar\":[{\"type\":\"scatterpolar\",\"marker\":{\"colorbar\":{\"outlinewidth\":0,\"ticks\":\"\"}}}],\"histogram\":[{\"marker\":{\"pattern\":{\"fillmode\":\"overlay\",\"size\":10,\"solidity\":0.2}},\"type\":\"histogram\"}],\"scattergl\":[{\"type\":\"scattergl\",\"marker\":{\"colorbar\":{\"outlinewidth\":0,\"ticks\":\"\"}}}],\"scatter3d\":[{\"type\":\"scatter3d\",\"line\":{\"colorbar\":{\"outlinewidth\":0,\"ticks\":\"\"}},\"marker\":{\"colorbar\":{\"outlinewidth\":0,\"ticks\":\"\"}}}],\"scattermapbox\":[{\"type\":\"scattermapbox\",\"marker\":{\"colorbar\":{\"outlinewidth\":0,\"ticks\":\"\"}}}],\"scatterternary\":[{\"type\":\"scatterternary\",\"marker\":{\"colorbar\":{\"outlinewidth\":0,\"ticks\":\"\"}}}],\"scattercarpet\":[{\"type\":\"scattercarpet\",\"marker\":{\"colorbar\":{\"outlinewidth\":0,\"ticks\":\"\"}}}],\"carpet\":[{\"aaxis\":{\"endlinecolor\":\"#2a3f5f\",\"gridcolor\":\"white\",\"linecolor\":\"white\",\"minorgridcolor\":\"white\",\"startlinecolor\":\"#2a3f5f\"},\"baxis\":{\"endlinecolor\":\"#2a3f5f\",\"gridcolor\":\"white\",\"linecolor\":\"white\",\"minorgridcolor\":\"white\",\"startlinecolor\":\"#2a3f5f\"},\"type\":\"carpet\"}],\"table\":[{\"cells\":{\"fill\":{\"color\":\"#EBF0F8\"},\"line\":{\"color\":\"white\"}},\"header\":{\"fill\":{\"color\":\"#C8D4E3\"},\"line\":{\"color\":\"white\"}},\"type\":\"table\"}],\"barpolar\":[{\"marker\":{\"line\":{\"color\":\"#E5ECF6\",\"width\":0.5},\"pattern\":{\"fillmode\":\"overlay\",\"size\":10,\"solidity\":0.2}},\"type\":\"barpolar\"}],\"pie\":[{\"automargin\":true,\"type\":\"pie\"}]},\"layout\":{\"autotypenumbers\":\"strict\",\"colorway\":[\"#636efa\",\"#EF553B\",\"#00cc96\",\"#ab63fa\",\"#FFA15A\",\"#19d3f3\",\"#FF6692\",\"#B6E880\",\"#FF97FF\",\"#FECB52\"],\"font\":{\"color\":\"#2a3f5f\"},\"hovermode\":\"closest\",\"hoverlabel\":{\"align\":\"left\"},\"paper_bgcolor\":\"white\",\"plot_bgcolor\":\"#E5ECF6\",\"polar\":{\"bgcolor\":\"#E5ECF6\",\"angularaxis\":{\"gridcolor\":\"white\",\"linecolor\":\"white\",\"ticks\":\"\"},\"radialaxis\":{\"gridcolor\":\"white\",\"linecolor\":\"white\",\"ticks\":\"\"}},\"ternary\":{\"bgcolor\":\"#E5ECF6\",\"aaxis\":{\"gridcolor\":\"white\",\"linecolor\":\"white\",\"ticks\":\"\"},\"baxis\":{\"gridcolor\":\"white\",\"linecolor\":\"white\",\"ticks\":\"\"},\"caxis\":{\"gridcolor\":\"white\",\"linecolor\":\"white\",\"ticks\":\"\"}},\"coloraxis\":{\"colorbar\":{\"outlinewidth\":0,\"ticks\":\"\"}},\"colorscale\":{\"sequential\":[[0.0,\"#0d0887\"],[0.1111111111111111,\"#46039f\"],[0.2222222222222222,\"#7201a8\"],[0.3333333333333333,\"#9c179e\"],[0.4444444444444444,\"#bd3786\"],[0.5555555555555556,\"#d8576b\"],[0.6666666666666666,\"#ed7953\"],[0.7777777777777778,\"#fb9f3a\"],[0.8888888888888888,\"#fdca26\"],[1.0,\"#f0f921\"]],\"sequentialminus\":[[0.0,\"#0d0887\"],[0.1111111111111111,\"#46039f\"],[0.2222222222222222,\"#7201a8\"],[0.3333333333333333,\"#9c179e\"],[0.4444444444444444,\"#bd3786\"],[0.5555555555555556,\"#d8576b\"],[0.6666666666666666,\"#ed7953\"],[0.7777777777777778,\"#fb9f3a\"],[0.8888888888888888,\"#fdca26\"],[1.0,\"#f0f921\"]],\"diverging\":[[0,\"#8e0152\"],[0.1,\"#c51b7d\"],[0.2,\"#de77ae\"],[0.3,\"#f1b6da\"],[0.4,\"#fde0ef\"],[0.5,\"#f7f7f7\"],[0.6,\"#e6f5d0\"],[0.7,\"#b8e186\"],[0.8,\"#7fbc41\"],[0.9,\"#4d9221\"],[1,\"#276419\"]]},\"xaxis\":{\"gridcolor\":\"white\",\"linecolor\":\"white\",\"ticks\":\"\",\"title\":{\"standoff\":15},\"zerolinecolor\":\"white\",\"automargin\":true,\"zerolinewidth\":2},\"yaxis\":{\"gridcolor\":\"white\",\"linecolor\":\"white\",\"ticks\":\"\",\"title\":{\"standoff\":15},\"zerolinecolor\":\"white\",\"automargin\":true,\"zerolinewidth\":2},\"scene\":{\"xaxis\":{\"backgroundcolor\":\"#E5ECF6\",\"gridcolor\":\"white\",\"linecolor\":\"white\",\"showbackground\":true,\"ticks\":\"\",\"zerolinecolor\":\"white\",\"gridwidth\":2},\"yaxis\":{\"backgroundcolor\":\"#E5ECF6\",\"gridcolor\":\"white\",\"linecolor\":\"white\",\"showbackground\":true,\"ticks\":\"\",\"zerolinecolor\":\"white\",\"gridwidth\":2},\"zaxis\":{\"backgroundcolor\":\"#E5ECF6\",\"gridcolor\":\"white\",\"linecolor\":\"white\",\"showbackground\":true,\"ticks\":\"\",\"zerolinecolor\":\"white\",\"gridwidth\":2}},\"shapedefaults\":{\"line\":{\"color\":\"#2a3f5f\"}},\"annotationdefaults\":{\"arrowcolor\":\"#2a3f5f\",\"arrowhead\":0,\"arrowwidth\":1},\"geo\":{\"bgcolor\":\"white\",\"landcolor\":\"#E5ECF6\",\"subunitcolor\":\"white\",\"showland\":true,\"showlakes\":true,\"lakecolor\":\"white\"},\"title\":{\"x\":0.05},\"mapbox\":{\"style\":\"light\"}}},\"title\":{\"text\":\"KNN\"},\"xaxis\":{\"title\":{\"text\":\"\\u0414\\u0430\\u0442\\u0430\"}},\"yaxis\":{\"title\":{\"text\":\"\\u0421\\u0442\\u043e\\u0438\\u043c\\u043e\\u0441\\u0442\\u044c\"}}},                        {\"responsive\": true}                    ).then(function(){\n",
              "                            \n",
              "var gd = document.getElementById('fcf7030c-7a66-435e-9ea5-3c52737b4d89');\n",
              "var x = new MutationObserver(function (mutations, observer) {{\n",
              "        var display = window.getComputedStyle(gd).display;\n",
              "        if (!display || display === 'none') {{\n",
              "            console.log([gd, 'removed!']);\n",
              "            Plotly.purge(gd);\n",
              "            observer.disconnect();\n",
              "        }}\n",
              "}});\n",
              "\n",
              "// Listen for the removal of the full notebook cells\n",
              "var notebookContainer = gd.closest('#notebook-container');\n",
              "if (notebookContainer) {{\n",
              "    x.observe(notebookContainer, {childList: true});\n",
              "}}\n",
              "\n",
              "// Listen for the clearing of the current output cell\n",
              "var outputEl = gd.closest('.output');\n",
              "if (outputEl) {{\n",
              "    x.observe(outputEl, {childList: true});\n",
              "}}\n",
              "\n",
              "                        })                };                            </script>        </div>\n",
              "</body>\n",
              "</html>"
            ]
          },
          "metadata": {}
        }
      ]
    },
    {
      "cell_type": "code",
      "source": [
        "print(\"KNN train rmse:\", sqrt(mean_squared_error(train['y'], res_y_train)))\n",
        "print(\"KNN test rmse:\", sqrt(mean_squared_error(test['y'], res_y_test)))"
      ],
      "metadata": {
        "colab": {
          "base_uri": "https://localhost:8080/"
        },
        "id": "PYlWlVJtzPLA",
        "outputId": "cd158878-5db3-4d44-9e29-d57bc46f1baa"
      },
      "execution_count": 441,
      "outputs": [
        {
          "output_type": "stream",
          "name": "stdout",
          "text": [
            "KNN train rmse: 0.7408811983037493\n",
            "KNN test rmse: 1.345954555944095\n"
          ]
        }
      ]
    },
    {
      "cell_type": "markdown",
      "source": [
        "SVM"
      ],
      "metadata": {
        "id": "yEMe1MByzcRR"
      }
    },
    {
      "cell_type": "code",
      "source": [
        "from sklearn.svm import SVR"
      ],
      "metadata": {
        "id": "WkOI6uUxzPQd"
      },
      "execution_count": 442,
      "outputs": []
    },
    {
      "cell_type": "code",
      "source": [
        "model = SVR(kernel='rbf')\n",
        "\n",
        "model.fit(train_x, train_y)\n",
        "\n",
        "res_y_train = model.predict(train_x)\n",
        "res_y_test = model.predict(test_x)"
      ],
      "metadata": {
        "id": "xItLYc9c3HJa"
      },
      "execution_count": 443,
      "outputs": []
    },
    {
      "cell_type": "code",
      "source": [
        "fig = go.Figure()\n",
        "fig.add_trace(go.Scatter(x=train['x'], y=train['y'], name=\"train_y\"))\n",
        "fig.add_trace(go.Scatter(x=test['x'], y=test['y'], name=\"test_y\", line = dict(dash='dash')))\n",
        "fig.add_trace(go.Scatter(x=train['x'], y=res_y_train, name=\"SVM_train_y\"))\n",
        "fig.add_trace(go.Scatter(x=test['x'], y=res_y_test, name=\"SVM_test_y\", line = dict(dash='dash')))\n",
        "\n",
        "fig.update_layout(title=\"SVM\",\n",
        "                  xaxis_title=\"Дата\",\n",
        "                  yaxis_title=\"Стоимость\")"
      ],
      "metadata": {
        "colab": {
          "base_uri": "https://localhost:8080/",
          "height": 542
        },
        "id": "qO83MtZw3KRS",
        "outputId": "2e075d1b-0858-40d7-eeeb-8dd3e1d9d4d9"
      },
      "execution_count": 444,
      "outputs": [
        {
          "output_type": "display_data",
          "data": {
            "text/html": [
              "<html>\n",
              "<head><meta charset=\"utf-8\" /></head>\n",
              "<body>\n",
              "    <div>            <script src=\"https://cdnjs.cloudflare.com/ajax/libs/mathjax/2.7.5/MathJax.js?config=TeX-AMS-MML_SVG\"></script><script type=\"text/javascript\">if (window.MathJax && window.MathJax.Hub && window.MathJax.Hub.Config) {window.MathJax.Hub.Config({SVG: {font: \"STIX-Web\"}});}</script>                <script type=\"text/javascript\">window.PlotlyConfig = {MathJaxConfig: 'local'};</script>\n",
              "        <script charset=\"utf-8\" src=\"https://cdn.plot.ly/plotly-2.24.1.min.js\"></script>                <div id=\"9fc9b495-c523-45f7-b61d-9cd01dc4110c\" class=\"plotly-graph-div\" style=\"height:525px; width:100%;\"></div>            <script type=\"text/javascript\">                                    window.PLOTLYENV=window.PLOTLYENV || {};                                    if (document.getElementById(\"9fc9b495-c523-45f7-b61d-9cd01dc4110c\")) {                    Plotly.newPlot(                        \"9fc9b495-c523-45f7-b61d-9cd01dc4110c\",                        [{\"name\":\"train_y\",\"x\":[0.0,86400.0,345600.0,432000.0,518400.0,604800.0,691200.0,950400.0,1036800.0,1123200.0,1209600.0,1296000.0,1555200.0,1641600.0,1728000.0,1814400.0,2160000.0,2246400.0,2332800.0,2419200.0,2505600.0,2764800.0,2851200.0,2937600.0,3024000.0,3110400.0,3369600.0,3456000.0,3542400.0,3628800.0,3715200.0,3974400.0,4060800.0,4147200.0,4233600.0,4320000.0,4579200.0,4665600.0,4752000.0,4838400.0,4924800.0,5184000.0,5270400.0,5356800.0,5443200.0,5529600.0,5788800.0,5875200.0,5961600.0,6048000.0,6134400.0,6480000.0,6566400.0,6652800.0,6739200.0,6998400.0,7084800.0,7171200.0,7257600.0,7344000.0,7603200.0,7689600.0,7776000.0,7862400.0,7948800.0,8208000.0,8294400.0,8380800.0,8467200.0,8553600.0,8812800.0,8899200.0,8985600.0,9072000.0,9158400.0,9417600.0,9504000.0,9676800.0,9763200.0,10022400.0,10108800.0,10195200.0,10281600.0,10368000.0,10627200.0,10713600.0,10800000.0,10886400.0,10972800.0,11232000.0,11318400.0,11404800.0,11491200.0,11577600.0,11836800.0,11923200.0,12009600.0,12096000.0,12182400.0,12441600.0,12528000.0,12614400.0,12700800.0,12787200.0,13046400.0,13132800.0,13219200.0,13305600.0,13392000.0,13651200.0,13737600.0,13824000.0,13910400.0,13996800.0,14256000.0,14342400.0,14428800.0,14515200.0,14601600.0,14947200.0,15033600.0,15120000.0,15206400.0,15465600.0,15552000.0,15638400.0,15724800.0,15811200.0,16070400.0,16156800.0,16243200.0,16329600.0,16416000.0,16675200.0,16761600.0,16848000.0,16934400.0,17020800.0,17280000.0,17366400.0,17452800.0,17539200.0,17625600.0,17884800.0,17971200.0,18057600.0,18144000.0,18230400.0,18489600.0,18576000.0,18662400.0,18748800.0,18835200.0,19094400.0,19180800.0,19267200.0,19353600.0,19440000.0,19699200.0,19785600.0,19872000.0,19958400.0,20044800.0,20304000.0,20390400.0,20476800.0,20563200.0,20649600.0,20908800.0,20995200.0,21081600.0,21168000.0,21254400.0,21513600.0,21600000.0,21686400.0,21859200.0,22118400.0,22204800.0,22291200.0,22377600.0,22464000.0,22723200.0,22809600.0,22896000.0,22982400.0,23068800.0,23328000.0,23414400.0,23500800.0,23587200.0,23673600.0,23932800.0,24019200.0,24105600.0,24192000.0,24278400.0,24537600.0,24710400.0,24796800.0,24883200.0,25142400.0,25315200.0,25401600.0,25488000.0,25747200.0,25833600.0,25920000.0,26006400.0,26092800.0,26352000.0,26438400.0,26524800.0,26611200.0,26697600.0,27043200.0,27129600.0,27216000.0,27302400.0,27561600.0,27648000.0,27734400.0,27820800.0,27907200.0,28166400.0,28252800.0,28339200.0,28425600.0,28512000.0,28771200.0,28857600.0,28944000.0,29030400.0,29116800.0,29462400.0,29548800.0,29635200.0,29721600.0,29980800.0,30067200.0],\"y\":[29.81,30.02,30.0,30.0,30.33,31.36,31.33,31.25,31.56,31.45,31.71,31.21,31.22,31.41,31.61,32.0,32.01,31.64,31.65,31.26,31.15,31.68,31.98,28.42,28.1,27.86,27.53,28.03,28.22,27.98,28.35,28.32,28.25,27.72,28.25,33.27,30.13,30.24,30.16,30.52,29.62,29.79,29.16,28.89,28.99,28.9,29.62,29.33,29.1,28.65,28.44,28.36,28.19,28.76,28.9,28.6,28.4,28.05,27.34,27.02,27.27,27.3,27.12,27.38,27.49,27.72,29.4,27.89,27.69,27.68,27.6,27.73,27.51,27.44,27.21,27.19,26.95,26.92,27.01,26.92,27.09,27.03,26.7,26.87,26.48,26.74,26.07,26.32,25.7,25.43,24.8,25.01,24.4,23.98,23.55,23.88,23.17,22.65,23.2,23.03,22.75,23.46,23.67,23.93,24.21,24.69,23.56,23.0,23.26,23.64,23.25,23.22,23.35,23.03,23.59,22.95,22.6,22.49,22.81,23.3,24.1,24.22,23.76,23.85,23.31,23.64,23.6,23.69,24.5,25.06,25.09,25.28,25.54,26.13,25.7,26.7,26.95,26.49,26.76,27.2,27.16,27.19,27.78,28.01,28.35,28.43,28.44,27.76,28.32,27.37,29.1,28.59,29.36,28.93,30.12,30.68,30.75,32.43,34.07,31.55,31.5,30.86,30.54,30.71,31.76,29.27,28.11,26.13,25.8,25.53,26.42,24.94,25.66,27.11,26.93,26.11,25.98,26.08,25.18,26.03,26.01,26.96,26.64,26.14,26.63,25.88,25.86,25.51,25.15,24.82,24.39,24.13,23.8,23.22,22.92,23.5,23.88,24.01,23.85,23.6,23.66,23.22,23.8,23.86,23.81,23.12,23.28,22.47,23.19,23.81,23.51,23.0,22.2,22.0,21.27,19.29,19.25,20.44,22.24,21.56,20.87,18.62,18.87,28.68,28.33,28.78,29.11,28.63,28.98,29.89,29.81,29.78,29.98,29.94,29.34,28.71,28.76,28.36,28.42,27.93],\"type\":\"scatter\"},{\"line\":{\"dash\":\"dash\"},\"name\":\"test_y\",\"x\":[30153600.0,30240000.0,30326400.0,30585600.0,30672000.0,30758400.0,30844800.0,30931200.0,31190400.0,31276800.0,31363200.0,31449600.0,31536000.0,31795200.0,31881600.0,31968000.0,32054400.0,32400000.0,32486400.0,32572800.0,32659200.0,32745600.0,33004800.0,33091200.0,33177600.0,33264000.0,33350400.0,33609600.0,33696000.0,33782400.0,33868800.0,33955200.0,34214400.0,34300800.0,34387200.0,34473600.0,34560000.0,34819200.0,34905600.0,34992000.0,35078400.0,35164800.0,35424000.0,35510400.0,35596800.0,35683200.0,35769600.0,36028800.0,36115200.0,36201600.0,36288000.0,36374400.0,36633600.0,36720000.0,36806400.0,36892800.0,36979200.0,37238400.0,37324800.0,37411200.0],\"y\":[28.33,27.98,27.94,27.73,27.8,28.0,28.64,28.58,28.87,28.91,28.89,28.07,27.85,26.5,26.94,27.56,27.36,27.56,28.14,28.63,28.49,28.32,28.56,28.07,28.57,27.65,28.0,27.8,27.72,27.8,28.39,28.41,28.18,28.05,28.11,28.4,28.44,28.52,28.73,28.24,28.01,26.85,27.0,26.35,27.17,27.69,27.65,23.05,25.54,25.57,25.66,26.01,25.8,25.15,26.95,27.54,27.73,27.9,27.68,27.34],\"type\":\"scatter\"},{\"name\":\"SVM_train_y\",\"x\":[0.0,86400.0,345600.0,432000.0,518400.0,604800.0,691200.0,950400.0,1036800.0,1123200.0,1209600.0,1296000.0,1555200.0,1641600.0,1728000.0,1814400.0,2160000.0,2246400.0,2332800.0,2419200.0,2505600.0,2764800.0,2851200.0,2937600.0,3024000.0,3110400.0,3369600.0,3456000.0,3542400.0,3628800.0,3715200.0,3974400.0,4060800.0,4147200.0,4233600.0,4320000.0,4579200.0,4665600.0,4752000.0,4838400.0,4924800.0,5184000.0,5270400.0,5356800.0,5443200.0,5529600.0,5788800.0,5875200.0,5961600.0,6048000.0,6134400.0,6480000.0,6566400.0,6652800.0,6739200.0,6998400.0,7084800.0,7171200.0,7257600.0,7344000.0,7603200.0,7689600.0,7776000.0,7862400.0,7948800.0,8208000.0,8294400.0,8380800.0,8467200.0,8553600.0,8812800.0,8899200.0,8985600.0,9072000.0,9158400.0,9417600.0,9504000.0,9676800.0,9763200.0,10022400.0,10108800.0,10195200.0,10281600.0,10368000.0,10627200.0,10713600.0,10800000.0,10886400.0,10972800.0,11232000.0,11318400.0,11404800.0,11491200.0,11577600.0,11836800.0,11923200.0,12009600.0,12096000.0,12182400.0,12441600.0,12528000.0,12614400.0,12700800.0,12787200.0,13046400.0,13132800.0,13219200.0,13305600.0,13392000.0,13651200.0,13737600.0,13824000.0,13910400.0,13996800.0,14256000.0,14342400.0,14428800.0,14515200.0,14601600.0,14947200.0,15033600.0,15120000.0,15206400.0,15465600.0,15552000.0,15638400.0,15724800.0,15811200.0,16070400.0,16156800.0,16243200.0,16329600.0,16416000.0,16675200.0,16761600.0,16848000.0,16934400.0,17020800.0,17280000.0,17366400.0,17452800.0,17539200.0,17625600.0,17884800.0,17971200.0,18057600.0,18144000.0,18230400.0,18489600.0,18576000.0,18662400.0,18748800.0,18835200.0,19094400.0,19180800.0,19267200.0,19353600.0,19440000.0,19699200.0,19785600.0,19872000.0,19958400.0,20044800.0,20304000.0,20390400.0,20476800.0,20563200.0,20649600.0,20908800.0,20995200.0,21081600.0,21168000.0,21254400.0,21513600.0,21600000.0,21686400.0,21859200.0,22118400.0,22204800.0,22291200.0,22377600.0,22464000.0,22723200.0,22809600.0,22896000.0,22982400.0,23068800.0,23328000.0,23414400.0,23500800.0,23587200.0,23673600.0,23932800.0,24019200.0,24105600.0,24192000.0,24278400.0,24537600.0,24710400.0,24796800.0,24883200.0,25142400.0,25315200.0,25401600.0,25488000.0,25747200.0,25833600.0,25920000.0,26006400.0,26092800.0,26352000.0,26438400.0,26524800.0,26611200.0,26697600.0,27043200.0,27129600.0,27216000.0,27302400.0,27561600.0,27648000.0,27734400.0,27820800.0,27907200.0,28166400.0,28252800.0,28339200.0,28425600.0,28512000.0,28771200.0,28857600.0,28944000.0,29030400.0,29116800.0,29462400.0,29548800.0,29635200.0,29721600.0,29980800.0,30067200.0],\"y\":[31.459596408877303,31.43261959132855,31.348724119538655,31.31978260889469,31.29035930335755,31.26045826385323,31.230083704860828,31.136163341160728,31.10393988964689,31.071266262950875,31.038147577053216,31.004589094222972,30.901329652853036,30.86606748295074,30.83039397302117,30.794315232837793,30.646074871481453,30.60806630687381,30.569691952035484,30.530958825474187,30.49187406724226,30.372583178382754,30.332165644582002,30.291433921373784,30.2503958285424,30.209059290355327,30.0833397570385,30.040890675131106,29.998184241155872,29.9552289484037,29.912033374890825,29.78109195719855,29.737022628837437,29.69275707359285,29.64830431299175,29.60367343130575,29.46880377381399,29.423552388982348,29.378169128909587,29.332663383957108,29.287044583518426,29.149604655257,29.103628584839203,29.057587068493902,29.01148969581886,28.965346070630122,28.82673385572128,28.78050141682977,28.734270831551747,28.68805171322349,28.641853664113516,28.457463615703514,28.41151430683421,28.365643246602666,28.31985985913381,28.18312935823075,28.13779005685013,28.092584883738027,28.047522972739777,28.00261339732624,27.868888443601932,27.824677621240863,27.78066348017186,27.73685466250416,27.69325972728104,27.563842496403105,27.52118691329124,27.47878665571007,27.4366497212863,27.394784004045935,27.27089148452468,27.23018740967807,27.18979237446433,27.14971359598224,27.109958169861535,26.992701092054048,26.954307523122875,26.878597496789443,26.841293544862843,26.731658069833546,26.695890922000967,26.66052202968413,26.625556724981575,26.59100019266485,26.489832841361476,26.456960256337144,26.42452011529546,26.39251669473023,26.360954116436076,26.268950317746324,26.239189208457052,26.20988720702447,26.181047494441106,26.15267309354963,26.070369614185772,26.04388352120405,26.01787547871138,25.992347559865657,25.967301680154776,25.895073074288568,25.87197136767463,25.849358928726865,25.82723673767191,25.805605621345435,25.743664708167884,25.724003125055134,25.70483448463132,25.686158715105687,25.667975599186647,25.616377847067398,25.60016031245006,25.58443221329844,25.56919249075784,25.554439951543653,25.513091523166228,25.50027316068535,25.48793406429629,25.476072274267825,25.464685710287156,25.423846011648212,25.41480030792006,25.40621494118151,25.398087050383914,25.376418107750247,25.370089507185668,25.364202597040567,25.358753941925546,25.35374001972885,25.341270184213684,25.33795833083123,25.335062391907986,25.33257838097567,25.33050224363907,25.326679567643566,25.326193117798496,25.326093346365425,25.32637584887591,25.327036172106183,25.331238860165495,25.33336505480418,25.335846168395395,25.33867751242058,25.34185436858217,25.353410435641596,25.35792165408409,25.362754438579177,25.367903947156012,25.373365326198652,25.391572027464015,25.398232205984474,25.4051798984607,25.412410232709558,25.41991834168863,25.44406077123582,25.452631490226832,25.46145580386728,25.470528922148414,25.479846075209437,25.509214387563045,25.519460451909673,25.529927071194273,25.540609636179123,25.551503570566204,25.58540835552461,25.597102719858892,25.608986121908956,25.621054215664167,25.633302698446744,25.671088130248446,25.684016052064187,25.697103541890723,25.710346581766476,25.72374120480839,25.764795688630574,25.778758027137886,25.792852909848143,25.821425789622854,25.865189936451895,25.88000555129473,25.894929400662082,25.909958243013048,25.92508889544099,25.9710607664935,25.98656800709032,26.00216202624727,26.0178399942499,26.033599140018886,26.08133680840101,26.09739411960237,26.113519624515305,26.129710898343994,26.145965572676147,26.19508714991892,26.211572852069228,26.22811094011156,26.24469937241158,26.261336159540548,26.31151752288864,26.345179346137037,26.362067310771298,26.378991100185488,26.429961630774265,26.464092929149444,26.48119957484011,26.498331740310125,26.54986843966552,26.567089950793573,26.584330793380428,26.601589832916837,26.6188659666403,26.670786357768755,26.688120435815076,26.705466530535055,26.722823705600483,26.740191048372463,26.809744608048707,26.82714984795416,26.84456021257986,26.86197492288173,26.91423754907572,26.931662126129407,26.949087349896203,26.966512512206144,26.98393691300941,27.036198644614018,27.053613123842467,27.071023426518245,27.08842887985993,27.105828812290675,27.157988767622157,27.175359893580264,27.19272212794872,27.21007478816887,27.227417187026823,27.296670220805446,27.31395079120741,27.331216839441183,27.3484676263634,27.4001208766883,27.417303021823077],\"type\":\"scatter\"},{\"line\":{\"dash\":\"dash\"},\"name\":\"SVM_test_y\",\"x\":[30153600.0,30240000.0,30326400.0,30585600.0,30672000.0,30758400.0,30844800.0,30931200.0,31190400.0,31276800.0,31363200.0,31449600.0,31536000.0,31795200.0,31881600.0,31968000.0,32054400.0,32400000.0,32486400.0,32572800.0,32659200.0,32745600.0,33004800.0,33091200.0,33177600.0,33264000.0,33350400.0,33609600.0,33696000.0,33782400.0,33868800.0,33955200.0,34214400.0,34300800.0,34387200.0,34473600.0,34560000.0,34819200.0,34905600.0,34992000.0,35078400.0,35164800.0,35424000.0,35510400.0,35596800.0,35683200.0,35769600.0,36028800.0,36115200.0,36201600.0,36288000.0,36374400.0,36633600.0,36720000.0,36806400.0,36892800.0,36979200.0,37238400.0,37324800.0,37411200.0],\"y\":[27.434466051745723,27.451609160722384,27.46873153038162,27.519965823044554,27.536996787231498,27.554002719254967,27.57098271841598,27.587935869472258,27.638624860183704,27.655461170418747,27.67226583350519,27.689037844544142,27.705776183561905,27.755778743539537,27.77237189500806,27.78892605061118,27.805440101585088,27.871072588901402,27.88736899362088,27.903618349689403,27.919819453761175,27.935971090215883,27.984116861533295,28.000058239332613,28.01594390109918,28.031772566132677,28.047542944490683,28.09449133230858,28.110015497888032,28.125474806825167,28.140867924949077,28.156193512719113,28.20175163085584,28.2167936159949,28.231761314250384,28.246653367031904,28.261468414860634,28.305437934712923,28.319931373916013,28.33434102128566,28.34866552640294,28.362903542805334,28.405085269361102,28.418963970266102,28.432749534354354,28.446440653833626,28.46003602984055,28.50023485725138,28.513434474144827,28.526532011949385,28.539526240152988,28.552415942064012,28.59044594446608,28.60290567405704,28.61525502449304,28.627492875898522,28.63961812676951,28.67530754978813,28.686971772513566,28.698518184122626],\"type\":\"scatter\"}],                        {\"template\":{\"data\":{\"histogram2dcontour\":[{\"type\":\"histogram2dcontour\",\"colorbar\":{\"outlinewidth\":0,\"ticks\":\"\"},\"colorscale\":[[0.0,\"#0d0887\"],[0.1111111111111111,\"#46039f\"],[0.2222222222222222,\"#7201a8\"],[0.3333333333333333,\"#9c179e\"],[0.4444444444444444,\"#bd3786\"],[0.5555555555555556,\"#d8576b\"],[0.6666666666666666,\"#ed7953\"],[0.7777777777777778,\"#fb9f3a\"],[0.8888888888888888,\"#fdca26\"],[1.0,\"#f0f921\"]]}],\"choropleth\":[{\"type\":\"choropleth\",\"colorbar\":{\"outlinewidth\":0,\"ticks\":\"\"}}],\"histogram2d\":[{\"type\":\"histogram2d\",\"colorbar\":{\"outlinewidth\":0,\"ticks\":\"\"},\"colorscale\":[[0.0,\"#0d0887\"],[0.1111111111111111,\"#46039f\"],[0.2222222222222222,\"#7201a8\"],[0.3333333333333333,\"#9c179e\"],[0.4444444444444444,\"#bd3786\"],[0.5555555555555556,\"#d8576b\"],[0.6666666666666666,\"#ed7953\"],[0.7777777777777778,\"#fb9f3a\"],[0.8888888888888888,\"#fdca26\"],[1.0,\"#f0f921\"]]}],\"heatmap\":[{\"type\":\"heatmap\",\"colorbar\":{\"outlinewidth\":0,\"ticks\":\"\"},\"colorscale\":[[0.0,\"#0d0887\"],[0.1111111111111111,\"#46039f\"],[0.2222222222222222,\"#7201a8\"],[0.3333333333333333,\"#9c179e\"],[0.4444444444444444,\"#bd3786\"],[0.5555555555555556,\"#d8576b\"],[0.6666666666666666,\"#ed7953\"],[0.7777777777777778,\"#fb9f3a\"],[0.8888888888888888,\"#fdca26\"],[1.0,\"#f0f921\"]]}],\"heatmapgl\":[{\"type\":\"heatmapgl\",\"colorbar\":{\"outlinewidth\":0,\"ticks\":\"\"},\"colorscale\":[[0.0,\"#0d0887\"],[0.1111111111111111,\"#46039f\"],[0.2222222222222222,\"#7201a8\"],[0.3333333333333333,\"#9c179e\"],[0.4444444444444444,\"#bd3786\"],[0.5555555555555556,\"#d8576b\"],[0.6666666666666666,\"#ed7953\"],[0.7777777777777778,\"#fb9f3a\"],[0.8888888888888888,\"#fdca26\"],[1.0,\"#f0f921\"]]}],\"contourcarpet\":[{\"type\":\"contourcarpet\",\"colorbar\":{\"outlinewidth\":0,\"ticks\":\"\"}}],\"contour\":[{\"type\":\"contour\",\"colorbar\":{\"outlinewidth\":0,\"ticks\":\"\"},\"colorscale\":[[0.0,\"#0d0887\"],[0.1111111111111111,\"#46039f\"],[0.2222222222222222,\"#7201a8\"],[0.3333333333333333,\"#9c179e\"],[0.4444444444444444,\"#bd3786\"],[0.5555555555555556,\"#d8576b\"],[0.6666666666666666,\"#ed7953\"],[0.7777777777777778,\"#fb9f3a\"],[0.8888888888888888,\"#fdca26\"],[1.0,\"#f0f921\"]]}],\"surface\":[{\"type\":\"surface\",\"colorbar\":{\"outlinewidth\":0,\"ticks\":\"\"},\"colorscale\":[[0.0,\"#0d0887\"],[0.1111111111111111,\"#46039f\"],[0.2222222222222222,\"#7201a8\"],[0.3333333333333333,\"#9c179e\"],[0.4444444444444444,\"#bd3786\"],[0.5555555555555556,\"#d8576b\"],[0.6666666666666666,\"#ed7953\"],[0.7777777777777778,\"#fb9f3a\"],[0.8888888888888888,\"#fdca26\"],[1.0,\"#f0f921\"]]}],\"mesh3d\":[{\"type\":\"mesh3d\",\"colorbar\":{\"outlinewidth\":0,\"ticks\":\"\"}}],\"scatter\":[{\"fillpattern\":{\"fillmode\":\"overlay\",\"size\":10,\"solidity\":0.2},\"type\":\"scatter\"}],\"parcoords\":[{\"type\":\"parcoords\",\"line\":{\"colorbar\":{\"outlinewidth\":0,\"ticks\":\"\"}}}],\"scatterpolargl\":[{\"type\":\"scatterpolargl\",\"marker\":{\"colorbar\":{\"outlinewidth\":0,\"ticks\":\"\"}}}],\"bar\":[{\"error_x\":{\"color\":\"#2a3f5f\"},\"error_y\":{\"color\":\"#2a3f5f\"},\"marker\":{\"line\":{\"color\":\"#E5ECF6\",\"width\":0.5},\"pattern\":{\"fillmode\":\"overlay\",\"size\":10,\"solidity\":0.2}},\"type\":\"bar\"}],\"scattergeo\":[{\"type\":\"scattergeo\",\"marker\":{\"colorbar\":{\"outlinewidth\":0,\"ticks\":\"\"}}}],\"scatterpolar\":[{\"type\":\"scatterpolar\",\"marker\":{\"colorbar\":{\"outlinewidth\":0,\"ticks\":\"\"}}}],\"histogram\":[{\"marker\":{\"pattern\":{\"fillmode\":\"overlay\",\"size\":10,\"solidity\":0.2}},\"type\":\"histogram\"}],\"scattergl\":[{\"type\":\"scattergl\",\"marker\":{\"colorbar\":{\"outlinewidth\":0,\"ticks\":\"\"}}}],\"scatter3d\":[{\"type\":\"scatter3d\",\"line\":{\"colorbar\":{\"outlinewidth\":0,\"ticks\":\"\"}},\"marker\":{\"colorbar\":{\"outlinewidth\":0,\"ticks\":\"\"}}}],\"scattermapbox\":[{\"type\":\"scattermapbox\",\"marker\":{\"colorbar\":{\"outlinewidth\":0,\"ticks\":\"\"}}}],\"scatterternary\":[{\"type\":\"scatterternary\",\"marker\":{\"colorbar\":{\"outlinewidth\":0,\"ticks\":\"\"}}}],\"scattercarpet\":[{\"type\":\"scattercarpet\",\"marker\":{\"colorbar\":{\"outlinewidth\":0,\"ticks\":\"\"}}}],\"carpet\":[{\"aaxis\":{\"endlinecolor\":\"#2a3f5f\",\"gridcolor\":\"white\",\"linecolor\":\"white\",\"minorgridcolor\":\"white\",\"startlinecolor\":\"#2a3f5f\"},\"baxis\":{\"endlinecolor\":\"#2a3f5f\",\"gridcolor\":\"white\",\"linecolor\":\"white\",\"minorgridcolor\":\"white\",\"startlinecolor\":\"#2a3f5f\"},\"type\":\"carpet\"}],\"table\":[{\"cells\":{\"fill\":{\"color\":\"#EBF0F8\"},\"line\":{\"color\":\"white\"}},\"header\":{\"fill\":{\"color\":\"#C8D4E3\"},\"line\":{\"color\":\"white\"}},\"type\":\"table\"}],\"barpolar\":[{\"marker\":{\"line\":{\"color\":\"#E5ECF6\",\"width\":0.5},\"pattern\":{\"fillmode\":\"overlay\",\"size\":10,\"solidity\":0.2}},\"type\":\"barpolar\"}],\"pie\":[{\"automargin\":true,\"type\":\"pie\"}]},\"layout\":{\"autotypenumbers\":\"strict\",\"colorway\":[\"#636efa\",\"#EF553B\",\"#00cc96\",\"#ab63fa\",\"#FFA15A\",\"#19d3f3\",\"#FF6692\",\"#B6E880\",\"#FF97FF\",\"#FECB52\"],\"font\":{\"color\":\"#2a3f5f\"},\"hovermode\":\"closest\",\"hoverlabel\":{\"align\":\"left\"},\"paper_bgcolor\":\"white\",\"plot_bgcolor\":\"#E5ECF6\",\"polar\":{\"bgcolor\":\"#E5ECF6\",\"angularaxis\":{\"gridcolor\":\"white\",\"linecolor\":\"white\",\"ticks\":\"\"},\"radialaxis\":{\"gridcolor\":\"white\",\"linecolor\":\"white\",\"ticks\":\"\"}},\"ternary\":{\"bgcolor\":\"#E5ECF6\",\"aaxis\":{\"gridcolor\":\"white\",\"linecolor\":\"white\",\"ticks\":\"\"},\"baxis\":{\"gridcolor\":\"white\",\"linecolor\":\"white\",\"ticks\":\"\"},\"caxis\":{\"gridcolor\":\"white\",\"linecolor\":\"white\",\"ticks\":\"\"}},\"coloraxis\":{\"colorbar\":{\"outlinewidth\":0,\"ticks\":\"\"}},\"colorscale\":{\"sequential\":[[0.0,\"#0d0887\"],[0.1111111111111111,\"#46039f\"],[0.2222222222222222,\"#7201a8\"],[0.3333333333333333,\"#9c179e\"],[0.4444444444444444,\"#bd3786\"],[0.5555555555555556,\"#d8576b\"],[0.6666666666666666,\"#ed7953\"],[0.7777777777777778,\"#fb9f3a\"],[0.8888888888888888,\"#fdca26\"],[1.0,\"#f0f921\"]],\"sequentialminus\":[[0.0,\"#0d0887\"],[0.1111111111111111,\"#46039f\"],[0.2222222222222222,\"#7201a8\"],[0.3333333333333333,\"#9c179e\"],[0.4444444444444444,\"#bd3786\"],[0.5555555555555556,\"#d8576b\"],[0.6666666666666666,\"#ed7953\"],[0.7777777777777778,\"#fb9f3a\"],[0.8888888888888888,\"#fdca26\"],[1.0,\"#f0f921\"]],\"diverging\":[[0,\"#8e0152\"],[0.1,\"#c51b7d\"],[0.2,\"#de77ae\"],[0.3,\"#f1b6da\"],[0.4,\"#fde0ef\"],[0.5,\"#f7f7f7\"],[0.6,\"#e6f5d0\"],[0.7,\"#b8e186\"],[0.8,\"#7fbc41\"],[0.9,\"#4d9221\"],[1,\"#276419\"]]},\"xaxis\":{\"gridcolor\":\"white\",\"linecolor\":\"white\",\"ticks\":\"\",\"title\":{\"standoff\":15},\"zerolinecolor\":\"white\",\"automargin\":true,\"zerolinewidth\":2},\"yaxis\":{\"gridcolor\":\"white\",\"linecolor\":\"white\",\"ticks\":\"\",\"title\":{\"standoff\":15},\"zerolinecolor\":\"white\",\"automargin\":true,\"zerolinewidth\":2},\"scene\":{\"xaxis\":{\"backgroundcolor\":\"#E5ECF6\",\"gridcolor\":\"white\",\"linecolor\":\"white\",\"showbackground\":true,\"ticks\":\"\",\"zerolinecolor\":\"white\",\"gridwidth\":2},\"yaxis\":{\"backgroundcolor\":\"#E5ECF6\",\"gridcolor\":\"white\",\"linecolor\":\"white\",\"showbackground\":true,\"ticks\":\"\",\"zerolinecolor\":\"white\",\"gridwidth\":2},\"zaxis\":{\"backgroundcolor\":\"#E5ECF6\",\"gridcolor\":\"white\",\"linecolor\":\"white\",\"showbackground\":true,\"ticks\":\"\",\"zerolinecolor\":\"white\",\"gridwidth\":2}},\"shapedefaults\":{\"line\":{\"color\":\"#2a3f5f\"}},\"annotationdefaults\":{\"arrowcolor\":\"#2a3f5f\",\"arrowhead\":0,\"arrowwidth\":1},\"geo\":{\"bgcolor\":\"white\",\"landcolor\":\"#E5ECF6\",\"subunitcolor\":\"white\",\"showland\":true,\"showlakes\":true,\"lakecolor\":\"white\"},\"title\":{\"x\":0.05},\"mapbox\":{\"style\":\"light\"}}},\"title\":{\"text\":\"SVM\"},\"xaxis\":{\"title\":{\"text\":\"\\u0414\\u0430\\u0442\\u0430\"}},\"yaxis\":{\"title\":{\"text\":\"\\u0421\\u0442\\u043e\\u0438\\u043c\\u043e\\u0441\\u0442\\u044c\"}}},                        {\"responsive\": true}                    ).then(function(){\n",
              "                            \n",
              "var gd = document.getElementById('9fc9b495-c523-45f7-b61d-9cd01dc4110c');\n",
              "var x = new MutationObserver(function (mutations, observer) {{\n",
              "        var display = window.getComputedStyle(gd).display;\n",
              "        if (!display || display === 'none') {{\n",
              "            console.log([gd, 'removed!']);\n",
              "            Plotly.purge(gd);\n",
              "            observer.disconnect();\n",
              "        }}\n",
              "}});\n",
              "\n",
              "// Listen for the removal of the full notebook cells\n",
              "var notebookContainer = gd.closest('#notebook-container');\n",
              "if (notebookContainer) {{\n",
              "    x.observe(notebookContainer, {childList: true});\n",
              "}}\n",
              "\n",
              "// Listen for the clearing of the current output cell\n",
              "var outputEl = gd.closest('.output');\n",
              "if (outputEl) {{\n",
              "    x.observe(outputEl, {childList: true});\n",
              "}}\n",
              "\n",
              "                        })                };                            </script>        </div>\n",
              "</body>\n",
              "</html>"
            ]
          },
          "metadata": {}
        }
      ]
    },
    {
      "cell_type": "code",
      "source": [
        "print(\"SVM train rmse:\", sqrt(mean_squared_error(train['y'], res_y_train)))\n",
        "print(\"SVM test rmse:\", sqrt(mean_squared_error(test['y'], res_y_test)))"
      ],
      "metadata": {
        "colab": {
          "base_uri": "https://localhost:8080/"
        },
        "id": "fMgrAcvA7mTu",
        "outputId": "0bdeed4a-bca8-43f7-c45d-3e3919839dd6"
      },
      "execution_count": 445,
      "outputs": [
        {
          "output_type": "stream",
          "name": "stdout",
          "text": [
            "SVM train rmse: 2.525336765810502\n",
            "SVM test rmse: 1.3857881736916937\n"
          ]
        }
      ]
    },
    {
      "cell_type": "markdown",
      "source": [
        "Lasso"
      ],
      "metadata": {
        "id": "9wofHsni7wmh"
      }
    },
    {
      "cell_type": "code",
      "source": [
        "from sklearn.linear_model import Lasso"
      ],
      "metadata": {
        "id": "pIsqg0Ne8Vri"
      },
      "execution_count": 446,
      "outputs": []
    },
    {
      "cell_type": "code",
      "source": [
        "model = Lasso()\n",
        "\n",
        "model.fit(train_x, train_y)\n",
        "\n",
        "res_y_train = model.predict(train_x)\n",
        "res_y_test = model.predict(test_x)"
      ],
      "metadata": {
        "id": "_HdaSI0YAS1R"
      },
      "execution_count": 447,
      "outputs": []
    },
    {
      "cell_type": "code",
      "source": [
        "fig = go.Figure()\n",
        "fig.add_trace(go.Scatter(x=train['x'], y=train['y'], name=\"train_y\"))\n",
        "fig.add_trace(go.Scatter(x=test['x'], y=test['y'], name=\"test_y\", line = dict(dash='dash')))\n",
        "fig.add_trace(go.Scatter(x=train['x'], y=res_y_train, name=\"Lasso_train_y\"))\n",
        "fig.add_trace(go.Scatter(x=test['x'], y=res_y_test, name=\"Lasso_test_y\", line = dict(dash='dash')))\n",
        "\n",
        "fig.update_layout(title=\"Lasso\",\n",
        "                  xaxis_title=\"Дата\",\n",
        "                  yaxis_title=\"Стоимость\")"
      ],
      "metadata": {
        "colab": {
          "base_uri": "https://localhost:8080/",
          "height": 542
        },
        "id": "Dk-pwP2qAewb",
        "outputId": "bd74ae36-8827-477c-ec21-ab99879e237a"
      },
      "execution_count": 448,
      "outputs": [
        {
          "output_type": "display_data",
          "data": {
            "text/html": [
              "<html>\n",
              "<head><meta charset=\"utf-8\" /></head>\n",
              "<body>\n",
              "    <div>            <script src=\"https://cdnjs.cloudflare.com/ajax/libs/mathjax/2.7.5/MathJax.js?config=TeX-AMS-MML_SVG\"></script><script type=\"text/javascript\">if (window.MathJax && window.MathJax.Hub && window.MathJax.Hub.Config) {window.MathJax.Hub.Config({SVG: {font: \"STIX-Web\"}});}</script>                <script type=\"text/javascript\">window.PlotlyConfig = {MathJaxConfig: 'local'};</script>\n",
              "        <script charset=\"utf-8\" src=\"https://cdn.plot.ly/plotly-2.24.1.min.js\"></script>                <div id=\"d3a5b480-fd2e-4bfb-b231-9ce7289a9fcc\" class=\"plotly-graph-div\" style=\"height:525px; width:100%;\"></div>            <script type=\"text/javascript\">                                    window.PLOTLYENV=window.PLOTLYENV || {};                                    if (document.getElementById(\"d3a5b480-fd2e-4bfb-b231-9ce7289a9fcc\")) {                    Plotly.newPlot(                        \"d3a5b480-fd2e-4bfb-b231-9ce7289a9fcc\",                        [{\"name\":\"train_y\",\"x\":[0.0,86400.0,345600.0,432000.0,518400.0,604800.0,691200.0,950400.0,1036800.0,1123200.0,1209600.0,1296000.0,1555200.0,1641600.0,1728000.0,1814400.0,2160000.0,2246400.0,2332800.0,2419200.0,2505600.0,2764800.0,2851200.0,2937600.0,3024000.0,3110400.0,3369600.0,3456000.0,3542400.0,3628800.0,3715200.0,3974400.0,4060800.0,4147200.0,4233600.0,4320000.0,4579200.0,4665600.0,4752000.0,4838400.0,4924800.0,5184000.0,5270400.0,5356800.0,5443200.0,5529600.0,5788800.0,5875200.0,5961600.0,6048000.0,6134400.0,6480000.0,6566400.0,6652800.0,6739200.0,6998400.0,7084800.0,7171200.0,7257600.0,7344000.0,7603200.0,7689600.0,7776000.0,7862400.0,7948800.0,8208000.0,8294400.0,8380800.0,8467200.0,8553600.0,8812800.0,8899200.0,8985600.0,9072000.0,9158400.0,9417600.0,9504000.0,9676800.0,9763200.0,10022400.0,10108800.0,10195200.0,10281600.0,10368000.0,10627200.0,10713600.0,10800000.0,10886400.0,10972800.0,11232000.0,11318400.0,11404800.0,11491200.0,11577600.0,11836800.0,11923200.0,12009600.0,12096000.0,12182400.0,12441600.0,12528000.0,12614400.0,12700800.0,12787200.0,13046400.0,13132800.0,13219200.0,13305600.0,13392000.0,13651200.0,13737600.0,13824000.0,13910400.0,13996800.0,14256000.0,14342400.0,14428800.0,14515200.0,14601600.0,14947200.0,15033600.0,15120000.0,15206400.0,15465600.0,15552000.0,15638400.0,15724800.0,15811200.0,16070400.0,16156800.0,16243200.0,16329600.0,16416000.0,16675200.0,16761600.0,16848000.0,16934400.0,17020800.0,17280000.0,17366400.0,17452800.0,17539200.0,17625600.0,17884800.0,17971200.0,18057600.0,18144000.0,18230400.0,18489600.0,18576000.0,18662400.0,18748800.0,18835200.0,19094400.0,19180800.0,19267200.0,19353600.0,19440000.0,19699200.0,19785600.0,19872000.0,19958400.0,20044800.0,20304000.0,20390400.0,20476800.0,20563200.0,20649600.0,20908800.0,20995200.0,21081600.0,21168000.0,21254400.0,21513600.0,21600000.0,21686400.0,21859200.0,22118400.0,22204800.0,22291200.0,22377600.0,22464000.0,22723200.0,22809600.0,22896000.0,22982400.0,23068800.0,23328000.0,23414400.0,23500800.0,23587200.0,23673600.0,23932800.0,24019200.0,24105600.0,24192000.0,24278400.0,24537600.0,24710400.0,24796800.0,24883200.0,25142400.0,25315200.0,25401600.0,25488000.0,25747200.0,25833600.0,25920000.0,26006400.0,26092800.0,26352000.0,26438400.0,26524800.0,26611200.0,26697600.0,27043200.0,27129600.0,27216000.0,27302400.0,27561600.0,27648000.0,27734400.0,27820800.0,27907200.0,28166400.0,28252800.0,28339200.0,28425600.0,28512000.0,28771200.0,28857600.0,28944000.0,29030400.0,29116800.0,29462400.0,29548800.0,29635200.0,29721600.0,29980800.0,30067200.0],\"y\":[29.81,30.02,30.0,30.0,30.33,31.36,31.33,31.25,31.56,31.45,31.71,31.21,31.22,31.41,31.61,32.0,32.01,31.64,31.65,31.26,31.15,31.68,31.98,28.42,28.1,27.86,27.53,28.03,28.22,27.98,28.35,28.32,28.25,27.72,28.25,33.27,30.13,30.24,30.16,30.52,29.62,29.79,29.16,28.89,28.99,28.9,29.62,29.33,29.1,28.65,28.44,28.36,28.19,28.76,28.9,28.6,28.4,28.05,27.34,27.02,27.27,27.3,27.12,27.38,27.49,27.72,29.4,27.89,27.69,27.68,27.6,27.73,27.51,27.44,27.21,27.19,26.95,26.92,27.01,26.92,27.09,27.03,26.7,26.87,26.48,26.74,26.07,26.32,25.7,25.43,24.8,25.01,24.4,23.98,23.55,23.88,23.17,22.65,23.2,23.03,22.75,23.46,23.67,23.93,24.21,24.69,23.56,23.0,23.26,23.64,23.25,23.22,23.35,23.03,23.59,22.95,22.6,22.49,22.81,23.3,24.1,24.22,23.76,23.85,23.31,23.64,23.6,23.69,24.5,25.06,25.09,25.28,25.54,26.13,25.7,26.7,26.95,26.49,26.76,27.2,27.16,27.19,27.78,28.01,28.35,28.43,28.44,27.76,28.32,27.37,29.1,28.59,29.36,28.93,30.12,30.68,30.75,32.43,34.07,31.55,31.5,30.86,30.54,30.71,31.76,29.27,28.11,26.13,25.8,25.53,26.42,24.94,25.66,27.11,26.93,26.11,25.98,26.08,25.18,26.03,26.01,26.96,26.64,26.14,26.63,25.88,25.86,25.51,25.15,24.82,24.39,24.13,23.8,23.22,22.92,23.5,23.88,24.01,23.85,23.6,23.66,23.22,23.8,23.86,23.81,23.12,23.28,22.47,23.19,23.81,23.51,23.0,22.2,22.0,21.27,19.29,19.25,20.44,22.24,21.56,20.87,18.62,18.87,28.68,28.33,28.78,29.11,28.63,28.98,29.89,29.81,29.78,29.98,29.94,29.34,28.71,28.76,28.36,28.42,27.93],\"type\":\"scatter\"},{\"line\":{\"dash\":\"dash\"},\"name\":\"test_y\",\"x\":[30153600.0,30240000.0,30326400.0,30585600.0,30672000.0,30758400.0,30844800.0,30931200.0,31190400.0,31276800.0,31363200.0,31449600.0,31536000.0,31795200.0,31881600.0,31968000.0,32054400.0,32400000.0,32486400.0,32572800.0,32659200.0,32745600.0,33004800.0,33091200.0,33177600.0,33264000.0,33350400.0,33609600.0,33696000.0,33782400.0,33868800.0,33955200.0,34214400.0,34300800.0,34387200.0,34473600.0,34560000.0,34819200.0,34905600.0,34992000.0,35078400.0,35164800.0,35424000.0,35510400.0,35596800.0,35683200.0,35769600.0,36028800.0,36115200.0,36201600.0,36288000.0,36374400.0,36633600.0,36720000.0,36806400.0,36892800.0,36979200.0,37238400.0,37324800.0,37411200.0],\"y\":[28.33,27.98,27.94,27.73,27.8,28.0,28.64,28.58,28.87,28.91,28.89,28.07,27.85,26.5,26.94,27.56,27.36,27.56,28.14,28.63,28.49,28.32,28.56,28.07,28.57,27.65,28.0,27.8,27.72,27.8,28.39,28.41,28.18,28.05,28.11,28.4,28.44,28.52,28.73,28.24,28.01,26.85,27.0,26.35,27.17,27.69,27.65,23.05,25.54,25.57,25.66,26.01,25.8,25.15,26.95,27.54,27.73,27.9,27.68,27.34],\"type\":\"scatter\"},{\"name\":\"Lasso_train_y\",\"x\":[0.0,86400.0,345600.0,432000.0,518400.0,604800.0,691200.0,950400.0,1036800.0,1123200.0,1209600.0,1296000.0,1555200.0,1641600.0,1728000.0,1814400.0,2160000.0,2246400.0,2332800.0,2419200.0,2505600.0,2764800.0,2851200.0,2937600.0,3024000.0,3110400.0,3369600.0,3456000.0,3542400.0,3628800.0,3715200.0,3974400.0,4060800.0,4147200.0,4233600.0,4320000.0,4579200.0,4665600.0,4752000.0,4838400.0,4924800.0,5184000.0,5270400.0,5356800.0,5443200.0,5529600.0,5788800.0,5875200.0,5961600.0,6048000.0,6134400.0,6480000.0,6566400.0,6652800.0,6739200.0,6998400.0,7084800.0,7171200.0,7257600.0,7344000.0,7603200.0,7689600.0,7776000.0,7862400.0,7948800.0,8208000.0,8294400.0,8380800.0,8467200.0,8553600.0,8812800.0,8899200.0,8985600.0,9072000.0,9158400.0,9417600.0,9504000.0,9676800.0,9763200.0,10022400.0,10108800.0,10195200.0,10281600.0,10368000.0,10627200.0,10713600.0,10800000.0,10886400.0,10972800.0,11232000.0,11318400.0,11404800.0,11491200.0,11577600.0,11836800.0,11923200.0,12009600.0,12096000.0,12182400.0,12441600.0,12528000.0,12614400.0,12700800.0,12787200.0,13046400.0,13132800.0,13219200.0,13305600.0,13392000.0,13651200.0,13737600.0,13824000.0,13910400.0,13996800.0,14256000.0,14342400.0,14428800.0,14515200.0,14601600.0,14947200.0,15033600.0,15120000.0,15206400.0,15465600.0,15552000.0,15638400.0,15724800.0,15811200.0,16070400.0,16156800.0,16243200.0,16329600.0,16416000.0,16675200.0,16761600.0,16848000.0,16934400.0,17020800.0,17280000.0,17366400.0,17452800.0,17539200.0,17625600.0,17884800.0,17971200.0,18057600.0,18144000.0,18230400.0,18489600.0,18576000.0,18662400.0,18748800.0,18835200.0,19094400.0,19180800.0,19267200.0,19353600.0,19440000.0,19699200.0,19785600.0,19872000.0,19958400.0,20044800.0,20304000.0,20390400.0,20476800.0,20563200.0,20649600.0,20908800.0,20995200.0,21081600.0,21168000.0,21254400.0,21513600.0,21600000.0,21686400.0,21859200.0,22118400.0,22204800.0,22291200.0,22377600.0,22464000.0,22723200.0,22809600.0,22896000.0,22982400.0,23068800.0,23328000.0,23414400.0,23500800.0,23587200.0,23673600.0,23932800.0,24019200.0,24105600.0,24192000.0,24278400.0,24537600.0,24710400.0,24796800.0,24883200.0,25142400.0,25315200.0,25401600.0,25488000.0,25747200.0,25833600.0,25920000.0,26006400.0,26092800.0,26352000.0,26438400.0,26524800.0,26611200.0,26697600.0,27043200.0,27129600.0,27216000.0,27302400.0,27561600.0,27648000.0,27734400.0,27820800.0,27907200.0,28166400.0,28252800.0,28339200.0,28425600.0,28512000.0,28771200.0,28857600.0,28944000.0,29030400.0,29116800.0,29462400.0,29548800.0,29635200.0,29721600.0,29980800.0,30067200.0],\"y\":[29.72106520210468,29.757527647531475,29.82297803637686,29.951904075162492,30.808052972333062,30.857731536386563,31.103939549652882,31.128428833420532,31.057217824551323,31.097978708938623,31.1165959476274,31.015345103062746,30.826140723992417,31.319339490272135,31.215774101651824,31.401512709942736,31.52819468830866,31.344370182692554,31.09018633979365,30.832054401896293,30.882695371185356,31.110948995861126,31.41493198386829,28.747269131521477,28.073865717660617,27.755284069599092,27.970982873949772,28.05663326360202,28.078907337760924,28.396417398734354,28.559351063025122,28.266811058241775,28.139458625574516,28.060321884491525,28.238435867502606,32.47245638505139,30.459469665633435,30.452207643908594,29.908408849758903,30.109658425920937,29.615407767364363,29.512053998636713,29.036290150308538,28.971662582238626,28.76206713767072,29.31603641585979,29.355054567451763,28.955271091970122,28.95968026457977,28.544997882500518,28.403758185499317,28.38675549434801,28.092622188635044,28.472536312460633,28.720047227518947,28.428158673631593,28.25885318843418,27.853419135171936,27.525589158293403,27.26841962563161,27.308089228119577,27.42943003124786,27.221497679839622,27.4029280017644,27.309933538564334,27.98304965688079,28.863316247249116,27.900815631995066,27.658476074091535,27.525502605860538,27.501114899742312,27.834466577737672,27.40691842099377,27.256770891731986,27.161121387919827,27.055151968202573,27.035463142425705,26.931677838303724,26.928171126105216,27.080473920151313,27.273136465797954,26.846910905657282,26.776361195089677,26.762935008366924,26.571114978306998,27.430881321325224,26.545274247125157,26.206863497420766,25.84107780003864,25.458008859773198,25.347489991580296,25.30763156760413,24.626780781764605,24.60409641881922,24.079025597007448,24.10357482559953,23.674383270507203,23.896083856991236,23.620427514101046,23.432915770407245,23.8788809451495,24.007466487378707,24.507297931485823,24.321830027521298,24.75221444216238,24.725932328180594,24.161342027152475,23.419671492375493,23.794946680684145,23.886819459377318,23.68220344688278,23.699818890713512,23.564210076681672,23.87147986138567,23.878123938415307,23.349204356051985,22.987016409706268,23.15456931470273,23.082366358381087,24.46170376010801,24.392826990105693,24.350713106507595,24.12924383472746,23.941362052260367,23.93356674850697,23.99576074326308,24.02067016322283,24.875496463790167,24.95349182555502,25.06857983703481,25.216683526567316,25.413313862023656,25.91246431301792,26.07038814262776,26.293791211893936,26.623826550975597,26.55530012493533,26.51151330077195,26.66214315425277,26.784145255682667,26.911768392676304,26.83362359904574,27.550405960470822,27.570626347494837,28.062843013727747,28.02203203192164,28.005649697652856,27.86310709885967,27.742258467356038,26.998672969513553,28.384844130149013,28.76978692307607,29.047638780763766,29.098579996596072,29.80840887844856,29.927805176294477,30.472215171326976,32.42877733404278,32.551089529421546,30.588244172449684,30.59322601671036,30.052393217512325,30.119537102124937,31.059152273352478,30.583388425024303,28.559752861331848,27.599730033388706,26.023173033336395,25.801545342675627,25.821144681411205,25.97483001688497,25.432052712404563,26.51998250165136,26.717885336292127,26.680750884767388,26.119106883879677,25.938349259458743,25.802660805791238,25.597042998438653,26.142716505640664,26.176563300077852,26.68528288163431,26.601817298983253,26.200671837275895,26.1816246149894,25.609108581747503,25.656102562972055,25.202052376744692,25.254015942636986,24.702933019763897,24.483097298926563,24.235185942487398,23.85576399028647,23.28090387077206,23.539928421674933,23.618314377415018,23.882668704353303,23.96199651012701,24.01080370778284,23.920434742977992,23.546372969420045,23.309633891878306,23.884515258000572,23.934203669459695,23.619930307764292,23.40432323365742,23.45330110978682,22.754284315464094,24.186366471033782,23.84437766510422,23.551847507726496,23.30823459024783,22.686140879195957,22.17830406323939,21.70681895906048,21.193752392921322,20.556078782158973,21.716391193215895,22.26511932202014,21.92904195079194,21.078404907332576,20.978767918899482,19.696425415992415,28.35486455009977,28.399226487773067,28.44293367230078,28.257144966591063,28.149952284717482,28.156335504826355,28.845643584126794,28.699833883448008,28.88457069688087,29.02967884924486,28.951213253869106,28.337115758666958,28.00101955301822,28.085006849510805,27.64655711819585,27.56799218837319,27.550948555802783],\"type\":\"scatter\"},{\"line\":{\"dash\":\"dash\"},\"name\":\"Lasso_test_y\",\"x\":[30153600.0,30240000.0,30326400.0,30585600.0,30672000.0,30758400.0,30844800.0,30931200.0,31190400.0,31276800.0,31363200.0,31449600.0,31536000.0,31795200.0,31881600.0,31968000.0,32054400.0,32400000.0,32486400.0,32572800.0,32659200.0,32745600.0,33004800.0,33091200.0,33177600.0,33264000.0,33350400.0,33609600.0,33696000.0,33782400.0,33868800.0,33955200.0,34214400.0,34300800.0,34387200.0,34473600.0,34560000.0,34819200.0,34905600.0,34992000.0,35078400.0,35164800.0,35424000.0,35510400.0,35596800.0,35683200.0,35769600.0,36028800.0,36115200.0,36201600.0,36288000.0,36374400.0,36633600.0,36720000.0,36806400.0,36892800.0,36979200.0,37238400.0,37324800.0,37411200.0],\"y\":[27.482693694479597,27.76586548079709,27.413266359824807,27.131938883952074,27.114224105674435,27.70022696186942,27.86945280743116,28.05322721562846,27.878571399193692,28.034260324383542,27.917478817136526,27.29507415174508,27.009498334330647,25.904837418649628,26.749374205919434,26.819202673360987,26.93626473234001,27.05169479217284,27.617226943234577,27.658658973329118,27.4411673387643,27.92114998641731,27.93275380070907,27.525355547353218,27.490126211488366,27.190401412428525,27.347363697193504,27.10370068229604,26.82211234950255,26.92428534928958,27.53538799872912,27.48633048296405,27.256525190183662,27.172098062687745,27.2891305794499,27.288599709608665,27.518596067079766,27.520630750809328,27.685888806561373,27.252729461659346,27.011090591679913,26.051487039538166,26.1376895456395,26.462133391374287,26.68581787276317,27.172773694800014,28.335089695573025,24.363159749731583,25.298388715738735,24.932360995856385,25.533554018177302,25.327605561673913,25.07568616541186,25.858840379498794,26.26416525090851,26.83306297791205,26.8252873689699,27.137767900451163,27.033541213529237,26.81734263335079],\"type\":\"scatter\"}],                        {\"template\":{\"data\":{\"histogram2dcontour\":[{\"type\":\"histogram2dcontour\",\"colorbar\":{\"outlinewidth\":0,\"ticks\":\"\"},\"colorscale\":[[0.0,\"#0d0887\"],[0.1111111111111111,\"#46039f\"],[0.2222222222222222,\"#7201a8\"],[0.3333333333333333,\"#9c179e\"],[0.4444444444444444,\"#bd3786\"],[0.5555555555555556,\"#d8576b\"],[0.6666666666666666,\"#ed7953\"],[0.7777777777777778,\"#fb9f3a\"],[0.8888888888888888,\"#fdca26\"],[1.0,\"#f0f921\"]]}],\"choropleth\":[{\"type\":\"choropleth\",\"colorbar\":{\"outlinewidth\":0,\"ticks\":\"\"}}],\"histogram2d\":[{\"type\":\"histogram2d\",\"colorbar\":{\"outlinewidth\":0,\"ticks\":\"\"},\"colorscale\":[[0.0,\"#0d0887\"],[0.1111111111111111,\"#46039f\"],[0.2222222222222222,\"#7201a8\"],[0.3333333333333333,\"#9c179e\"],[0.4444444444444444,\"#bd3786\"],[0.5555555555555556,\"#d8576b\"],[0.6666666666666666,\"#ed7953\"],[0.7777777777777778,\"#fb9f3a\"],[0.8888888888888888,\"#fdca26\"],[1.0,\"#f0f921\"]]}],\"heatmap\":[{\"type\":\"heatmap\",\"colorbar\":{\"outlinewidth\":0,\"ticks\":\"\"},\"colorscale\":[[0.0,\"#0d0887\"],[0.1111111111111111,\"#46039f\"],[0.2222222222222222,\"#7201a8\"],[0.3333333333333333,\"#9c179e\"],[0.4444444444444444,\"#bd3786\"],[0.5555555555555556,\"#d8576b\"],[0.6666666666666666,\"#ed7953\"],[0.7777777777777778,\"#fb9f3a\"],[0.8888888888888888,\"#fdca26\"],[1.0,\"#f0f921\"]]}],\"heatmapgl\":[{\"type\":\"heatmapgl\",\"colorbar\":{\"outlinewidth\":0,\"ticks\":\"\"},\"colorscale\":[[0.0,\"#0d0887\"],[0.1111111111111111,\"#46039f\"],[0.2222222222222222,\"#7201a8\"],[0.3333333333333333,\"#9c179e\"],[0.4444444444444444,\"#bd3786\"],[0.5555555555555556,\"#d8576b\"],[0.6666666666666666,\"#ed7953\"],[0.7777777777777778,\"#fb9f3a\"],[0.8888888888888888,\"#fdca26\"],[1.0,\"#f0f921\"]]}],\"contourcarpet\":[{\"type\":\"contourcarpet\",\"colorbar\":{\"outlinewidth\":0,\"ticks\":\"\"}}],\"contour\":[{\"type\":\"contour\",\"colorbar\":{\"outlinewidth\":0,\"ticks\":\"\"},\"colorscale\":[[0.0,\"#0d0887\"],[0.1111111111111111,\"#46039f\"],[0.2222222222222222,\"#7201a8\"],[0.3333333333333333,\"#9c179e\"],[0.4444444444444444,\"#bd3786\"],[0.5555555555555556,\"#d8576b\"],[0.6666666666666666,\"#ed7953\"],[0.7777777777777778,\"#fb9f3a\"],[0.8888888888888888,\"#fdca26\"],[1.0,\"#f0f921\"]]}],\"surface\":[{\"type\":\"surface\",\"colorbar\":{\"outlinewidth\":0,\"ticks\":\"\"},\"colorscale\":[[0.0,\"#0d0887\"],[0.1111111111111111,\"#46039f\"],[0.2222222222222222,\"#7201a8\"],[0.3333333333333333,\"#9c179e\"],[0.4444444444444444,\"#bd3786\"],[0.5555555555555556,\"#d8576b\"],[0.6666666666666666,\"#ed7953\"],[0.7777777777777778,\"#fb9f3a\"],[0.8888888888888888,\"#fdca26\"],[1.0,\"#f0f921\"]]}],\"mesh3d\":[{\"type\":\"mesh3d\",\"colorbar\":{\"outlinewidth\":0,\"ticks\":\"\"}}],\"scatter\":[{\"fillpattern\":{\"fillmode\":\"overlay\",\"size\":10,\"solidity\":0.2},\"type\":\"scatter\"}],\"parcoords\":[{\"type\":\"parcoords\",\"line\":{\"colorbar\":{\"outlinewidth\":0,\"ticks\":\"\"}}}],\"scatterpolargl\":[{\"type\":\"scatterpolargl\",\"marker\":{\"colorbar\":{\"outlinewidth\":0,\"ticks\":\"\"}}}],\"bar\":[{\"error_x\":{\"color\":\"#2a3f5f\"},\"error_y\":{\"color\":\"#2a3f5f\"},\"marker\":{\"line\":{\"color\":\"#E5ECF6\",\"width\":0.5},\"pattern\":{\"fillmode\":\"overlay\",\"size\":10,\"solidity\":0.2}},\"type\":\"bar\"}],\"scattergeo\":[{\"type\":\"scattergeo\",\"marker\":{\"colorbar\":{\"outlinewidth\":0,\"ticks\":\"\"}}}],\"scatterpolar\":[{\"type\":\"scatterpolar\",\"marker\":{\"colorbar\":{\"outlinewidth\":0,\"ticks\":\"\"}}}],\"histogram\":[{\"marker\":{\"pattern\":{\"fillmode\":\"overlay\",\"size\":10,\"solidity\":0.2}},\"type\":\"histogram\"}],\"scattergl\":[{\"type\":\"scattergl\",\"marker\":{\"colorbar\":{\"outlinewidth\":0,\"ticks\":\"\"}}}],\"scatter3d\":[{\"type\":\"scatter3d\",\"line\":{\"colorbar\":{\"outlinewidth\":0,\"ticks\":\"\"}},\"marker\":{\"colorbar\":{\"outlinewidth\":0,\"ticks\":\"\"}}}],\"scattermapbox\":[{\"type\":\"scattermapbox\",\"marker\":{\"colorbar\":{\"outlinewidth\":0,\"ticks\":\"\"}}}],\"scatterternary\":[{\"type\":\"scatterternary\",\"marker\":{\"colorbar\":{\"outlinewidth\":0,\"ticks\":\"\"}}}],\"scattercarpet\":[{\"type\":\"scattercarpet\",\"marker\":{\"colorbar\":{\"outlinewidth\":0,\"ticks\":\"\"}}}],\"carpet\":[{\"aaxis\":{\"endlinecolor\":\"#2a3f5f\",\"gridcolor\":\"white\",\"linecolor\":\"white\",\"minorgridcolor\":\"white\",\"startlinecolor\":\"#2a3f5f\"},\"baxis\":{\"endlinecolor\":\"#2a3f5f\",\"gridcolor\":\"white\",\"linecolor\":\"white\",\"minorgridcolor\":\"white\",\"startlinecolor\":\"#2a3f5f\"},\"type\":\"carpet\"}],\"table\":[{\"cells\":{\"fill\":{\"color\":\"#EBF0F8\"},\"line\":{\"color\":\"white\"}},\"header\":{\"fill\":{\"color\":\"#C8D4E3\"},\"line\":{\"color\":\"white\"}},\"type\":\"table\"}],\"barpolar\":[{\"marker\":{\"line\":{\"color\":\"#E5ECF6\",\"width\":0.5},\"pattern\":{\"fillmode\":\"overlay\",\"size\":10,\"solidity\":0.2}},\"type\":\"barpolar\"}],\"pie\":[{\"automargin\":true,\"type\":\"pie\"}]},\"layout\":{\"autotypenumbers\":\"strict\",\"colorway\":[\"#636efa\",\"#EF553B\",\"#00cc96\",\"#ab63fa\",\"#FFA15A\",\"#19d3f3\",\"#FF6692\",\"#B6E880\",\"#FF97FF\",\"#FECB52\"],\"font\":{\"color\":\"#2a3f5f\"},\"hovermode\":\"closest\",\"hoverlabel\":{\"align\":\"left\"},\"paper_bgcolor\":\"white\",\"plot_bgcolor\":\"#E5ECF6\",\"polar\":{\"bgcolor\":\"#E5ECF6\",\"angularaxis\":{\"gridcolor\":\"white\",\"linecolor\":\"white\",\"ticks\":\"\"},\"radialaxis\":{\"gridcolor\":\"white\",\"linecolor\":\"white\",\"ticks\":\"\"}},\"ternary\":{\"bgcolor\":\"#E5ECF6\",\"aaxis\":{\"gridcolor\":\"white\",\"linecolor\":\"white\",\"ticks\":\"\"},\"baxis\":{\"gridcolor\":\"white\",\"linecolor\":\"white\",\"ticks\":\"\"},\"caxis\":{\"gridcolor\":\"white\",\"linecolor\":\"white\",\"ticks\":\"\"}},\"coloraxis\":{\"colorbar\":{\"outlinewidth\":0,\"ticks\":\"\"}},\"colorscale\":{\"sequential\":[[0.0,\"#0d0887\"],[0.1111111111111111,\"#46039f\"],[0.2222222222222222,\"#7201a8\"],[0.3333333333333333,\"#9c179e\"],[0.4444444444444444,\"#bd3786\"],[0.5555555555555556,\"#d8576b\"],[0.6666666666666666,\"#ed7953\"],[0.7777777777777778,\"#fb9f3a\"],[0.8888888888888888,\"#fdca26\"],[1.0,\"#f0f921\"]],\"sequentialminus\":[[0.0,\"#0d0887\"],[0.1111111111111111,\"#46039f\"],[0.2222222222222222,\"#7201a8\"],[0.3333333333333333,\"#9c179e\"],[0.4444444444444444,\"#bd3786\"],[0.5555555555555556,\"#d8576b\"],[0.6666666666666666,\"#ed7953\"],[0.7777777777777778,\"#fb9f3a\"],[0.8888888888888888,\"#fdca26\"],[1.0,\"#f0f921\"]],\"diverging\":[[0,\"#8e0152\"],[0.1,\"#c51b7d\"],[0.2,\"#de77ae\"],[0.3,\"#f1b6da\"],[0.4,\"#fde0ef\"],[0.5,\"#f7f7f7\"],[0.6,\"#e6f5d0\"],[0.7,\"#b8e186\"],[0.8,\"#7fbc41\"],[0.9,\"#4d9221\"],[1,\"#276419\"]]},\"xaxis\":{\"gridcolor\":\"white\",\"linecolor\":\"white\",\"ticks\":\"\",\"title\":{\"standoff\":15},\"zerolinecolor\":\"white\",\"automargin\":true,\"zerolinewidth\":2},\"yaxis\":{\"gridcolor\":\"white\",\"linecolor\":\"white\",\"ticks\":\"\",\"title\":{\"standoff\":15},\"zerolinecolor\":\"white\",\"automargin\":true,\"zerolinewidth\":2},\"scene\":{\"xaxis\":{\"backgroundcolor\":\"#E5ECF6\",\"gridcolor\":\"white\",\"linecolor\":\"white\",\"showbackground\":true,\"ticks\":\"\",\"zerolinecolor\":\"white\",\"gridwidth\":2},\"yaxis\":{\"backgroundcolor\":\"#E5ECF6\",\"gridcolor\":\"white\",\"linecolor\":\"white\",\"showbackground\":true,\"ticks\":\"\",\"zerolinecolor\":\"white\",\"gridwidth\":2},\"zaxis\":{\"backgroundcolor\":\"#E5ECF6\",\"gridcolor\":\"white\",\"linecolor\":\"white\",\"showbackground\":true,\"ticks\":\"\",\"zerolinecolor\":\"white\",\"gridwidth\":2}},\"shapedefaults\":{\"line\":{\"color\":\"#2a3f5f\"}},\"annotationdefaults\":{\"arrowcolor\":\"#2a3f5f\",\"arrowhead\":0,\"arrowwidth\":1},\"geo\":{\"bgcolor\":\"white\",\"landcolor\":\"#E5ECF6\",\"subunitcolor\":\"white\",\"showland\":true,\"showlakes\":true,\"lakecolor\":\"white\"},\"title\":{\"x\":0.05},\"mapbox\":{\"style\":\"light\"}}},\"title\":{\"text\":\"Lasso\"},\"xaxis\":{\"title\":{\"text\":\"\\u0414\\u0430\\u0442\\u0430\"}},\"yaxis\":{\"title\":{\"text\":\"\\u0421\\u0442\\u043e\\u0438\\u043c\\u043e\\u0441\\u0442\\u044c\"}}},                        {\"responsive\": true}                    ).then(function(){\n",
              "                            \n",
              "var gd = document.getElementById('d3a5b480-fd2e-4bfb-b231-9ce7289a9fcc');\n",
              "var x = new MutationObserver(function (mutations, observer) {{\n",
              "        var display = window.getComputedStyle(gd).display;\n",
              "        if (!display || display === 'none') {{\n",
              "            console.log([gd, 'removed!']);\n",
              "            Plotly.purge(gd);\n",
              "            observer.disconnect();\n",
              "        }}\n",
              "}});\n",
              "\n",
              "// Listen for the removal of the full notebook cells\n",
              "var notebookContainer = gd.closest('#notebook-container');\n",
              "if (notebookContainer) {{\n",
              "    x.observe(notebookContainer, {childList: true});\n",
              "}}\n",
              "\n",
              "// Listen for the clearing of the current output cell\n",
              "var outputEl = gd.closest('.output');\n",
              "if (outputEl) {{\n",
              "    x.observe(outputEl, {childList: true});\n",
              "}}\n",
              "\n",
              "                        })                };                            </script>        </div>\n",
              "</body>\n",
              "</html>"
            ]
          },
          "metadata": {}
        }
      ]
    },
    {
      "cell_type": "code",
      "source": [
        "print(\"Lasso train rmse:\", sqrt(mean_squared_error(train['y'], res_y_train)))\n",
        "print(\"Lasso test rmse:\", sqrt(mean_squared_error(test['y'], res_y_test)))"
      ],
      "metadata": {
        "colab": {
          "base_uri": "https://localhost:8080/"
        },
        "id": "HijAr3ybAsUK",
        "outputId": "d224e262-56d2-44da-b93a-3523742c9bd4"
      },
      "execution_count": 449,
      "outputs": [
        {
          "output_type": "stream",
          "name": "stdout",
          "text": [
            "Lasso train rmse: 0.49815447860109463\n",
            "Lasso test rmse: 0.7570527711987511\n"
          ]
        }
      ]
    },
    {
      "cell_type": "markdown",
      "source": [
        "PLS"
      ],
      "metadata": {
        "id": "wZvIjQBVA0-H"
      }
    },
    {
      "cell_type": "code",
      "source": [
        "from sklearn.cross_decomposition import PLSRegression"
      ],
      "metadata": {
        "id": "YNa5vKMFA0X6"
      },
      "execution_count": 450,
      "outputs": []
    },
    {
      "cell_type": "code",
      "source": [
        "model = PLSRegression()\n",
        "\n",
        "model.fit(train_x, train_y)\n",
        "\n",
        "res_y_train = [y[0] for y in model.predict(train_x)]\n",
        "res_y_test = [y[0] for y in model.predict(test_x)]"
      ],
      "metadata": {
        "id": "zapHd6KUBd_k"
      },
      "execution_count": 451,
      "outputs": []
    },
    {
      "cell_type": "code",
      "source": [
        "fig = go.Figure()\n",
        "fig.add_trace(go.Scatter(x=train['x'], y=train['y'], name=\"train_y\"))\n",
        "fig.add_trace(go.Scatter(x=test['x'], y=test['y'], name=\"test_y\", line = dict(dash='dash')))\n",
        "fig.add_trace(go.Scatter(x=train['x'], y=res_y_train, name=\"PLS_train_y\"))\n",
        "fig.add_trace(go.Scatter(x=test['x'], y=res_y_test, name=\"PLS_test_y\", line = dict(dash='dash')))\n",
        "\n",
        "fig.update_layout(title=\"PLS\",\n",
        "                  xaxis_title=\"Дата\",\n",
        "                  yaxis_title=\"Стоимость\")"
      ],
      "metadata": {
        "colab": {
          "base_uri": "https://localhost:8080/",
          "height": 542
        },
        "id": "iJQCmvrXBnR9",
        "outputId": "bbce8fc4-6700-447d-e21e-9373164f0b51"
      },
      "execution_count": 452,
      "outputs": [
        {
          "output_type": "display_data",
          "data": {
            "text/html": [
              "<html>\n",
              "<head><meta charset=\"utf-8\" /></head>\n",
              "<body>\n",
              "    <div>            <script src=\"https://cdnjs.cloudflare.com/ajax/libs/mathjax/2.7.5/MathJax.js?config=TeX-AMS-MML_SVG\"></script><script type=\"text/javascript\">if (window.MathJax && window.MathJax.Hub && window.MathJax.Hub.Config) {window.MathJax.Hub.Config({SVG: {font: \"STIX-Web\"}});}</script>                <script type=\"text/javascript\">window.PlotlyConfig = {MathJaxConfig: 'local'};</script>\n",
              "        <script charset=\"utf-8\" src=\"https://cdn.plot.ly/plotly-2.24.1.min.js\"></script>                <div id=\"d0246b44-9056-4606-ba6a-6b340c1c17b6\" class=\"plotly-graph-div\" style=\"height:525px; width:100%;\"></div>            <script type=\"text/javascript\">                                    window.PLOTLYENV=window.PLOTLYENV || {};                                    if (document.getElementById(\"d0246b44-9056-4606-ba6a-6b340c1c17b6\")) {                    Plotly.newPlot(                        \"d0246b44-9056-4606-ba6a-6b340c1c17b6\",                        [{\"name\":\"train_y\",\"x\":[0.0,86400.0,345600.0,432000.0,518400.0,604800.0,691200.0,950400.0,1036800.0,1123200.0,1209600.0,1296000.0,1555200.0,1641600.0,1728000.0,1814400.0,2160000.0,2246400.0,2332800.0,2419200.0,2505600.0,2764800.0,2851200.0,2937600.0,3024000.0,3110400.0,3369600.0,3456000.0,3542400.0,3628800.0,3715200.0,3974400.0,4060800.0,4147200.0,4233600.0,4320000.0,4579200.0,4665600.0,4752000.0,4838400.0,4924800.0,5184000.0,5270400.0,5356800.0,5443200.0,5529600.0,5788800.0,5875200.0,5961600.0,6048000.0,6134400.0,6480000.0,6566400.0,6652800.0,6739200.0,6998400.0,7084800.0,7171200.0,7257600.0,7344000.0,7603200.0,7689600.0,7776000.0,7862400.0,7948800.0,8208000.0,8294400.0,8380800.0,8467200.0,8553600.0,8812800.0,8899200.0,8985600.0,9072000.0,9158400.0,9417600.0,9504000.0,9676800.0,9763200.0,10022400.0,10108800.0,10195200.0,10281600.0,10368000.0,10627200.0,10713600.0,10800000.0,10886400.0,10972800.0,11232000.0,11318400.0,11404800.0,11491200.0,11577600.0,11836800.0,11923200.0,12009600.0,12096000.0,12182400.0,12441600.0,12528000.0,12614400.0,12700800.0,12787200.0,13046400.0,13132800.0,13219200.0,13305600.0,13392000.0,13651200.0,13737600.0,13824000.0,13910400.0,13996800.0,14256000.0,14342400.0,14428800.0,14515200.0,14601600.0,14947200.0,15033600.0,15120000.0,15206400.0,15465600.0,15552000.0,15638400.0,15724800.0,15811200.0,16070400.0,16156800.0,16243200.0,16329600.0,16416000.0,16675200.0,16761600.0,16848000.0,16934400.0,17020800.0,17280000.0,17366400.0,17452800.0,17539200.0,17625600.0,17884800.0,17971200.0,18057600.0,18144000.0,18230400.0,18489600.0,18576000.0,18662400.0,18748800.0,18835200.0,19094400.0,19180800.0,19267200.0,19353600.0,19440000.0,19699200.0,19785600.0,19872000.0,19958400.0,20044800.0,20304000.0,20390400.0,20476800.0,20563200.0,20649600.0,20908800.0,20995200.0,21081600.0,21168000.0,21254400.0,21513600.0,21600000.0,21686400.0,21859200.0,22118400.0,22204800.0,22291200.0,22377600.0,22464000.0,22723200.0,22809600.0,22896000.0,22982400.0,23068800.0,23328000.0,23414400.0,23500800.0,23587200.0,23673600.0,23932800.0,24019200.0,24105600.0,24192000.0,24278400.0,24537600.0,24710400.0,24796800.0,24883200.0,25142400.0,25315200.0,25401600.0,25488000.0,25747200.0,25833600.0,25920000.0,26006400.0,26092800.0,26352000.0,26438400.0,26524800.0,26611200.0,26697600.0,27043200.0,27129600.0,27216000.0,27302400.0,27561600.0,27648000.0,27734400.0,27820800.0,27907200.0,28166400.0,28252800.0,28339200.0,28425600.0,28512000.0,28771200.0,28857600.0,28944000.0,29030400.0,29116800.0,29462400.0,29548800.0,29635200.0,29721600.0,29980800.0,30067200.0],\"y\":[29.81,30.02,30.0,30.0,30.33,31.36,31.33,31.25,31.56,31.45,31.71,31.21,31.22,31.41,31.61,32.0,32.01,31.64,31.65,31.26,31.15,31.68,31.98,28.42,28.1,27.86,27.53,28.03,28.22,27.98,28.35,28.32,28.25,27.72,28.25,33.27,30.13,30.24,30.16,30.52,29.62,29.79,29.16,28.89,28.99,28.9,29.62,29.33,29.1,28.65,28.44,28.36,28.19,28.76,28.9,28.6,28.4,28.05,27.34,27.02,27.27,27.3,27.12,27.38,27.49,27.72,29.4,27.89,27.69,27.68,27.6,27.73,27.51,27.44,27.21,27.19,26.95,26.92,27.01,26.92,27.09,27.03,26.7,26.87,26.48,26.74,26.07,26.32,25.7,25.43,24.8,25.01,24.4,23.98,23.55,23.88,23.17,22.65,23.2,23.03,22.75,23.46,23.67,23.93,24.21,24.69,23.56,23.0,23.26,23.64,23.25,23.22,23.35,23.03,23.59,22.95,22.6,22.49,22.81,23.3,24.1,24.22,23.76,23.85,23.31,23.64,23.6,23.69,24.5,25.06,25.09,25.28,25.54,26.13,25.7,26.7,26.95,26.49,26.76,27.2,27.16,27.19,27.78,28.01,28.35,28.43,28.44,27.76,28.32,27.37,29.1,28.59,29.36,28.93,30.12,30.68,30.75,32.43,34.07,31.55,31.5,30.86,30.54,30.71,31.76,29.27,28.11,26.13,25.8,25.53,26.42,24.94,25.66,27.11,26.93,26.11,25.98,26.08,25.18,26.03,26.01,26.96,26.64,26.14,26.63,25.88,25.86,25.51,25.15,24.82,24.39,24.13,23.8,23.22,22.92,23.5,23.88,24.01,23.85,23.6,23.66,23.22,23.8,23.86,23.81,23.12,23.28,22.47,23.19,23.81,23.51,23.0,22.2,22.0,21.27,19.29,19.25,20.44,22.24,21.56,20.87,18.62,18.87,28.68,28.33,28.78,29.11,28.63,28.98,29.89,29.81,29.78,29.98,29.94,29.34,28.71,28.76,28.36,28.42,27.93],\"type\":\"scatter\"},{\"line\":{\"dash\":\"dash\"},\"name\":\"test_y\",\"x\":[30153600.0,30240000.0,30326400.0,30585600.0,30672000.0,30758400.0,30844800.0,30931200.0,31190400.0,31276800.0,31363200.0,31449600.0,31536000.0,31795200.0,31881600.0,31968000.0,32054400.0,32400000.0,32486400.0,32572800.0,32659200.0,32745600.0,33004800.0,33091200.0,33177600.0,33264000.0,33350400.0,33609600.0,33696000.0,33782400.0,33868800.0,33955200.0,34214400.0,34300800.0,34387200.0,34473600.0,34560000.0,34819200.0,34905600.0,34992000.0,35078400.0,35164800.0,35424000.0,35510400.0,35596800.0,35683200.0,35769600.0,36028800.0,36115200.0,36201600.0,36288000.0,36374400.0,36633600.0,36720000.0,36806400.0,36892800.0,36979200.0,37238400.0,37324800.0,37411200.0],\"y\":[28.33,27.98,27.94,27.73,27.8,28.0,28.64,28.58,28.87,28.91,28.89,28.07,27.85,26.5,26.94,27.56,27.36,27.56,28.14,28.63,28.49,28.32,28.56,28.07,28.57,27.65,28.0,27.8,27.72,27.8,28.39,28.41,28.18,28.05,28.11,28.4,28.44,28.52,28.73,28.24,28.01,26.85,27.0,26.35,27.17,27.69,27.65,23.05,25.54,25.57,25.66,26.01,25.8,25.15,26.95,27.54,27.73,27.9,27.68,27.34],\"type\":\"scatter\"},{\"name\":\"PLS_train_y\",\"x\":[0.0,86400.0,345600.0,432000.0,518400.0,604800.0,691200.0,950400.0,1036800.0,1123200.0,1209600.0,1296000.0,1555200.0,1641600.0,1728000.0,1814400.0,2160000.0,2246400.0,2332800.0,2419200.0,2505600.0,2764800.0,2851200.0,2937600.0,3024000.0,3110400.0,3369600.0,3456000.0,3542400.0,3628800.0,3715200.0,3974400.0,4060800.0,4147200.0,4233600.0,4320000.0,4579200.0,4665600.0,4752000.0,4838400.0,4924800.0,5184000.0,5270400.0,5356800.0,5443200.0,5529600.0,5788800.0,5875200.0,5961600.0,6048000.0,6134400.0,6480000.0,6566400.0,6652800.0,6739200.0,6998400.0,7084800.0,7171200.0,7257600.0,7344000.0,7603200.0,7689600.0,7776000.0,7862400.0,7948800.0,8208000.0,8294400.0,8380800.0,8467200.0,8553600.0,8812800.0,8899200.0,8985600.0,9072000.0,9158400.0,9417600.0,9504000.0,9676800.0,9763200.0,10022400.0,10108800.0,10195200.0,10281600.0,10368000.0,10627200.0,10713600.0,10800000.0,10886400.0,10972800.0,11232000.0,11318400.0,11404800.0,11491200.0,11577600.0,11836800.0,11923200.0,12009600.0,12096000.0,12182400.0,12441600.0,12528000.0,12614400.0,12700800.0,12787200.0,13046400.0,13132800.0,13219200.0,13305600.0,13392000.0,13651200.0,13737600.0,13824000.0,13910400.0,13996800.0,14256000.0,14342400.0,14428800.0,14515200.0,14601600.0,14947200.0,15033600.0,15120000.0,15206400.0,15465600.0,15552000.0,15638400.0,15724800.0,15811200.0,16070400.0,16156800.0,16243200.0,16329600.0,16416000.0,16675200.0,16761600.0,16848000.0,16934400.0,17020800.0,17280000.0,17366400.0,17452800.0,17539200.0,17625600.0,17884800.0,17971200.0,18057600.0,18144000.0,18230400.0,18489600.0,18576000.0,18662400.0,18748800.0,18835200.0,19094400.0,19180800.0,19267200.0,19353600.0,19440000.0,19699200.0,19785600.0,19872000.0,19958400.0,20044800.0,20304000.0,20390400.0,20476800.0,20563200.0,20649600.0,20908800.0,20995200.0,21081600.0,21168000.0,21254400.0,21513600.0,21600000.0,21686400.0,21859200.0,22118400.0,22204800.0,22291200.0,22377600.0,22464000.0,22723200.0,22809600.0,22896000.0,22982400.0,23068800.0,23328000.0,23414400.0,23500800.0,23587200.0,23673600.0,23932800.0,24019200.0,24105600.0,24192000.0,24278400.0,24537600.0,24710400.0,24796800.0,24883200.0,25142400.0,25315200.0,25401600.0,25488000.0,25747200.0,25833600.0,25920000.0,26006400.0,26092800.0,26352000.0,26438400.0,26524800.0,26611200.0,26697600.0,27043200.0,27129600.0,27216000.0,27302400.0,27561600.0,27648000.0,27734400.0,27820800.0,27907200.0,28166400.0,28252800.0,28339200.0,28425600.0,28512000.0,28771200.0,28857600.0,28944000.0,29030400.0,29116800.0,29462400.0,29548800.0,29635200.0,29721600.0,29980800.0,30067200.0],\"y\":[29.681304734281483,29.784964286690506,29.92470638424406,30.00535242593347,30.58776085294549,30.76467392788421,31.374892644128494,31.38399069215693,31.303190925638106,31.46548410381707,31.43274622902108,31.477299250540177,31.1400300552398,31.480577847401275,31.49355891658271,31.70702712788447,31.967226794694042,31.848628793037655,31.519444820333838,31.350452768136467,31.219423778734832,31.332423069245188,31.767521890761465,30.0887216147636,28.107983791181663,27.756556501412764,27.805322827204183,27.72375286703082,27.95494332756501,28.25349068314536,28.262907283661402,28.228442929945107,28.130999185310188,28.04911035874774,27.944526887854757,31.044911049094225,31.836676444956975,30.487718112371855,30.16785198601334,30.271830404811457,30.09271794583243,29.64222966170484,29.39421992037059,29.08215283090286,28.826068341997836,29.24640401695072,29.239639069444873,29.278890040549513,29.159367806507685,28.781340959499225,28.49446550083835,28.400058349090155,28.168076430948368,28.354647796476026,28.76859236097083,28.635990931379794,28.394372300503623,28.0354756291603,27.664918163726263,27.187984047188532,27.08308202380795,27.27430691804462,27.147931457351998,27.195608409198314,27.245760769666408,27.754751160392036,28.45209468012579,28.521180021819017,27.711420287595885,27.53730180156951,27.52182437371472,27.715392215696806,27.482937392435026,27.28859967069989,27.195512166239446,27.030414551925315,27.010272492532753,26.840587422997043,26.8271337625971,26.97434524172507,27.06821404266881,26.853800335028552,26.78202112632048,26.633259098759137,26.58138057327222,26.999086800872423,26.511702622236676,25.996816231830483,25.857680128076254,25.337502790084358,25.148610368567315,24.853341295946578,24.48338919650889,24.208339359596913,23.677579498630646,23.511711376760495,23.363862792657315,23.21169033516149,22.80365350097898,22.9175662349475,23.148932312067146,23.117910441165677,23.76297907880575,23.72898731630796,24.137651722144334,24.241619352015178,24.066236189359728,23.080708038703133,23.096977865869974,23.27606937479742,23.301954336844094,23.148527991646468,23.045484908062548,23.311371251261622,23.18407187208505,23.06716829646863,22.549014725931578,22.51441759743744,22.420086994202467,23.499814228922126,23.664901682111953,23.981006459266556,23.884024830824355,23.5647967511455,23.599867098661115,23.41238260357678,23.572497661668507,24.13686497305901,24.233682401646,24.660684897736946,25.00292711593839,25.150919263746683,25.572652076205,25.796538296724428,26.202705402182996,26.244012821425784,26.627925820891992,26.707163936148696,26.61750875337877,26.8177542054262,27.094674398865088,27.02631640901878,27.527066910613968,27.79900423392897,28.233178823059802,28.353009448464924,28.377970178126162,28.287368871214767,27.919308706158535,27.656822317868162,28.191509297400977,29.19583828230783,29.167467436613588,29.53738779707242,29.83626480796913,30.429058563515518,31.04006905126888,32.398761510835335,33.207113946428734,32.58063815967165,31.505717780271084,31.11928653037549,30.892298585186353,31.397724507246586,31.149714765912336,30.229135828992845,28.51262362927562,26.948031408054057,25.954439612655452,25.828074940890104,25.81836136574101,25.833498977155134,25.93876365043687,26.38692071745077,26.98499494555707,26.52873139199354,26.058254773302806,25.91586259224648,25.821059083891516,25.8071648851534,26.19621510737589,26.53443074071922,26.89034735934192,26.48292668008304,26.25748991113024,26.081017688431167,25.793217997384854,25.482064665276773,25.369076791496656,24.842826895534287,24.554081394247987,24.203435087060893,23.840028450713675,23.31051137462045,23.23936989869055,23.165731436284332,23.59538495758251,23.81740113547652,23.90978514757284,23.78170447191297,23.422653761838745,23.293165473647658,23.49801995877121,23.782090667395433,23.596454637081973,23.4341512977787,23.173413280164667,22.769711108302086,23.395538687255208,23.473985031002833,23.546678310972034,23.254665629554882,22.615966838419823,21.930460043263725,21.526768660328415,20.87306534645856,19.59375291202865,20.36529576453209,21.24925514542639,21.798167946740435,20.931612262590967,20.570086143894965,18.737847079946928,24.718788447447853,28.958825397257186,28.840238184528076,28.908893776810405,28.979419411718162,28.779801217423117,29.40263764082686,29.695564079603663,29.78834382050378,29.875678261185808,29.909967626119617,29.483483472486004,29.000169034417468,28.788890046031707,28.51475365257789,28.29537865266829,28.31131882451877],\"type\":\"scatter\"},{\"line\":{\"dash\":\"dash\"},\"name\":\"PLS_test_y\",\"x\":[30153600.0,30240000.0,30326400.0,30585600.0,30672000.0,30758400.0,30844800.0,30931200.0,31190400.0,31276800.0,31363200.0,31449600.0,31536000.0,31795200.0,31881600.0,31968000.0,32054400.0,32400000.0,32486400.0,32572800.0,32659200.0,32745600.0,33004800.0,33091200.0,33177600.0,33264000.0,33350400.0,33609600.0,33696000.0,33782400.0,33868800.0,33955200.0,34214400.0,34300800.0,34387200.0,34473600.0,34560000.0,34819200.0,34905600.0,34992000.0,35078400.0,35164800.0,35424000.0,35510400.0,35596800.0,35683200.0,35769600.0,36028800.0,36115200.0,36201600.0,36288000.0,36374400.0,36633600.0,36720000.0,36806400.0,36892800.0,36979200.0,37238400.0,37324800.0,37411200.0],\"y\":[28.056796300777357,28.422062818625694,28.034707336344663,27.832119564354784,27.731881544709005,28.16108373874174,28.3633532721455,28.764075077385975,28.625258153922317,28.8569215195765,28.796649066228238,28.3677552635588,27.824410062214895,26.986302713977345,26.98222084455907,27.21994566535497,27.5668522011927,27.566544751533854,28.037582554489536,28.316053924164763,28.38035327627262,28.647647545904395,28.588002350308518,28.416359272903915,28.1842341049585,28.197050346481753,27.910966659329958,27.90107778149689,27.626171194388547,27.66295754579868,28.11346803558379,28.334856955725414,28.192926890861806,28.038873601813275,28.06430723659451,28.091446086342984,28.37350350253815,28.397375486057257,28.545521672596454,28.34354974162872,27.97144109995834,27.223857882315997,26.790486481424484,27.076592060332313,26.951481276268765,27.63496430397002,28.647884097276734,25.94239181508461,24.606853436193823,25.42762575670371,25.84998551301292,25.75067172575258,25.73518350897051,26.17808136737757,26.17615604019198,27.335242434314456,27.584628049201072,27.88332975741381,27.887290268784486,27.648157835457365],\"type\":\"scatter\"}],                        {\"template\":{\"data\":{\"histogram2dcontour\":[{\"type\":\"histogram2dcontour\",\"colorbar\":{\"outlinewidth\":0,\"ticks\":\"\"},\"colorscale\":[[0.0,\"#0d0887\"],[0.1111111111111111,\"#46039f\"],[0.2222222222222222,\"#7201a8\"],[0.3333333333333333,\"#9c179e\"],[0.4444444444444444,\"#bd3786\"],[0.5555555555555556,\"#d8576b\"],[0.6666666666666666,\"#ed7953\"],[0.7777777777777778,\"#fb9f3a\"],[0.8888888888888888,\"#fdca26\"],[1.0,\"#f0f921\"]]}],\"choropleth\":[{\"type\":\"choropleth\",\"colorbar\":{\"outlinewidth\":0,\"ticks\":\"\"}}],\"histogram2d\":[{\"type\":\"histogram2d\",\"colorbar\":{\"outlinewidth\":0,\"ticks\":\"\"},\"colorscale\":[[0.0,\"#0d0887\"],[0.1111111111111111,\"#46039f\"],[0.2222222222222222,\"#7201a8\"],[0.3333333333333333,\"#9c179e\"],[0.4444444444444444,\"#bd3786\"],[0.5555555555555556,\"#d8576b\"],[0.6666666666666666,\"#ed7953\"],[0.7777777777777778,\"#fb9f3a\"],[0.8888888888888888,\"#fdca26\"],[1.0,\"#f0f921\"]]}],\"heatmap\":[{\"type\":\"heatmap\",\"colorbar\":{\"outlinewidth\":0,\"ticks\":\"\"},\"colorscale\":[[0.0,\"#0d0887\"],[0.1111111111111111,\"#46039f\"],[0.2222222222222222,\"#7201a8\"],[0.3333333333333333,\"#9c179e\"],[0.4444444444444444,\"#bd3786\"],[0.5555555555555556,\"#d8576b\"],[0.6666666666666666,\"#ed7953\"],[0.7777777777777778,\"#fb9f3a\"],[0.8888888888888888,\"#fdca26\"],[1.0,\"#f0f921\"]]}],\"heatmapgl\":[{\"type\":\"heatmapgl\",\"colorbar\":{\"outlinewidth\":0,\"ticks\":\"\"},\"colorscale\":[[0.0,\"#0d0887\"],[0.1111111111111111,\"#46039f\"],[0.2222222222222222,\"#7201a8\"],[0.3333333333333333,\"#9c179e\"],[0.4444444444444444,\"#bd3786\"],[0.5555555555555556,\"#d8576b\"],[0.6666666666666666,\"#ed7953\"],[0.7777777777777778,\"#fb9f3a\"],[0.8888888888888888,\"#fdca26\"],[1.0,\"#f0f921\"]]}],\"contourcarpet\":[{\"type\":\"contourcarpet\",\"colorbar\":{\"outlinewidth\":0,\"ticks\":\"\"}}],\"contour\":[{\"type\":\"contour\",\"colorbar\":{\"outlinewidth\":0,\"ticks\":\"\"},\"colorscale\":[[0.0,\"#0d0887\"],[0.1111111111111111,\"#46039f\"],[0.2222222222222222,\"#7201a8\"],[0.3333333333333333,\"#9c179e\"],[0.4444444444444444,\"#bd3786\"],[0.5555555555555556,\"#d8576b\"],[0.6666666666666666,\"#ed7953\"],[0.7777777777777778,\"#fb9f3a\"],[0.8888888888888888,\"#fdca26\"],[1.0,\"#f0f921\"]]}],\"surface\":[{\"type\":\"surface\",\"colorbar\":{\"outlinewidth\":0,\"ticks\":\"\"},\"colorscale\":[[0.0,\"#0d0887\"],[0.1111111111111111,\"#46039f\"],[0.2222222222222222,\"#7201a8\"],[0.3333333333333333,\"#9c179e\"],[0.4444444444444444,\"#bd3786\"],[0.5555555555555556,\"#d8576b\"],[0.6666666666666666,\"#ed7953\"],[0.7777777777777778,\"#fb9f3a\"],[0.8888888888888888,\"#fdca26\"],[1.0,\"#f0f921\"]]}],\"mesh3d\":[{\"type\":\"mesh3d\",\"colorbar\":{\"outlinewidth\":0,\"ticks\":\"\"}}],\"scatter\":[{\"fillpattern\":{\"fillmode\":\"overlay\",\"size\":10,\"solidity\":0.2},\"type\":\"scatter\"}],\"parcoords\":[{\"type\":\"parcoords\",\"line\":{\"colorbar\":{\"outlinewidth\":0,\"ticks\":\"\"}}}],\"scatterpolargl\":[{\"type\":\"scatterpolargl\",\"marker\":{\"colorbar\":{\"outlinewidth\":0,\"ticks\":\"\"}}}],\"bar\":[{\"error_x\":{\"color\":\"#2a3f5f\"},\"error_y\":{\"color\":\"#2a3f5f\"},\"marker\":{\"line\":{\"color\":\"#E5ECF6\",\"width\":0.5},\"pattern\":{\"fillmode\":\"overlay\",\"size\":10,\"solidity\":0.2}},\"type\":\"bar\"}],\"scattergeo\":[{\"type\":\"scattergeo\",\"marker\":{\"colorbar\":{\"outlinewidth\":0,\"ticks\":\"\"}}}],\"scatterpolar\":[{\"type\":\"scatterpolar\",\"marker\":{\"colorbar\":{\"outlinewidth\":0,\"ticks\":\"\"}}}],\"histogram\":[{\"marker\":{\"pattern\":{\"fillmode\":\"overlay\",\"size\":10,\"solidity\":0.2}},\"type\":\"histogram\"}],\"scattergl\":[{\"type\":\"scattergl\",\"marker\":{\"colorbar\":{\"outlinewidth\":0,\"ticks\":\"\"}}}],\"scatter3d\":[{\"type\":\"scatter3d\",\"line\":{\"colorbar\":{\"outlinewidth\":0,\"ticks\":\"\"}},\"marker\":{\"colorbar\":{\"outlinewidth\":0,\"ticks\":\"\"}}}],\"scattermapbox\":[{\"type\":\"scattermapbox\",\"marker\":{\"colorbar\":{\"outlinewidth\":0,\"ticks\":\"\"}}}],\"scatterternary\":[{\"type\":\"scatterternary\",\"marker\":{\"colorbar\":{\"outlinewidth\":0,\"ticks\":\"\"}}}],\"scattercarpet\":[{\"type\":\"scattercarpet\",\"marker\":{\"colorbar\":{\"outlinewidth\":0,\"ticks\":\"\"}}}],\"carpet\":[{\"aaxis\":{\"endlinecolor\":\"#2a3f5f\",\"gridcolor\":\"white\",\"linecolor\":\"white\",\"minorgridcolor\":\"white\",\"startlinecolor\":\"#2a3f5f\"},\"baxis\":{\"endlinecolor\":\"#2a3f5f\",\"gridcolor\":\"white\",\"linecolor\":\"white\",\"minorgridcolor\":\"white\",\"startlinecolor\":\"#2a3f5f\"},\"type\":\"carpet\"}],\"table\":[{\"cells\":{\"fill\":{\"color\":\"#EBF0F8\"},\"line\":{\"color\":\"white\"}},\"header\":{\"fill\":{\"color\":\"#C8D4E3\"},\"line\":{\"color\":\"white\"}},\"type\":\"table\"}],\"barpolar\":[{\"marker\":{\"line\":{\"color\":\"#E5ECF6\",\"width\":0.5},\"pattern\":{\"fillmode\":\"overlay\",\"size\":10,\"solidity\":0.2}},\"type\":\"barpolar\"}],\"pie\":[{\"automargin\":true,\"type\":\"pie\"}]},\"layout\":{\"autotypenumbers\":\"strict\",\"colorway\":[\"#636efa\",\"#EF553B\",\"#00cc96\",\"#ab63fa\",\"#FFA15A\",\"#19d3f3\",\"#FF6692\",\"#B6E880\",\"#FF97FF\",\"#FECB52\"],\"font\":{\"color\":\"#2a3f5f\"},\"hovermode\":\"closest\",\"hoverlabel\":{\"align\":\"left\"},\"paper_bgcolor\":\"white\",\"plot_bgcolor\":\"#E5ECF6\",\"polar\":{\"bgcolor\":\"#E5ECF6\",\"angularaxis\":{\"gridcolor\":\"white\",\"linecolor\":\"white\",\"ticks\":\"\"},\"radialaxis\":{\"gridcolor\":\"white\",\"linecolor\":\"white\",\"ticks\":\"\"}},\"ternary\":{\"bgcolor\":\"#E5ECF6\",\"aaxis\":{\"gridcolor\":\"white\",\"linecolor\":\"white\",\"ticks\":\"\"},\"baxis\":{\"gridcolor\":\"white\",\"linecolor\":\"white\",\"ticks\":\"\"},\"caxis\":{\"gridcolor\":\"white\",\"linecolor\":\"white\",\"ticks\":\"\"}},\"coloraxis\":{\"colorbar\":{\"outlinewidth\":0,\"ticks\":\"\"}},\"colorscale\":{\"sequential\":[[0.0,\"#0d0887\"],[0.1111111111111111,\"#46039f\"],[0.2222222222222222,\"#7201a8\"],[0.3333333333333333,\"#9c179e\"],[0.4444444444444444,\"#bd3786\"],[0.5555555555555556,\"#d8576b\"],[0.6666666666666666,\"#ed7953\"],[0.7777777777777778,\"#fb9f3a\"],[0.8888888888888888,\"#fdca26\"],[1.0,\"#f0f921\"]],\"sequentialminus\":[[0.0,\"#0d0887\"],[0.1111111111111111,\"#46039f\"],[0.2222222222222222,\"#7201a8\"],[0.3333333333333333,\"#9c179e\"],[0.4444444444444444,\"#bd3786\"],[0.5555555555555556,\"#d8576b\"],[0.6666666666666666,\"#ed7953\"],[0.7777777777777778,\"#fb9f3a\"],[0.8888888888888888,\"#fdca26\"],[1.0,\"#f0f921\"]],\"diverging\":[[0,\"#8e0152\"],[0.1,\"#c51b7d\"],[0.2,\"#de77ae\"],[0.3,\"#f1b6da\"],[0.4,\"#fde0ef\"],[0.5,\"#f7f7f7\"],[0.6,\"#e6f5d0\"],[0.7,\"#b8e186\"],[0.8,\"#7fbc41\"],[0.9,\"#4d9221\"],[1,\"#276419\"]]},\"xaxis\":{\"gridcolor\":\"white\",\"linecolor\":\"white\",\"ticks\":\"\",\"title\":{\"standoff\":15},\"zerolinecolor\":\"white\",\"automargin\":true,\"zerolinewidth\":2},\"yaxis\":{\"gridcolor\":\"white\",\"linecolor\":\"white\",\"ticks\":\"\",\"title\":{\"standoff\":15},\"zerolinecolor\":\"white\",\"automargin\":true,\"zerolinewidth\":2},\"scene\":{\"xaxis\":{\"backgroundcolor\":\"#E5ECF6\",\"gridcolor\":\"white\",\"linecolor\":\"white\",\"showbackground\":true,\"ticks\":\"\",\"zerolinecolor\":\"white\",\"gridwidth\":2},\"yaxis\":{\"backgroundcolor\":\"#E5ECF6\",\"gridcolor\":\"white\",\"linecolor\":\"white\",\"showbackground\":true,\"ticks\":\"\",\"zerolinecolor\":\"white\",\"gridwidth\":2},\"zaxis\":{\"backgroundcolor\":\"#E5ECF6\",\"gridcolor\":\"white\",\"linecolor\":\"white\",\"showbackground\":true,\"ticks\":\"\",\"zerolinecolor\":\"white\",\"gridwidth\":2}},\"shapedefaults\":{\"line\":{\"color\":\"#2a3f5f\"}},\"annotationdefaults\":{\"arrowcolor\":\"#2a3f5f\",\"arrowhead\":0,\"arrowwidth\":1},\"geo\":{\"bgcolor\":\"white\",\"landcolor\":\"#E5ECF6\",\"subunitcolor\":\"white\",\"showland\":true,\"showlakes\":true,\"lakecolor\":\"white\"},\"title\":{\"x\":0.05},\"mapbox\":{\"style\":\"light\"}}},\"title\":{\"text\":\"PLS\"},\"xaxis\":{\"title\":{\"text\":\"\\u0414\\u0430\\u0442\\u0430\"}},\"yaxis\":{\"title\":{\"text\":\"\\u0421\\u0442\\u043e\\u0438\\u043c\\u043e\\u0441\\u0442\\u044c\"}}},                        {\"responsive\": true}                    ).then(function(){\n",
              "                            \n",
              "var gd = document.getElementById('d0246b44-9056-4606-ba6a-6b340c1c17b6');\n",
              "var x = new MutationObserver(function (mutations, observer) {{\n",
              "        var display = window.getComputedStyle(gd).display;\n",
              "        if (!display || display === 'none') {{\n",
              "            console.log([gd, 'removed!']);\n",
              "            Plotly.purge(gd);\n",
              "            observer.disconnect();\n",
              "        }}\n",
              "}});\n",
              "\n",
              "// Listen for the removal of the full notebook cells\n",
              "var notebookContainer = gd.closest('#notebook-container');\n",
              "if (notebookContainer) {{\n",
              "    x.observe(notebookContainer, {childList: true});\n",
              "}}\n",
              "\n",
              "// Listen for the clearing of the current output cell\n",
              "var outputEl = gd.closest('.output');\n",
              "if (outputEl) {{\n",
              "    x.observe(outputEl, {childList: true});\n",
              "}}\n",
              "\n",
              "                        })                };                            </script>        </div>\n",
              "</body>\n",
              "</html>"
            ]
          },
          "metadata": {}
        }
      ]
    },
    {
      "cell_type": "code",
      "source": [
        "print(\"PLS train rmse:\", sqrt(mean_squared_error(train['y'], res_y_train)))\n",
        "print(\"PLS test rmse:\", sqrt(mean_squared_error(test['y'], res_y_test)))"
      ],
      "metadata": {
        "colab": {
          "base_uri": "https://localhost:8080/"
        },
        "id": "KtfLOneNGEfB",
        "outputId": "67d31b1e-60bb-4e02-93cc-4aa698fd785d"
      },
      "execution_count": 453,
      "outputs": [
        {
          "output_type": "stream",
          "name": "stdout",
          "text": [
            "PLS train rmse: 0.4811116560987523\n",
            "PLS test rmse: 0.5009332525361249\n"
          ]
        }
      ]
    }
  ]
}